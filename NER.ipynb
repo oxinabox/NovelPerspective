{
 "cells": [
  {
   "cell_type": "code",
   "execution_count": 86,
   "metadata": {
    "collapsed": false
   },
   "outputs": [],
   "source": [
    "import nltk\n",
    "from pprint import pprint\n",
    "from collections import Counter\n",
    "import itertools as it\n",
    "def pairwise(iterable):\n",
    "    \"s -> (s0,s1), (s1,s2), (s2, s3), ...\"\n",
    "    a, b = it.tee(iterable)\n",
    "    next(b, None)\n",
    "    return zip(a, b)\n",
    "\n",
    "from functools import reduce"
   ]
  },
  {
   "cell_type": "code",
   "execution_count": 87,
   "metadata": {
    "collapsed": true
   },
   "outputs": [],
   "source": [
    "from sample_chapters import *"
   ]
  },
  {
   "cell_type": "code",
   "execution_count": 88,
   "metadata": {
    "collapsed": false
   },
   "outputs": [],
   "source": [
    "def ne_preprocess(raw_text):\n",
    "    sents = nltk.sent_tokenize(raw_text)\n",
    "    tokenised_sents = [nltk.word_tokenize(sent) for sent in sents]\n",
    "    tagged_sents = nltk.pos_tag_sents(tokenised_sents)\n",
    "    ne_sents = nltk.ne_chunk_sents(tagged_sents, binary=True)\n",
    "    return ne_sents"
   ]
  },
  {
   "cell_type": "code",
   "execution_count": 189,
   "metadata": {
    "collapsed": false
   },
   "outputs": [],
   "source": [
    "def get_name(ne_tree):\n",
    "    return \" \".join([tagged_leaf[0] for tagged_leaf in ne_tree.leaves()])\n",
    "    \n",
    "def get_named_entities(sent):\n",
    "    for subsent in sent.subtrees(lambda ss:ss.label()=='NE'):\n",
    "        yield get_name(subsent)\n"
   ]
  },
  {
   "cell_type": "code",
   "execution_count": 190,
   "metadata": {
    "collapsed": false
   },
   "outputs": [],
   "source": [
    "def get_main_character_by_voting(raw_text, breakdown=False, vote_over=get_named_entities):\n",
    "    ne_sents = ne_preprocess(raw_text)\n",
    "\n",
    "    votes=Counter(it.chain(*[vote_over(sent) for sent in ne_sents]))\n",
    "    if breakdown:\n",
    "        return votes\n",
    "    else:\n",
    "        if len(votes)>0:\n",
    "            return votes.most_common(1)[0][0]\n",
    "        else:\n",
    "            return None\n"
   ]
  },
  {
   "cell_type": "code",
   "execution_count": 211,
   "metadata": {
    "collapsed": false
   },
   "outputs": [],
   "source": [
    "VERBS = frozenset({\"MD\",\"VB\",\"VBD\",\"VBG\",\"VBN\",\"VBP\",\"VBZ\"})\n",
    "def patterned_name_entities(ne_sent):\n",
    "    for e1,e2 in pairwise(ne_sent):\n",
    "        if type(e1)!=nltk.tree.Tree or e1.label()!='NE':\n",
    "            continue\n",
    "        \n",
    "        if type(e2)==tuple and e2[1] in VERBS:\n",
    "            \n",
    "            yield get_name(e1)"
   ]
  },
  {
   "cell_type": "code",
   "execution_count": 212,
   "metadata": {
    "collapsed": false,
    "scrolled": true
   },
   "outputs": [
    {
     "name": "stdout",
     "output_type": "stream",
     "text": [
      "Rand\n",
      "Renarr\n",
      "Renarr\n",
      "Havaral\n",
      "Havaral\n",
      "Tug\n"
     ]
    }
   ],
   "source": [
    "print(get_main_character_by_voting(sample_memoriesoflight_rand,vote_over=patterned_name_entities))\n",
    "print(get_main_character_by_voting(sample_falloflight_renarr_1,vote_over=patterned_name_entities))\n",
    "print(get_main_character_by_voting(sample_falloflight_Renarr_2,vote_over=patterned_name_entities))\n",
    "print(get_main_character_by_voting(sample_falloflight_havaral_1,vote_over=patterned_name_entities))\n",
    "print(get_main_character_by_voting(sample_falloflight_havaral_2,vote_over=patterned_name_entities))\n",
    "print(get_main_character_by_voting(sample_falloflight_none,vote_over=patterned_name_entities))"
   ]
  },
  {
   "cell_type": "code",
   "execution_count": null,
   "metadata": {
    "collapsed": true
   },
   "outputs": [],
   "source": []
  },
  {
   "cell_type": "code",
   "execution_count": 197,
   "metadata": {
    "collapsed": true
   },
   "outputs": [],
   "source": [
    "import json\n",
    "from collections import defaultdict"
   ]
  },
  {
   "cell_type": "code",
   "execution_count": 217,
   "metadata": {
    "collapsed": false
   },
   "outputs": [],
   "source": [
    "annotated_data = []\n",
    "\n",
    "def load_append(fn):    \n",
    "    with open(fn,\"r\") as fh:\n",
    "        annotated_data.extend(json.load(fh))\n",
    "        \n",
    "load_append(\"test_data/asoiaf01-04.json\")\n",
    "load_append(\"test_data/aDwD.json\")\n",
    "load_append(\"test_data/Rick Riordan - [Heroes of Olympus 02] - The Son of Neptune (epub).json\")\n",
    "load_append(\"test_data/Rick Riordan - [Heroes of Olympus 05] - The Blood of Olympus (epub).json\")\n",
    "load_append(\"test_data/Leigh Bardugo - [Dregs 01] - Six of Crows.json\")\n",
    "\n",
    "#load_append(\"test_data/Jonathan Stroud - [Bartimaeus 01] - The Amulet of Samarkand.json\")\n",
    "#load_append(\"test_data/Jonathan Stroud - [Bartimaeus 02] - The Golem's Eye.json\")\n",
    "#load_append(\"test_data/Jonathan Stroud - [Bartimaeus 03] - Ptolemy's Gate.json\")\n",
    "#load_append(\"test_data/Jonathan Stroud - [Bartimaeus 04] - The Ring of Solomon.json\")\n",
    "\n"
   ]
  },
  {
   "cell_type": "code",
   "execution_count": 218,
   "metadata": {
    "collapsed": false
   },
   "outputs": [],
   "source": [
    "unique_texts=set(datum['text'] for datum in annotated_data)\n",
    "assert len(annotated_data)==len(unique_texts)"
   ]
  },
  {
   "cell_type": "code",
   "execution_count": 219,
   "metadata": {
    "collapsed": false
   },
   "outputs": [],
   "source": [
    "reference_characters = [datum['character'] for datum in annotated_data]"
   ]
  },
  {
   "cell_type": "code",
   "execution_count": 220,
   "metadata": {
    "collapsed": false
   },
   "outputs": [],
   "source": [
    "#reference_characters"
   ]
  },
  {
   "cell_type": "code",
   "execution_count": 225,
   "metadata": {
    "collapsed": false
   },
   "outputs": [],
   "source": [
    "output_characters = [get_main_character_by_voting(datum['text'], vote_over=get_named_entities) for datum in annotated_data]\n"
   ]
  },
  {
   "cell_type": "code",
   "execution_count": 226,
   "metadata": {
    "collapsed": false
   },
   "outputs": [],
   "source": [
    "name2nicknames = defaultdict(lambda:tuple(),{\n",
    "    \"Daenerys\": {\"Dany\",},\n",
    "    \"Eddard\" : {\"Ned\"},\n",
    "    \"Samwell\" :{\"Sam\"},\n",
    "})\n",
    "\n",
    "def correct(actual, ref):\n",
    "    return actual==ref or actual in name2nicknames[ref]   "
   ]
  },
  {
   "cell_type": "code",
   "execution_count": 227,
   "metadata": {
    "collapsed": false,
    "scrolled": true
   },
   "outputs": [
    {
     "data": {
      "text/plain": [
       "[(3, 'Robert', 'Eddard'),\n",
       " (11, 'Robert', 'Eddard'),\n",
       " (38, 'Robert', 'Eddard'),\n",
       " (41, 'Bronn', 'Tyrion'),\n",
       " (62, 'Robb', 'Catelyn'),\n",
       " (104, 'Brienne', 'Catelyn'),\n",
       " (125, 'Cersei', 'Tyrion'),\n",
       " (127, 'Asha', 'Theon'),\n",
       " (143, 'Gendry', 'Arya'),\n",
       " (151, 'Brienne', 'Jaime'),\n",
       " (154, 'Robb', 'Catelyn'),\n",
       " (160, 'Robb', 'Catelyn'),\n",
       " (171, 'Brienne', 'Jaime'),\n",
       " (174, 'Hound', 'Arya'),\n",
       " (177, 'Brienne', 'Jaime'),\n",
       " (179, 'Lord Beric', 'Arya'),\n",
       " (185, 'Robb', 'Catelyn'),\n",
       " (189, 'Robb', 'Catelyn'),\n",
       " (193, 'Cersei', 'Tyrion'),\n",
       " (207, 'Kingsguard', 'Jaime'),\n",
       " (260, 'Illyrio', 'Tyrion'),\n",
       " (314, 'Percy', 'Hazel'),\n",
       " (324, 'Frank', 'Hazel'),\n",
       " (331, 'Phineas', 'Percy'),\n",
       " (342, 'Frank', 'Percy'),\n",
       " (353, 'Percy', 'Frank'),\n",
       " (380, 'Hylla', 'Reyna'),\n",
       " (385, 'Percy', 'Jason'),\n",
       " (387, 'Reyna', 'Nico'),\n",
       " (390, 'Apollo', 'Leo'),\n",
       " (391, 'Apollo', 'Leo'),\n",
       " (401, 'Jason', 'Piper'),\n",
       " (417, 'Kaz', 'Inej'),\n",
       " (419, 'Kaz', 'Inej'),\n",
       " (433, 'Jordie', 'Kaz'),\n",
       " (443, 'Nina', 'Inej'),\n",
       " (456, 'Nina', 'Matthias'),\n",
       " (457, 'Nina', 'Inej'),\n",
       " (458, 'Kuwei', 'Nina'),\n",
       " (460, 'Van Eck', 'Kaz'),\n",
       " (461, 'Rollins', 'Pekka')]"
      ]
     },
     "execution_count": 227,
     "metadata": {},
     "output_type": "execute_result"
    }
   ],
   "source": [
    "errors = [(index, actual, ref) for index, (actual, ref) in enumerate(zip(output_characters, reference_characters)) \n",
    "    if not (correct(actual,ref))]\n",
    "errors"
   ]
  },
  {
   "cell_type": "code",
   "execution_count": 228,
   "metadata": {
    "collapsed": false
   },
   "outputs": [
    {
     "data": {
      "text/plain": [
       "0.08874458874458875"
      ]
     },
     "execution_count": 228,
     "metadata": {},
     "output_type": "execute_result"
    }
   ],
   "source": [
    "len(errors)/len(reference_characters)"
   ]
  },
  {
   "cell_type": "code",
   "execution_count": 230,
   "metadata": {
    "collapsed": false
   },
   "outputs": [
    {
     "ename": "SyntaxError",
     "evalue": "unexpected EOF while parsing (<ipython-input-230-31f149eda328>, line 32)",
     "output_type": "error",
     "traceback": [
      "\u001b[1;36m  File \u001b[1;32m\"<ipython-input-230-31f149eda328>\"\u001b[1;36m, line \u001b[1;32m32\u001b[0m\n\u001b[1;33m    #\u001b[0m\n\u001b[1;37m     ^\u001b[0m\n\u001b[1;31mSyntaxError\u001b[0m\u001b[1;31m:\u001b[0m unexpected EOF while parsing\n"
     ]
    }
   ],
   "source": [
    "#Basic Voting 0.08874458874458875\n",
    "[(3, 'Robert', 'Eddard'),\n",
    " (11, 'Robert', 'Eddard'),\n",
    " (38, 'Robert', 'Eddard'),\n",
    " (41, 'Bronn', 'Tyrion'),\n",
    " (62, 'Robb', 'Catelyn'),\n",
    " (104, 'Brienne', 'Catelyn'),\n",
    " (125, 'Cersei', 'Tyrion'),\n",
    " (127, 'Asha', 'Theon'),\n",
    " (143, 'Gendry', 'Arya'),\n",
    " (151, 'Brienne', 'Jaime'),\n",
    " (154, 'Robb', 'Catelyn'),\n",
    " (160, 'Robb', 'Catelyn'),\n",
    " (171, 'Brienne', 'Jaime'),\n",
    " (174, 'Hound', 'Arya'),\n",
    " (177, 'Brienne', 'Jaime'),\n",
    " (179, 'Lord Beric', 'Arya'),\n",
    " (185, 'Robb', 'Catelyn'),\n",
    " (189, 'Robb', 'Catelyn'),\n",
    " (193, 'Cersei', 'Tyrion'),\n",
    " (207, 'Kingsguard', 'Jaime'),\n",
    " (260, 'Illyrio', 'Tyrion'),\n",
    " (314, 'Percy', 'Hazel'),\n",
    " (324, 'Frank', 'Hazel'),\n",
    " (331, 'Phineas', 'Percy'),\n",
    " (342, 'Frank', 'Percy'),\n",
    " (353, 'Percy', 'Frank'),\n",
    " (380, 'Hylla', 'Reyna'),\n",
    " (385, 'Percy', 'Jason'),\n",
    " (387, 'Reyna', 'Nico'),\n",
    " (390, 'Apollo', 'Leo'),\n",
    " (391, 'Apollo', 'Leo'),\n",
    " (401, 'Jason', 'Piper'),\n",
    " (417, 'Kaz', 'Inej'),\n",
    " (419, 'Kaz', 'Inej'),\n",
    " (433, 'Jordie', 'Kaz'),\n",
    " (443, 'Nina', 'Inej'),\n",
    " (456, 'Nina', 'Matthias'),\n",
    " (457, 'Nina', 'Inej'),\n",
    " (458, 'Kuwei', 'Nina'),\n",
    " (460, 'Van Eck', 'Kaz'),\n",
    " (461, 'Rollins', 'Pekka')]\n",
    "\n",
    "\n",
    "#VERBs after Errors: 0.06493506493506493\n",
    "[(3, 'Robert', 'Eddard'),\n",
    " (11, 'Robert', 'Eddard'),\n",
    " (38, 'Robert', 'Eddard'),\n",
    " (41, 'Bronn', 'Tyrion'),\n",
    " (151, 'Brienne', 'Jaime'),\n",
    " (160, 'Robb', 'Catelyn'),\n",
    " (171, 'Qyburn', 'Jaime'),\n",
    " (174, 'Hound', 'Arya'),\n",
    " (177, 'Bolton', 'Jaime'),\n",
    " (193, 'Lord Tywin', 'Tyrion'),\n",
    " (205, 'Hound', 'Arya'),\n",
    " (314, 'Percy', 'Hazel'),\n",
    " (324, 'Frank', 'Hazel'),\n",
    " (331, 'Phineas', 'Percy'),\n",
    " (333, 'Phineas', 'Percy'),\n",
    " (342, 'Frank', 'Percy'),\n",
    " (353, 'Percy', 'Frank'),\n",
    " (380, 'Hylla', 'Reyna'),\n",
    " (385, 'Percy', 'Jason'),\n",
    " (387, 'Bryce', 'Nico'),\n",
    " (390, 'Apollo', 'Leo'),\n",
    " (393, 'Asclepius', 'Leo'),\n",
    " (401, 'Hazel', 'Piper'),\n",
    " (407, 'Zeus', 'Jason'),\n",
    " (419, 'Kaz', 'Inej'),\n",
    " (433, 'Jordie', 'Kaz'),\n",
    " (456, 'Nina', 'Matthias'),\n",
    " (457, 'Nina', 'Inej'),\n",
    " (458, 'Kuwei', 'Nina'),\n",
    " (461, 'Rollins', 'Pekka'\n",
    "#"
   ]
  },
  {
   "cell_type": "code",
   "execution_count": 231,
   "metadata": {
    "collapsed": false,
    "scrolled": true
   },
   "outputs": [
    {
     "data": {
      "text/plain": [
       "[('Catelyn', 11),\n",
       " ('Ned', 7),\n",
       " ('Eyrie', 4),\n",
       " ('Riverrun', 4),\n",
       " ('Starks', 3),\n",
       " ('Worship', 2),\n",
       " ('Jon', 2),\n",
       " ('Robert', 2),\n",
       " ('Bran', 2),\n",
       " ('Winterfell', 2)]"
      ]
     },
     "execution_count": 231,
     "metadata": {},
     "output_type": "execute_result"
    }
   ],
   "source": [
    "get_main_character_by_voting(annotated_data[1]['text'],True).most_common(10)"
   ]
  },
  {
   "cell_type": "code",
   "execution_count": null,
   "metadata": {
    "collapsed": false
   },
   "outputs": [],
   "source": [
    "text = list(ne_preprocess( annotated_data[1]['text']))"
   ]
  },
  {
   "cell_type": "code",
   "execution_count": null,
   "metadata": {
    "collapsed": true
   },
   "outputs": [],
   "source": []
  },
  {
   "cell_type": "code",
   "execution_count": null,
   "metadata": {
    "collapsed": true
   },
   "outputs": [],
   "source": []
  },
  {
   "cell_type": "code",
   "execution_count": null,
   "metadata": {
    "collapsed": false
   },
   "outputs": [],
   "source": [
    "print(type(text[0]))"
   ]
  },
  {
   "cell_type": "code",
   "execution_count": null,
   "metadata": {
    "collapsed": false
   },
   "outputs": [],
   "source": []
  },
  {
   "cell_type": "code",
   "execution_count": null,
   "metadata": {
    "collapsed": true
   },
   "outputs": [],
   "source": []
  }
 ],
 "metadata": {
  "kernelspec": {
   "display_name": "Python 3",
   "language": "python",
   "name": "python3"
  },
  "language_info": {
   "codemirror_mode": {
    "name": "ipython",
    "version": 3
   },
   "file_extension": ".py",
   "mimetype": "text/x-python",
   "name": "python",
   "nbconvert_exporter": "python",
   "pygments_lexer": "ipython3",
   "version": "3.4.2"
  }
 },
 "nbformat": 4,
 "nbformat_minor": 0
}
