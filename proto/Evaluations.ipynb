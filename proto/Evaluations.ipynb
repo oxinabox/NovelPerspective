{
 "cells": [
  {
   "cell_type": "code",
   "execution_count": 1,
   "metadata": {},
   "outputs": [],
   "source": [
    "from sklearn.pipeline import make_pipeline\n",
    "from sklearn.preprocessing import *\n",
    "from sklearn.linear_model import LogisticRegression\n",
    "from sklearn.ensemble import ExtraTreesClassifier, GradientBoostingClassifier\n",
    "from sklearn.model_selection import train_test_split\n",
    "from sklearn.pipeline import make_pipeline, make_union\n",
    "from tpot.builtins import StackingEstimator"
   ]
  },
  {
   "cell_type": "code",
   "execution_count": 2,
   "metadata": {},
   "outputs": [],
   "source": [
    "import numpy as np\n",
    "\n",
    "from collections import Counter, defaultdict\n",
    "\n",
    "import json\n",
    "from xgboost import XGBClassifier\n",
    "from sklearn.metrics import *\n",
    "from sklearn.model_selection import cross_val_score\n",
    "from sklearn.externals import joblib\n",
    "\n",
    "from feature_extraction import *\n",
    "from classify import *\n",
    "from book import *"
   ]
  },
  {
   "cell_type": "code",
   "execution_count": 3,
   "metadata": {},
   "outputs": [
    {
     "name": "stdout",
     "output_type": "stream",
     "text": [
      "ann_comb, ann_SOC, ann_ASOIAF, ann_SA\n",
      "lengths:  [622, 91, 256, 275]\n",
      "POVs:  30 9 15 6\n"
     ]
    }
   ],
   "source": [
    "from evaluation import *"
   ]
  },
  {
   "cell_type": "code",
   "execution_count": null,
   "metadata": {},
   "outputs": [],
   "source": []
  },
  {
   "cell_type": "markdown",
   "metadata": {},
   "source": [
    "# Evaluation Program"
   ]
  },
  {
   "cell_type": "code",
   "execution_count": 4,
   "metadata": {},
   "outputs": [],
   "source": [
    "import pandas as pd\n",
    "\n",
    "def all_metrics(tt,pp):\n",
    "    #prf = precision_recall_fscore_support(tt,pp, average='micro', labels=np.unique(tt))[0:3]\n",
    "    acc = accuracy_score(tt,pp)\n",
    "    return acc #np.hstack([prf, acc])\n",
    "\n",
    "all_metrics_names = [\"Acc\"]"
   ]
  },
  {
   "cell_type": "code",
   "execution_count": 8,
   "metadata": {},
   "outputs": [],
   "source": [
    "def make_classic_classifier():\n",
    "    return make_pipeline(\n",
    "    MaxAbsScaler(),\n",
    "    LogisticRegression(C=1, dual=False, penalty=\"l2\")\n",
    ")\n",
    "\n",
    "def make_highdim_classifier():\n",
    "    return make_pipeline(\n",
    "        StackingEstimator(estimator=ExtraTreesClassifier(bootstrap=False, criterion=\"gini\", max_features=0.1, min_samples_leaf=19, min_samples_split=19, n_estimators=100)),\n",
    "        GradientBoostingClassifier(learning_rate=0.1, max_depth=10, max_features=0.2, min_samples_leaf=2, min_samples_split=3, n_estimators=100, subsample=0.1)\n",
    "    )\n",
    "\n",
    "\n",
    "WE_mdl = lambda: MLCharacterSolver(make_highdim_classifier(), nicknames2name_comb, get_embedding_features)\n",
    "CL_mdl = lambda: MLCharacterSolver(make_classic_classifier(), nicknames2name_comb)\n",
    "HY_mdl = lambda: MLCharacterSolver(make_highdim_classifier(), nicknames2name_comb, hybrid_features)\n",
    "\n",
    "\n",
    "FM_mdl = lambda: FirstMentionedSolver(nicknames2name_comb)\n",
    "MC_mdl = lambda: MostMentionedSolver(nicknames2name_comb)\n",
    "\n",
    "datasets = [(\"ASOIAF\", ann_ASOIAF), (\"SOC\", ann_SOC)]\n",
    "supdatasets = [(\"SA\", ann_SA)]\n",
    "base_mdls = [(\"ML Classical Features\", CL_mdl),\n",
    "             (\"ML Hybrid Features\", HY_mdl),\n",
    "             (\"ML Word Emb. Features\", WE_mdl),\n",
    "             (\"First Mentioned\", FM_mdl),\n",
    "             (\"Most Commonly Mentioned\", MC_mdl)\n",
    "       ]"
   ]
  },
  {
   "cell_type": "markdown",
   "metadata": {
    "collapsed": true
   },
   "source": [
    "## main eval"
   ]
  },
  {
   "cell_type": "code",
   "execution_count": 9,
   "metadata": {},
   "outputs": [
    {
     "name": "stdout",
     "output_type": "stream",
     "text": [
      "('ASOIAF', 'First Mentioned', '---')  0.25\n",
      "('ASOIAF', 'ML Classical Features', 'SOC')  0.95703125\n",
      "('ASOIAF', 'ML Hybrid Features', 'SOC')  0.94921875\n",
      "('ASOIAF', 'ML Word Emb. Features', 'SOC')  0.82421875\n",
      "('ASOIAF', 'Most Commonly Mentioned', '---')  0.9140625\n",
      "('SOC', 'First Mentioned', '---')  0.42857142857142855\n",
      "('SOC', 'ML Classical Features', 'ASOIAF')  0.9230769230769231\n",
      "('SOC', 'ML Hybrid Features', 'ASOIAF')  0.6263736263736264\n",
      "('SOC', 'ML Word Emb. Features', 'ASOIAF')  0.31868131868131866\n",
      "('SOC', 'Most Commonly Mentioned', '---')  0.7802197802197802\n"
     ]
    },
    {
     "data": {
      "text/html": [
       "<div>\n",
       "<style scoped>\n",
       "    .dataframe tbody tr th:only-of-type {\n",
       "        vertical-align: middle;\n",
       "    }\n",
       "\n",
       "    .dataframe tbody tr th {\n",
       "        vertical-align: top;\n",
       "    }\n",
       "\n",
       "    .dataframe thead th {\n",
       "        text-align: right;\n",
       "    }\n",
       "</style>\n",
       "<table border=\"1\" class=\"dataframe\">\n",
       "  <thead>\n",
       "    <tr style=\"text-align: right;\">\n",
       "      <th></th>\n",
       "      <th></th>\n",
       "      <th></th>\n",
       "      <th>Acc</th>\n",
       "    </tr>\n",
       "  </thead>\n",
       "  <tbody>\n",
       "    <tr>\n",
       "      <th rowspan=\"5\" valign=\"top\">ASOIAF</th>\n",
       "      <th>First Mentioned</th>\n",
       "      <th>---</th>\n",
       "      <td>0.25</td>\n",
       "    </tr>\n",
       "    <tr>\n",
       "      <th>ML Classical Features</th>\n",
       "      <th>SOC</th>\n",
       "      <td>0.957031</td>\n",
       "    </tr>\n",
       "    <tr>\n",
       "      <th>ML Hybrid Features</th>\n",
       "      <th>SOC</th>\n",
       "      <td>0.949219</td>\n",
       "    </tr>\n",
       "    <tr>\n",
       "      <th>ML Word Emb. Features</th>\n",
       "      <th>SOC</th>\n",
       "      <td>0.824219</td>\n",
       "    </tr>\n",
       "    <tr>\n",
       "      <th>Most Commonly Mentioned</th>\n",
       "      <th>---</th>\n",
       "      <td>0.914062</td>\n",
       "    </tr>\n",
       "    <tr>\n",
       "      <th rowspan=\"5\" valign=\"top\">SOC</th>\n",
       "      <th>First Mentioned</th>\n",
       "      <th>---</th>\n",
       "      <td>0.428571</td>\n",
       "    </tr>\n",
       "    <tr>\n",
       "      <th>ML Classical Features</th>\n",
       "      <th>ASOIAF</th>\n",
       "      <td>0.923077</td>\n",
       "    </tr>\n",
       "    <tr>\n",
       "      <th>ML Hybrid Features</th>\n",
       "      <th>ASOIAF</th>\n",
       "      <td>0.626374</td>\n",
       "    </tr>\n",
       "    <tr>\n",
       "      <th>ML Word Emb. Features</th>\n",
       "      <th>ASOIAF</th>\n",
       "      <td>0.318681</td>\n",
       "    </tr>\n",
       "    <tr>\n",
       "      <th>Most Commonly Mentioned</th>\n",
       "      <th>---</th>\n",
       "      <td>0.78022</td>\n",
       "    </tr>\n",
       "  </tbody>\n",
       "</table>\n",
       "</div>"
      ],
      "text/plain": [
       "                                            Acc\n",
       "ASOIAF First Mentioned         ---         0.25\n",
       "       ML Classical Features   SOC     0.957031\n",
       "       ML Hybrid Features      SOC     0.949219\n",
       "       ML Word Emb. Features   SOC     0.824219\n",
       "       Most Commonly Mentioned ---     0.914062\n",
       "SOC    First Mentioned         ---     0.428571\n",
       "       ML Classical Features   ASOIAF  0.923077\n",
       "       ML Hybrid Features      ASOIAF  0.626374\n",
       "       ML Word Emb. Features   ASOIAF  0.318681\n",
       "       Most Commonly Mentioned ---      0.78022"
      ]
     },
     "execution_count": 9,
     "metadata": {},
     "output_type": "execute_result"
    }
   ],
   "source": [
    "def make_program(datasets, mdls):\n",
    "    program = dict()    \n",
    "    for (test_data_name, test_data),(mdl_name,mdl) in it.product(datasets, mdls):\n",
    "        if mdl_name[0:2]==\"ML\":\n",
    "            for (train_data_name, train_data) in datasets:\n",
    "                if train_data_name==test_data_name:\n",
    "                    continue\n",
    "                program[(test_data_name,mdl_name, train_data_name)] = (\n",
    "                    train_data,\n",
    "                    test_data,\n",
    "                    mdl()\n",
    "                )\n",
    "        else:\n",
    "            program[(test_data_name, mdl_name, \"---\")] = ([], test_data, mdl())\n",
    "    return program\n",
    "\n",
    "program = make_program(datasets, base_mdls)\n",
    "\n",
    "\n",
    "res = pd.DataFrame(index=pd.MultiIndex.from_tuples(program.keys()),\n",
    "                   columns = all_metrics_names)\n",
    "res.sort_index(inplace=True)\n",
    "\n",
    "for ind in res.index:\n",
    "    print(ind, end=\"\")\n",
    "    score = evaluate(*program[ind], metric=all_metrics)\n",
    "    res.loc[ind,:] = score\n",
    "    print(\" \", score)\n",
    "    res.to_csv(\"../results/maineval.csv\", index_label=[\"Test Set\", \"Method\", \"Train Set\"])\n",
    "    \n",
    "res"
   ]
  },
  {
   "cell_type": "markdown",
   "metadata": {},
   "source": [
    "## Cross Evaluation\n",
    "To test how much it effects things from different styles."
   ]
  },
  {
   "cell_type": "code",
   "execution_count": 7,
   "metadata": {},
   "outputs": [
    {
     "name": "stdout",
     "output_type": "stream",
     "text": [
      "('ASIAF', 'First Mentioned')  0.25\n",
      "('ASIAF', 'ML Classical Features')  0.9453846153846154\n",
      "('ASIAF', 'ML Hybrid Features')  0.9646153846153848\n",
      "('ASIAF', 'ML Word Emb. Features')  0.944923076923077\n",
      "('ASIAF', 'Most Commonly Mentioned')  0.9141538461538463\n",
      "('Combined', 'First Mentioned')  0.23796722990271374\n",
      "('Combined', 'ML Classical Features')  0.8938812083973374\n",
      "('Combined', 'ML Hybrid Features')  0.9003072196620583\n",
      "('Combined', 'ML Word Emb. Features')  0.8908090117767538\n",
      "('Combined', 'Most Commonly Mentioned')  0.8682539682539682\n",
      "('SOC', 'First Mentioned')  0.4311111111111111\n",
      "('SOC', 'ML Classical Features')  0.9133333333333333\n",
      "('SOC', 'ML Hybrid Features')  0.9455555555555556\n",
      "('SOC', 'ML Word Emb. Features')  0.9444444444444444\n",
      "('SOC', 'Most Commonly Mentioned')  0.7811111111111111\n"
     ]
    },
    {
     "data": {
      "text/html": [
       "<div>\n",
       "<style scoped>\n",
       "    .dataframe tbody tr th:only-of-type {\n",
       "        vertical-align: middle;\n",
       "    }\n",
       "\n",
       "    .dataframe tbody tr th {\n",
       "        vertical-align: top;\n",
       "    }\n",
       "\n",
       "    .dataframe thead th {\n",
       "        text-align: right;\n",
       "    }\n",
       "</style>\n",
       "<table border=\"1\" class=\"dataframe\">\n",
       "  <thead>\n",
       "    <tr style=\"text-align: right;\">\n",
       "      <th></th>\n",
       "      <th></th>\n",
       "      <th>Acc</th>\n",
       "    </tr>\n",
       "  </thead>\n",
       "  <tbody>\n",
       "    <tr>\n",
       "      <th rowspan=\"5\" valign=\"top\">ASIAF</th>\n",
       "      <th>First Mentioned</th>\n",
       "      <td>0.25</td>\n",
       "    </tr>\n",
       "    <tr>\n",
       "      <th>ML Classical Features</th>\n",
       "      <td>0.945385</td>\n",
       "    </tr>\n",
       "    <tr>\n",
       "      <th>ML Hybrid Features</th>\n",
       "      <td>0.964615</td>\n",
       "    </tr>\n",
       "    <tr>\n",
       "      <th>ML Word Emb. Features</th>\n",
       "      <td>0.944923</td>\n",
       "    </tr>\n",
       "    <tr>\n",
       "      <th>Most Commonly Mentioned</th>\n",
       "      <td>0.914154</td>\n",
       "    </tr>\n",
       "    <tr>\n",
       "      <th rowspan=\"5\" valign=\"top\">Combined</th>\n",
       "      <th>First Mentioned</th>\n",
       "      <td>0.237967</td>\n",
       "    </tr>\n",
       "    <tr>\n",
       "      <th>ML Classical Features</th>\n",
       "      <td>0.893881</td>\n",
       "    </tr>\n",
       "    <tr>\n",
       "      <th>ML Hybrid Features</th>\n",
       "      <td>0.900307</td>\n",
       "    </tr>\n",
       "    <tr>\n",
       "      <th>ML Word Emb. Features</th>\n",
       "      <td>0.890809</td>\n",
       "    </tr>\n",
       "    <tr>\n",
       "      <th>Most Commonly Mentioned</th>\n",
       "      <td>0.868254</td>\n",
       "    </tr>\n",
       "    <tr>\n",
       "      <th rowspan=\"5\" valign=\"top\">SOC</th>\n",
       "      <th>First Mentioned</th>\n",
       "      <td>0.431111</td>\n",
       "    </tr>\n",
       "    <tr>\n",
       "      <th>ML Classical Features</th>\n",
       "      <td>0.913333</td>\n",
       "    </tr>\n",
       "    <tr>\n",
       "      <th>ML Hybrid Features</th>\n",
       "      <td>0.945556</td>\n",
       "    </tr>\n",
       "    <tr>\n",
       "      <th>ML Word Emb. Features</th>\n",
       "      <td>0.944444</td>\n",
       "    </tr>\n",
       "    <tr>\n",
       "      <th>Most Commonly Mentioned</th>\n",
       "      <td>0.781111</td>\n",
       "    </tr>\n",
       "  </tbody>\n",
       "</table>\n",
       "</div>"
      ],
      "text/plain": [
       "                                       Acc\n",
       "ASIAF    First Mentioned              0.25\n",
       "         ML Classical Features    0.945385\n",
       "         ML Hybrid Features       0.964615\n",
       "         ML Word Emb. Features    0.944923\n",
       "         Most Commonly Mentioned  0.914154\n",
       "Combined First Mentioned          0.237967\n",
       "         ML Classical Features    0.893881\n",
       "         ML Hybrid Features       0.900307\n",
       "         ML Word Emb. Features    0.890809\n",
       "         Most Commonly Mentioned  0.868254\n",
       "SOC      First Mentioned          0.431111\n",
       "         ML Classical Features    0.913333\n",
       "         ML Hybrid Features       0.945556\n",
       "         ML Word Emb. Features    0.944444\n",
       "         Most Commonly Mentioned  0.781111"
      ]
     },
     "execution_count": 7,
     "metadata": {},
     "output_type": "execute_result"
    }
   ],
   "source": [
    "def make_program(datasets, mdls):\n",
    "    program = dict()    \n",
    "    for (data_name, data),(mdl_name,mdl) in it.product(datasets, mdls):\n",
    "        program[(data_name, mdl_name)] = (data, mdl())\n",
    "    return program\n",
    "program = make_program(datasets+[(\"Combined\", ann_comb)], base_mdls)\n",
    "\n",
    "\n",
    "res_xval = pd.DataFrame(index=pd.MultiIndex.from_tuples(program.keys()),\n",
    "                        columns = all_metrics_names)\n",
    "res_xval.sort_index(inplace=True)\n",
    "\n",
    "for ind in res_xval.index:\n",
    "    print(ind, end=\"\")\n",
    "    score = xval_evaluate(*program[ind], metric=all_metrics) \n",
    "    res_xval.loc[ind, :] = score\n",
    "    print(\" \", score)\n",
    "    res_xval.to_csv(\"../results/crosseval.csv\", index_label=[\"Dataset\", \"Method\"])\n",
    "    \n",
    "res_xval"
   ]
  },
  {
   "cell_type": "markdown",
   "metadata": {},
   "source": [
    "# Supp data"
   ]
  },
  {
   "cell_type": "code",
   "execution_count": 12,
   "metadata": {},
   "outputs": [
    {
     "name": "stdout",
     "output_type": "stream",
     "text": [
      "('ASIAF', 'ML Classical Features', 'SOC and SA')  0.953125\n",
      "('ASIAF', 'ML Hybrid Features', 'SOC and SA')  0.953125\n",
      "('ASIAF', 'ML Word Emb. Features', 'SOC and SA')  0.921875\n",
      "('SOC', 'ML Classical Features', 'ASIAF and SA')  0.8241758241758241\n",
      "('SOC', 'ML Hybrid Features', 'ASIAF and SA')  0.8571428571428571\n",
      "('SOC', 'ML Word Emb. Features', 'ASIAF and SA')  0.9340659340659341\n"
     ]
    },
    {
     "data": {
      "text/html": [
       "<div>\n",
       "<style scoped>\n",
       "    .dataframe tbody tr th:only-of-type {\n",
       "        vertical-align: middle;\n",
       "    }\n",
       "\n",
       "    .dataframe tbody tr th {\n",
       "        vertical-align: top;\n",
       "    }\n",
       "\n",
       "    .dataframe thead th {\n",
       "        text-align: right;\n",
       "    }\n",
       "</style>\n",
       "<table border=\"1\" class=\"dataframe\">\n",
       "  <thead>\n",
       "    <tr style=\"text-align: right;\">\n",
       "      <th></th>\n",
       "      <th></th>\n",
       "      <th></th>\n",
       "      <th>Acc</th>\n",
       "    </tr>\n",
       "  </thead>\n",
       "  <tbody>\n",
       "    <tr>\n",
       "      <th rowspan=\"3\" valign=\"top\">ASIAF</th>\n",
       "      <th>ML Classical Features</th>\n",
       "      <th>SOC and SA</th>\n",
       "      <td>0.953125</td>\n",
       "    </tr>\n",
       "    <tr>\n",
       "      <th>ML Hybrid Features</th>\n",
       "      <th>SOC and SA</th>\n",
       "      <td>0.953125</td>\n",
       "    </tr>\n",
       "    <tr>\n",
       "      <th>ML Word Emb. Features</th>\n",
       "      <th>SOC and SA</th>\n",
       "      <td>0.921875</td>\n",
       "    </tr>\n",
       "    <tr>\n",
       "      <th rowspan=\"3\" valign=\"top\">SOC</th>\n",
       "      <th>ML Classical Features</th>\n",
       "      <th>ASIAF and SA</th>\n",
       "      <td>0.824176</td>\n",
       "    </tr>\n",
       "    <tr>\n",
       "      <th>ML Hybrid Features</th>\n",
       "      <th>ASIAF and SA</th>\n",
       "      <td>0.857143</td>\n",
       "    </tr>\n",
       "    <tr>\n",
       "      <th>ML Word Emb. Features</th>\n",
       "      <th>ASIAF and SA</th>\n",
       "      <td>0.934066</td>\n",
       "    </tr>\n",
       "  </tbody>\n",
       "</table>\n",
       "</div>"
      ],
      "text/plain": [
       "                                               Acc\n",
       "ASIAF ML Classical Features SOC and SA    0.953125\n",
       "      ML Hybrid Features    SOC and SA    0.953125\n",
       "      ML Word Emb. Features SOC and SA    0.921875\n",
       "SOC   ML Classical Features ASIAF and SA  0.824176\n",
       "      ML Hybrid Features    ASIAF and SA  0.857143\n",
       "      ML Word Emb. Features ASIAF and SA  0.934066"
      ]
     },
     "execution_count": 12,
     "metadata": {},
     "output_type": "execute_result"
    }
   ],
   "source": [
    "def make_program(datasets, supdatasets, mdls):\n",
    "    all_datasets = list(datasets)\n",
    "    all_datasets.extend(supdatasets)\n",
    "    \n",
    "    program = dict()    \n",
    "    for (test_data_name, test_data),(mdl_name,mdl) in it.product(datasets, mdls):\n",
    "        if mdl_name[0:2]==\"ML\":\n",
    "            combined_data = []\n",
    "            combined_data_names = []\n",
    "            for (train_data_name, train_data) in all_datasets:\n",
    "                if train_data_name==test_data_name:\n",
    "                    continue\n",
    "                combined_data.append(train_data)\n",
    "                combined_data_names.append(train_data_name)\n",
    "            \n",
    "            if len(combined_data) > 1:\n",
    "                train_data_name = \" and \".join(combined_data_names)\n",
    "                program[(test_data_name, mdl_name, train_data_name)] = (\n",
    "                    np.hstack(combined_data),\n",
    "                    test_data,\n",
    "                    mdl()\n",
    "                )\n",
    "    return program\n",
    "\n",
    "program = make_program(datasets,supdatasets, base_mdls)\n",
    "\n",
    "\n",
    "res = pd.DataFrame(index=pd.MultiIndex.from_tuples(program.keys()),\n",
    "                   columns = all_metrics_names)\n",
    "res.sort_index(inplace=True)\n",
    "\n",
    "for ind in res.index:\n",
    "    print(ind, end=\"\")\n",
    "    \n",
    "    score = evaluate(*program[ind], metric=all_metrics)\n",
    "    res.loc[ind,:] = score\n",
    "    print(\" \", score)\n",
    "    res.to_csv(\"../results/extradata.csv\", index_label=[\"Test Set\", \"Method\", \"Train Set\"])\n",
    "    \n",
    "res"
   ]
  },
  {
   "cell_type": "markdown",
   "metadata": {},
   "source": [
    "# Save some trained model"
   ]
  },
  {
   "cell_type": "code",
   "execution_count": 41,
   "metadata": {},
   "outputs": [],
   "source": [
    "def train_and_save_model(ann, filename, model):\n",
    "    mdl = model()\n",
    "    mdl.train(*extract_texts_and_characters(ann))\n",
    "    joblib.dump(mdl, \"../trained_models/\"+filename+\".pkl\")\n",
    "    return mdl"
   ]
  },
  {
   "cell_type": "code",
   "execution_count": 42,
   "metadata": {},
   "outputs": [],
   "source": [
    "CL_SOC = train_and_save_model(ann_SOC, \"CL_SOC\", CL_mdl)\n",
    "#HY_SOC = train_and_save_model(ann_SOC, \"HY_SOC\", HY_mdl)"
   ]
  },
  {
   "cell_type": "code",
   "execution_count": 43,
   "metadata": {},
   "outputs": [],
   "source": [
    "CL_ASOIAF = train_and_save_model(ann_ASOIAF, \"CL_ASOIAF\", CL_mdl)\n",
    "#HY_ASOIAF = train_and_save_model(ann_ASOIAF, \"HY_ASOIAF\", HY_mdl)"
   ]
  },
  {
   "cell_type": "code",
   "execution_count": null,
   "metadata": {},
   "outputs": [],
   "source": []
  },
  {
   "cell_type": "code",
   "execution_count": null,
   "metadata": {},
   "outputs": [],
   "source": []
  },
  {
   "cell_type": "markdown",
   "metadata": {},
   "source": [
    "## Feature importance stuff"
   ]
  },
  {
   "cell_type": "code",
   "execution_count": 11,
   "metadata": {
    "scrolled": true
   },
   "outputs": [],
   "source": [
    "def feature_importance(mdl):\n",
    "    _, _,vector_keys = get_feature_vectors(ann_comb[1]['text'])\n",
    "    feature_weights = list(zip(mdl.classifier.feature_importances_,vector_keys))\n",
    "    feature_weights.sort(reverse=True)\n",
    "    non_zero_weights = [(weight,name) for weight, name in feature_weights if weight>0]\n",
    "    print(\"Number of nonzeo weights: \", len(non_zero_weights))\n",
    "    print(\"\\n\".join(\", \".join(map(str,wt)) for wt in non_zero_weights))\n"
   ]
  },
  {
   "cell_type": "code",
   "execution_count": 36,
   "metadata": {
    "scrolled": false
   },
   "outputs": [
    {
     "name": "stdout",
     "output_type": "stream",
     "text": [
      "Number of nonzeo weights:  31\n",
      "0.11742424, before_POS_was_percent_,\n",
      "0.11174242, after_POS_was_percent_VBD\n",
      "0.09469697, before_POS_was_.\n",
      "0.09280303, occur_percent\n",
      "0.071969695, occur_rank\n",
      "0.054924242, last_occur_percent\n",
      "0.053030305, after_POS_was_percent_NNP\n",
      "0.047348484, before_POS_was_percent_NN\n",
      "0.041666668, occur_rank_percent\n",
      "0.039772727, after_POS_was_percent_,\n",
      "0.03787879, before_POS_was_percent_.\n",
      "0.03787879, after_POS_was_percent_MD\n",
      "0.035984848, last_occur_position\n",
      "0.026515152, after_POS_was_MD\n",
      "0.024621213, before_POS_was_percent_IN\n",
      "0.017045455, before_POS_was_percent_VBD\n",
      "0.017045455, before_POS_was_,\n",
      "0.013257576, after_POS_was_percent_.\n",
      "0.009469697, before_POS_was_percent_JJ\n",
      "0.009469697, before_POS_was_percent_CC\n",
      "0.009469697, after_POS_was_.\n",
      "0.0056818184, before_POS_was_percent_WRB\n",
      "0.0056818184, before_POS_was_percent_TO\n",
      "0.003787879, occur_count\n",
      "0.003787879, before_POS_was_VBN\n",
      "0.003787879, before_POS_was_VBD\n",
      "0.003787879, after_POS_was_percent_VB\n",
      "0.003787879, after_POS_was_VBD\n",
      "0.0018939395, before_POS_was_TO\n",
      "0.0018939395, before_POS_was_NN\n",
      "0.0018939395, after_POS_was_NNP\n"
     ]
    }
   ],
   "source": [
    "feature_importance(CL_SOC)"
   ]
  },
  {
   "cell_type": "code",
   "execution_count": 46,
   "metadata": {},
   "outputs": [
    {
     "name": "stdout",
     "output_type": "stream",
     "text": [
      "Number of nonzeo weights:  14\n",
      "0.08, occur_percent\n",
      "0.07157895, occur_rank\n",
      "0.06526316, before_POS_was_.\n",
      "0.042105265, after_POS_was_percent_VBD\n",
      "0.035789475, before_POS_was_percent_,\n",
      "0.02736842, occur_rank_percent\n",
      "0.025263159, after_POS_was_MD\n",
      "0.010526316, before_POS_was_percent_.\n",
      "0.0063157897, last_occur_percent\n",
      "0.004210526, after_POS_was_NNP\n",
      "0.002105263, occur_count\n",
      "0.002105263, before_POS_was_percent_JJ\n",
      "0.002105263, after_POS_was_percent_MD\n",
      "0.002105263, after_POS_was_percent_,\n"
     ]
    }
   ],
   "source": [
    "feature_importance(HY_SOC)"
   ]
  },
  {
   "cell_type": "code",
   "execution_count": 12,
   "metadata": {},
   "outputs": [
    {
     "name": "stdout",
     "output_type": "stream",
     "text": [
      "Number of nonzeo weights:  43\n",
      "0.09724473, occur_rank_percent\n",
      "0.09400324, last_occur_percent\n",
      "0.07779579, before_POS_was_percent_,\n",
      "0.07131281, after_POS_was_VBD\n",
      "0.06320908, occur_rank\n",
      "0.051863857, occur_percent\n",
      "0.050243113, before_POS_was_,\n",
      "0.04376013, before_POS_was_percent_RB\n",
      "0.035656404, after_POS_was_percent_VBD\n",
      "0.035656404, after_POS_was_percent_IN\n",
      "0.034035657, before_POS_was_percent_.\n",
      "0.029173419, before_POS_was_percent_NN\n",
      "0.029173419, before_POS_was_NNP\n",
      "0.025931928, last_occur_position\n",
      "0.022690438, before_POS_was_percent_VBP\n",
      "0.022690438, after_POS_was_percent_.\n",
      "0.019448947, before_POS_was_percent_IN\n",
      "0.019448947, after_POS_was_percent_MD\n",
      "0.019448947, after_POS_was_percent_,\n",
      "0.017828202, before_POS_was_percent_CC\n",
      "0.016207455, before_POS_was_percent_VB\n",
      "0.016207455, after_POS_was_percent_NNP\n",
      "0.016207455, after_POS_was_percent_NN\n",
      "0.014586709, before_POS_was_percent_DT\n",
      "0.012965964, after_POS_was_percent_VBZ\n",
      "0.008103727, before_POS_was_RB\n",
      "0.008103727, before_POS_was_IN\n",
      "0.006482982, before_POS_was_percent_TO\n",
      "0.004862237, before_POS_was_percent_NNP\n",
      "0.004862237, before_POS_was_percent_''\n",
      "0.003241491, before_POS_was_VBD\n",
      "0.003241491, before_POS_was_.\n",
      "0.003241491, after_POS_was_percent_CC\n",
      "0.003241491, after_POS_was_NNP\n",
      "0.003241491, after_POS_was_IN\n",
      "0.003241491, after_POS_was_.\n",
      "0.0016207455, occur_count\n",
      "0.0016207455, before_POS_was_percent_WRB\n",
      "0.0016207455, before_POS_was_percent_JJ\n",
      "0.0016207455, before_POS_was_NN\n",
      "0.0016207455, after_POS_was_percent_RB\n",
      "0.0016207455, after_POS_was_VBZ\n",
      "0.0016207455, after_POS_was_,\n"
     ]
    }
   ],
   "source": [
    "feature_importance(CL_ASOIAF)"
   ]
  },
  {
   "cell_type": "code",
   "execution_count": 13,
   "metadata": {},
   "outputs": [
    {
     "name": "stdout",
     "output_type": "stream",
     "text": [
      "Number of nonzeo weights:  23\n",
      "0.05939005, after_POS_was_VBD\n",
      "0.043338683, occur_rank\n",
      "0.030497592, occur_rank_percent\n",
      "0.030497592, before_POS_was_,\n",
      "0.028892456, last_occur_percent\n",
      "0.02247191, occur_percent\n",
      "0.019261638, before_POS_was_percent_,\n",
      "0.016051365, before_POS_was_NNP\n",
      "0.014446228, before_POS_was_percent_RB\n",
      "0.0048154094, before_POS_was_percent_VBP\n",
      "0.0048154094, before_POS_was_percent_JJ\n",
      "0.0048154094, before_POS_was_.\n",
      "0.0048154094, after_POS_was_percent_VBD\n",
      "0.0048154094, after_POS_was_percent_,\n",
      "0.0032102729, occur_count\n",
      "0.0032102729, after_POS_was_percent_IN\n",
      "0.0032102729, after_POS_was_percent_.\n",
      "0.0032102729, after_POS_was_NN\n",
      "0.0016051364, before_POS_was_percent_IN\n",
      "0.0016051364, before_POS_was_percent_''\n",
      "0.0016051364, before_POS_was_RB\n",
      "0.0016051364, after_POS_was_percent_NN\n",
      "0.0016051364, after_POS_was_CC\n"
     ]
    }
   ],
   "source": [
    "feature_importance(HY_ASOIAF)"
   ]
  },
  {
   "cell_type": "code",
   "execution_count": null,
   "metadata": {},
   "outputs": [],
   "source": []
  }
 ],
 "metadata": {
  "kernelspec": {
   "display_name": "Python 3",
   "language": "python",
   "name": "python3"
  },
  "language_info": {
   "codemirror_mode": {
    "name": "ipython",
    "version": 3
   },
   "file_extension": ".py",
   "mimetype": "text/x-python",
   "name": "python",
   "nbconvert_exporter": "python",
   "pygments_lexer": "ipython3",
   "version": "3.5.3"
  }
 },
 "nbformat": 4,
 "nbformat_minor": 1
}
