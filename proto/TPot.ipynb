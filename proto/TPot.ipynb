{
 "cells": [
  {
   "cell_type": "code",
   "execution_count": 1,
   "metadata": {},
   "outputs": [
    {
     "name": "stdout",
     "output_type": "stream",
     "text": [
      "ann_comb, ann_SOC, ann_ASOIAF, ann_SA\n",
      "lengths:  [622, 91, 256, 275]\n",
      "POVs:  30 9 15 6\n"
     ]
    }
   ],
   "source": [
    "from evaluation import *"
   ]
  },
  {
   "cell_type": "code",
   "execution_count": 2,
   "metadata": {
    "scrolled": true
   },
   "outputs": [],
   "source": [
    "from tpot import TPOTClassifier\n",
    "from sklearn.datasets import load_digits\n",
    "from sklearn.model_selection import train_test_split\n"
   ]
  },
  {
   "cell_type": "markdown",
   "metadata": {},
   "source": [
    "#### From http://epistasislab.github.io/tpot/using/#scoring-functions :\n",
    "You can pass the callable object/function with signature scorer(estimator, X, y), where estimator is trained estimator to use for scoring, X are features that will be passed to estimator.predict and y are target values for X. To do this, you should implement your own function. See the example below for further explanation."
   ]
  },
  {
   "cell_type": "code",
   "execution_count": 3,
   "metadata": {},
   "outputs": [],
   "source": [
    "def make_scorer(nicknames2name):\n",
    "    def scorer(estimator, X, y):\n",
    "        solver = MLCharacterSolver(\n",
    "            classifier = estimator,\n",
    "            feature_extractor= lambda x:x, # use identity, as feature extraction is already done, we are not working with raw_texts\n",
    "            nicknames2name = nicknames2name\n",
    "        )\n",
    "        return solver.test(X, y)\n",
    "    return scorer\n",
    "\n",
    "# This currently does not work."
   ]
  },
  {
   "cell_type": "code",
   "execution_count": 4,
   "metadata": {},
   "outputs": [],
   "source": [
    "def extract_training_cases(ann_data, feature_extractor):\n",
    "    texts, reference_characters = extract_texts_and_characters(ann_data)\n",
    "    Xs = [] # Feature vectors\n",
    "    Ys = [] # Binary as to if this feature is the target\n",
    "    for reference_name, raw_text in zip(reference_characters, texts):\n",
    "        names, vectors, _ = feature_extractor(raw_text)\n",
    "        Ys.extend([(name == reference_name) for name in names])\n",
    "        Xs.extend(vectors)\n",
    "        \n",
    "    return np.asarray(Xs), np.asarray(Ys)"
   ]
  },
  {
   "cell_type": "code",
   "execution_count": 5,
   "metadata": {},
   "outputs": [],
   "source": [
    "features, labels = extract_training_cases(ann_SOC, hybrid_features)"
   ]
  },
  {
   "cell_type": "code",
   "execution_count": 6,
   "metadata": {},
   "outputs": [
    {
     "name": "stdout",
     "output_type": "stream",
     "text": [
      "30 operators have been imported by TPOT.\n"
     ]
    },
    {
     "name": "stderr",
     "output_type": "stream",
     "text": [
      "Optimization Progress:  17%|█▋        | 20/120 [01:37<10:13,  6.14s/pipeline]"
     ]
    },
    {
     "name": "stdout",
     "output_type": "stream",
     "text": [
      "_pre_test decorator: _random_mutation_operator: num_test=0 cosine was provided as affinity. Ward can only work with euclidean distances.\n"
     ]
    },
    {
     "name": "stderr",
     "output_type": "stream",
     "text": [
      "Optimization Progress:  33%|███▎      | 40/120 [03:18<06:17,  4.72s/pipeline]"
     ]
    },
    {
     "name": "stdout",
     "output_type": "stream",
     "text": [
      "Generation 1 - Current Pareto front scores:\n",
      "-1\t0.9928599673488756\tLogisticRegression(input_matrix, LogisticRegression__C=15.0, LogisticRegression__dual=False, LogisticRegression__penalty=l1)\n",
      "-2\t0.9936118470481237\tGradientBoostingClassifier(ExtraTreesClassifier(input_matrix, ExtraTreesClassifier__bootstrap=False, ExtraTreesClassifier__criterion=gini, ExtraTreesClassifier__max_features=0.1, ExtraTreesClassifier__min_samples_leaf=19, ExtraTreesClassifier__min_samples_split=19, ExtraTreesClassifier__n_estimators=100), GradientBoostingClassifier__learning_rate=0.1, GradientBoostingClassifier__max_depth=10, GradientBoostingClassifier__max_features=0.2, GradientBoostingClassifier__min_samples_leaf=2, GradientBoostingClassifier__min_samples_split=3, GradientBoostingClassifier__n_estimators=100, GradientBoostingClassifier__subsample=0.1)\n",
      "\n"
     ]
    },
    {
     "name": "stderr",
     "output_type": "stream",
     "text": [
      "Optimization Progress:  33%|███▎      | 40/120 [03:19<06:17,  4.72s/pipeline]"
     ]
    },
    {
     "name": "stdout",
     "output_type": "stream",
     "text": [
      "_pre_test decorator: _random_mutation_operator: num_test=0 Unsupported set of arguments: The combination of penalty='l1' and loss='squared_hinge' are not supported when dual=True, Parameters: penalty='l1', loss='squared_hinge', dual=True\n"
     ]
    },
    {
     "name": "stderr",
     "output_type": "stream",
     "text": [
      "Optimization Progress:  33%|███▎      | 40/120 [03:20<06:17,  4.72s/pipeline]"
     ]
    },
    {
     "name": "stdout",
     "output_type": "stream",
     "text": [
      "_pre_test decorator: _random_mutation_operator: num_test=0 Unsupported set of arguments: The combination of penalty='l1' and loss='hinge' is not supported, Parameters: penalty='l1', loss='hinge', dual=False\n"
     ]
    },
    {
     "name": "stderr",
     "output_type": "stream",
     "text": [
      "Optimization Progress:  34%|███▍      | 41/120 [03:21<05:31,  4.19s/pipeline]"
     ]
    },
    {
     "name": "stdout",
     "output_type": "stream",
     "text": [
      "Pipeline encountered that has previously been evaluated during the optimization process. Using the score from the previous evaluation.\n"
     ]
    },
    {
     "name": "stderr",
     "output_type": "stream",
     "text": [
      "Optimization Progress:  43%|████▎     | 52/120 [09:23<1:47:18, 94.69s/pipeline]"
     ]
    },
    {
     "name": "stdout",
     "output_type": "stream",
     "text": [
      "Skipped pipeline #52 due to time out. Continuing to the next pipeline.\n"
     ]
    },
    {
     "name": "stderr",
     "output_type": "stream",
     "text": [
      "Optimization Progress:  51%|█████     | 61/120 [09:48<09:06,  9.26s/pipeline]  "
     ]
    },
    {
     "name": "stdout",
     "output_type": "stream",
     "text": [
      "Generation 2 - Current Pareto front scores:\n",
      "-1\t0.9936109997006038\tRandomForestClassifier(input_matrix, RandomForestClassifier__bootstrap=False, RandomForestClassifier__criterion=entropy, RandomForestClassifier__max_features=0.3, RandomForestClassifier__min_samples_leaf=1, RandomForestClassifier__min_samples_split=8, RandomForestClassifier__n_estimators=100)\n",
      "-2\t0.9936118470481237\tGradientBoostingClassifier(ExtraTreesClassifier(input_matrix, ExtraTreesClassifier__bootstrap=False, ExtraTreesClassifier__criterion=gini, ExtraTreesClassifier__max_features=0.1, ExtraTreesClassifier__min_samples_leaf=19, ExtraTreesClassifier__min_samples_split=19, ExtraTreesClassifier__n_estimators=100), GradientBoostingClassifier__learning_rate=0.1, GradientBoostingClassifier__max_depth=10, GradientBoostingClassifier__max_features=0.2, GradientBoostingClassifier__min_samples_leaf=2, GradientBoostingClassifier__min_samples_split=3, GradientBoostingClassifier__n_estimators=100, GradientBoostingClassifier__subsample=0.1)\n",
      "\n"
     ]
    },
    {
     "name": "stderr",
     "output_type": "stream",
     "text": [
      "Optimization Progress:  51%|█████     | 61/120 [09:51<09:06,  9.26s/pipeline]"
     ]
    },
    {
     "name": "stdout",
     "output_type": "stream",
     "text": [
      "_pre_test decorator: _random_mutation_operator: num_test=0 Input X must be non-negative\n"
     ]
    },
    {
     "name": "stderr",
     "output_type": "stream",
     "text": [
      "Optimization Progress:  51%|█████     | 61/120 [09:53<09:06,  9.26s/pipeline]"
     ]
    },
    {
     "name": "stdout",
     "output_type": "stream",
     "text": [
      "_pre_test decorator: _random_mutation_operator: num_test=0 Input X must be non-negative\n"
     ]
    },
    {
     "name": "stderr",
     "output_type": "stream",
     "text": [
      "Optimization Progress:  52%|█████▎    | 63/120 [09:54<07:53,  8.31s/pipeline]"
     ]
    },
    {
     "name": "stdout",
     "output_type": "stream",
     "text": [
      "Pipeline encountered that has previously been evaluated during the optimization process. Using the score from the previous evaluation.\n",
      "Pipeline encountered that has previously been evaluated during the optimization process. Using the score from the previous evaluation.\n"
     ]
    },
    {
     "name": "stderr",
     "output_type": "stream",
     "text": [
      "Optimization Progress:  68%|██████▊   | 82/120 [17:02<59:18, 93.64s/pipeline]  "
     ]
    },
    {
     "name": "stdout",
     "output_type": "stream",
     "text": [
      "Skipped pipeline #81 due to time out. Continuing to the next pipeline.\n",
      "Generation 3 - Current Pareto front scores:\n",
      "-1\t0.9936109997006038\tRandomForestClassifier(input_matrix, RandomForestClassifier__bootstrap=False, RandomForestClassifier__criterion=entropy, RandomForestClassifier__max_features=0.3, RandomForestClassifier__min_samples_leaf=1, RandomForestClassifier__min_samples_split=8, RandomForestClassifier__n_estimators=100)\n",
      "-2\t0.9936118470481237\tGradientBoostingClassifier(ExtraTreesClassifier(input_matrix, ExtraTreesClassifier__bootstrap=False, ExtraTreesClassifier__criterion=gini, ExtraTreesClassifier__max_features=0.1, ExtraTreesClassifier__min_samples_leaf=19, ExtraTreesClassifier__min_samples_split=19, ExtraTreesClassifier__n_estimators=100), GradientBoostingClassifier__learning_rate=0.1, GradientBoostingClassifier__max_depth=10, GradientBoostingClassifier__max_features=0.2, GradientBoostingClassifier__min_samples_leaf=2, GradientBoostingClassifier__min_samples_split=3, GradientBoostingClassifier__n_estimators=100, GradientBoostingClassifier__subsample=0.1)\n",
      "\n"
     ]
    },
    {
     "name": "stderr",
     "output_type": "stream",
     "text": [
      "Optimization Progress:  68%|██████▊   | 82/120 [17:03<41:35, 65.68s/pipeline]"
     ]
    },
    {
     "name": "stdout",
     "output_type": "stream",
     "text": [
      "_pre_test decorator: _random_mutation_operator: num_test=0 Input X must be non-negative\n"
     ]
    },
    {
     "name": "stderr",
     "output_type": "stream",
     "text": [
      "Optimization Progress:  68%|██████▊   | 82/120 [17:04<41:35, 65.68s/pipeline]"
     ]
    },
    {
     "name": "stdout",
     "output_type": "stream",
     "text": [
      "_pre_test decorator: _random_mutation_operator: num_test=0 Input X must be non-negative\n"
     ]
    },
    {
     "name": "stderr",
     "output_type": "stream",
     "text": [
      "Optimization Progress:  85%|████████▌ | 102/120 [20:21<02:11,  7.30s/pipeline]"
     ]
    },
    {
     "name": "stdout",
     "output_type": "stream",
     "text": [
      "Generation 4 - Current Pareto front scores:\n",
      "-1\t0.9936109997006038\tRandomForestClassifier(input_matrix, RandomForestClassifier__bootstrap=False, RandomForestClassifier__criterion=entropy, RandomForestClassifier__max_features=0.3, RandomForestClassifier__min_samples_leaf=1, RandomForestClassifier__min_samples_split=8, RandomForestClassifier__n_estimators=100)\n",
      "-2\t0.9936118470481237\tGradientBoostingClassifier(ExtraTreesClassifier(input_matrix, ExtraTreesClassifier__bootstrap=False, ExtraTreesClassifier__criterion=gini, ExtraTreesClassifier__max_features=0.1, ExtraTreesClassifier__min_samples_leaf=19, ExtraTreesClassifier__min_samples_split=19, ExtraTreesClassifier__n_estimators=100), GradientBoostingClassifier__learning_rate=0.1, GradientBoostingClassifier__max_depth=10, GradientBoostingClassifier__max_features=0.2, GradientBoostingClassifier__min_samples_leaf=2, GradientBoostingClassifier__min_samples_split=3, GradientBoostingClassifier__n_estimators=100, GradientBoostingClassifier__subsample=0.1)\n",
      "\n"
     ]
    },
    {
     "name": "stderr",
     "output_type": "stream",
     "text": [
      "Optimization Progress:  85%|████████▌ | 102/120 [20:25<02:11,  7.30s/pipeline]"
     ]
    },
    {
     "name": "stdout",
     "output_type": "stream",
     "text": [
      "_pre_test decorator: _random_mutation_operator: num_test=0 Found array with 0 feature(s) (shape=(50, 0)) while a minimum of 1 is required.\n"
     ]
    },
    {
     "name": "stderr",
     "output_type": "stream",
     "text": [
      "Optimization Progress:  85%|████████▌ | 102/120 [20:26<02:11,  7.30s/pipeline]"
     ]
    },
    {
     "name": "stdout",
     "output_type": "stream",
     "text": [
      "_pre_test decorator: _random_mutation_operator: num_test=0 Found array with 0 feature(s) (shape=(50, 0)) while a minimum of 1 is required.\n"
     ]
    },
    {
     "name": "stderr",
     "output_type": "stream",
     "text": [
      "                                                                              \r"
     ]
    },
    {
     "name": "stdout",
     "output_type": "stream",
     "text": [
      "Generation 5 - Current Pareto front scores:\n",
      "-1\t0.9936109997006038\tRandomForestClassifier(input_matrix, RandomForestClassifier__bootstrap=False, RandomForestClassifier__criterion=entropy, RandomForestClassifier__max_features=0.3, RandomForestClassifier__min_samples_leaf=1, RandomForestClassifier__min_samples_split=8, RandomForestClassifier__n_estimators=100)\n",
      "-2\t0.9936118470481237\tGradientBoostingClassifier(ExtraTreesClassifier(input_matrix, ExtraTreesClassifier__bootstrap=False, ExtraTreesClassifier__criterion=gini, ExtraTreesClassifier__max_features=0.1, ExtraTreesClassifier__min_samples_leaf=19, ExtraTreesClassifier__min_samples_split=19, ExtraTreesClassifier__n_estimators=100), GradientBoostingClassifier__learning_rate=0.1, GradientBoostingClassifier__max_depth=10, GradientBoostingClassifier__max_features=0.2, GradientBoostingClassifier__min_samples_leaf=2, GradientBoostingClassifier__min_samples_split=3, GradientBoostingClassifier__n_estimators=100, GradientBoostingClassifier__subsample=0.1)\n",
      "\n",
      "0.9887387387387387\n"
     ]
    },
    {
     "data": {
      "text/plain": [
       "True"
      ]
     },
     "execution_count": 6,
     "metadata": {},
     "output_type": "execute_result"
    }
   ],
   "source": [
    "X_train, X_test, y_train, y_test = train_test_split(features, labels,\n",
    "                                                    train_size=0.75, test_size=0.25)\n",
    "\n",
    "tpot = TPOTClassifier(generations=5, population_size=20, verbosity=3, cv=2)#, scoring=make_scorer(nicknames2name_comb))\n",
    "\n",
    "tpot.fit(X_train, y_train)\n",
    "print(tpot.score(X_test, y_test))\n",
    "tpot.export('tpot_pipeline.py')"
   ]
  },
  {
   "cell_type": "code",
   "execution_count": 7,
   "metadata": {},
   "outputs": [
    {
     "data": {
      "text/plain": [
       "True"
      ]
     },
     "execution_count": 7,
     "metadata": {},
     "output_type": "execute_result"
    }
   ],
   "source": [
    "tpot.export('tpot_pipeline.py')"
   ]
  },
  {
   "cell_type": "code",
   "execution_count": 8,
   "metadata": {},
   "outputs": [
    {
     "name": "stdout",
     "output_type": "stream",
     "text": [
      "0.9887387387387387\n"
     ]
    }
   ],
   "source": [
    "print(tpot.score(X_test, y_test))"
   ]
  },
  {
   "cell_type": "code",
   "execution_count": 9,
   "metadata": {},
   "outputs": [
    {
     "data": {
      "text/plain": [
       "{'BernoulliNB(RBFSampler(input_matrix, RBFSampler__gamma=0.75), BernoulliNB__alpha=0.01, BernoulliNB__fit_prior=True)': {'crossover_count': 0,\n",
       "  'generation': 0,\n",
       "  'internal_cv_score': 0.9740703185461776,\n",
       "  'mutation_count': 0,\n",
       "  'operator_count': 2,\n",
       "  'predecessor': ('ROOT',)},\n",
       " 'BernoulliNB(RBFSampler(input_matrix, RBFSampler__gamma=0.75), BernoulliNB__alpha=10.0, BernoulliNB__fit_prior=True)': {'crossover_count': 0,\n",
       "  'generation': 'INVALID',\n",
       "  'internal_cv_score': 0.976324827847229,\n",
       "  'mutation_count': 1,\n",
       "  'operator_count': 2,\n",
       "  'predecessor': ('BernoulliNB(RBFSampler(input_matrix, RBFSampler__gamma=0.75), BernoulliNB__alpha=0.01, BernoulliNB__fit_prior=True)',)},\n",
       " 'BernoulliNB(input_matrix, BernoulliNB__alpha=0.01, BernoulliNB__fit_prior=True)': {'crossover_count': 0,\n",
       "  'generation': 'INVALID',\n",
       "  'internal_cv_score': 0.9582896007863385,\n",
       "  'mutation_count': 1,\n",
       "  'operator_count': 1,\n",
       "  'predecessor': ('BernoulliNB(RBFSampler(input_matrix, RBFSampler__gamma=0.75), BernoulliNB__alpha=0.01, BernoulliNB__fit_prior=True)',)},\n",
       " 'DecisionTreeClassifier(input_matrix, DecisionTreeClassifier__criterion=entropy, DecisionTreeClassifier__max_depth=7, DecisionTreeClassifier__min_samples_leaf=8, DecisionTreeClassifier__min_samples_split=20)': {'crossover_count': 0,\n",
       "  'generation': 'INVALID',\n",
       "  'internal_cv_score': 0.9864704021511328,\n",
       "  'mutation_count': 1,\n",
       "  'operator_count': 1,\n",
       "  'predecessor': ('DecisionTreeClassifier(input_matrix, DecisionTreeClassifier__criterion=gini, DecisionTreeClassifier__max_depth=7, DecisionTreeClassifier__min_samples_leaf=8, DecisionTreeClassifier__min_samples_split=20)',)},\n",
       " 'DecisionTreeClassifier(input_matrix, DecisionTreeClassifier__criterion=gini, DecisionTreeClassifier__max_depth=2, DecisionTreeClassifier__min_samples_leaf=13, DecisionTreeClassifier__min_samples_split=6)': {'crossover_count': 0,\n",
       "  'generation': 'INVALID',\n",
       "  'internal_cv_score': 0.9864704021511328,\n",
       "  'mutation_count': 2,\n",
       "  'operator_count': 1,\n",
       "  'predecessor': ('LogisticRegression(input_matrix, LogisticRegression__C=15.0, LogisticRegression__dual=False, LogisticRegression__penalty=l1)',)},\n",
       " 'DecisionTreeClassifier(input_matrix, DecisionTreeClassifier__criterion=gini, DecisionTreeClassifier__max_depth=3, DecisionTreeClassifier__min_samples_leaf=15, DecisionTreeClassifier__min_samples_split=16)': {'crossover_count': 0,\n",
       "  'generation': 'INVALID',\n",
       "  'internal_cv_score': 0.9860944623015089,\n",
       "  'mutation_count': 2,\n",
       "  'operator_count': 1,\n",
       "  'predecessor': ('RandomForestClassifier(input_matrix, RandomForestClassifier__bootstrap=True, RandomForestClassifier__criterion=entropy, RandomForestClassifier__max_features=0.55, RandomForestClassifier__min_samples_leaf=17, RandomForestClassifier__min_samples_split=12, RandomForestClassifier__n_estimators=100)',)},\n",
       " 'DecisionTreeClassifier(input_matrix, DecisionTreeClassifier__criterion=gini, DecisionTreeClassifier__max_depth=7, DecisionTreeClassifier__min_samples_leaf=16, DecisionTreeClassifier__min_samples_split=20)': {'crossover_count': 0,\n",
       "  'generation': 'INVALID',\n",
       "  'internal_cv_score': 0.9860944623015089,\n",
       "  'mutation_count': 1,\n",
       "  'operator_count': 1,\n",
       "  'predecessor': ('DecisionTreeClassifier(input_matrix, DecisionTreeClassifier__criterion=gini, DecisionTreeClassifier__max_depth=7, DecisionTreeClassifier__min_samples_leaf=8, DecisionTreeClassifier__min_samples_split=20)',)},\n",
       " 'DecisionTreeClassifier(input_matrix, DecisionTreeClassifier__criterion=gini, DecisionTreeClassifier__max_depth=7, DecisionTreeClassifier__min_samples_leaf=8, DecisionTreeClassifier__min_samples_split=20)': {'crossover_count': 0,\n",
       "  'generation': 0,\n",
       "  'internal_cv_score': 0.9879738791004559,\n",
       "  'mutation_count': 0,\n",
       "  'operator_count': 1,\n",
       "  'predecessor': ('ROOT',)},\n",
       " 'DecisionTreeClassifier(input_matrix, DecisionTreeClassifier__criterion=gini, DecisionTreeClassifier__max_depth=7, DecisionTreeClassifier__min_samples_leaf=8, DecisionTreeClassifier__min_samples_split=3)': {'crossover_count': 0,\n",
       "  'generation': 'INVALID',\n",
       "  'internal_cv_score': 0.9879738791004559,\n",
       "  'mutation_count': 1,\n",
       "  'operator_count': 1,\n",
       "  'predecessor': ('DecisionTreeClassifier(input_matrix, DecisionTreeClassifier__criterion=gini, DecisionTreeClassifier__max_depth=7, DecisionTreeClassifier__min_samples_leaf=8, DecisionTreeClassifier__min_samples_split=20)',)},\n",
       " 'ExtraTreesClassifier(ExtraTreesClassifier(input_matrix, ExtraTreesClassifier__bootstrap=True, ExtraTreesClassifier__criterion=gini, ExtraTreesClassifier__max_features=0.1, ExtraTreesClassifier__min_samples_leaf=20, ExtraTreesClassifier__min_samples_split=14, ExtraTreesClassifier__n_estimators=100), ExtraTreesClassifier__bootstrap=False, ExtraTreesClassifier__criterion=entropy, ExtraTreesClassifier__max_features=0.4, ExtraTreesClassifier__min_samples_leaf=9, ExtraTreesClassifier__min_samples_split=12, ExtraTreesClassifier__n_estimators=100)': {'crossover_count': 0,\n",
       "  'generation': 'INVALID',\n",
       "  'internal_cv_score': 0.9921080876496274,\n",
       "  'mutation_count': 2,\n",
       "  'operator_count': 2,\n",
       "  'predecessor': ('ExtraTreesClassifier(input_matrix, ExtraTreesClassifier__bootstrap=False, ExtraTreesClassifier__criterion=entropy, ExtraTreesClassifier__max_features=0.4, ExtraTreesClassifier__min_samples_leaf=9, ExtraTreesClassifier__min_samples_split=12, ExtraTreesClassifier__n_estimators=100)',)},\n",
       " 'ExtraTreesClassifier(FastICA(input_matrix, FastICA__tol=0.05), ExtraTreesClassifier__bootstrap=False, ExtraTreesClassifier__criterion=entropy, ExtraTreesClassifier__max_features=0.4, ExtraTreesClassifier__min_samples_leaf=9, ExtraTreesClassifier__min_samples_split=12, ExtraTreesClassifier__n_estimators=100)': {'crossover_count': 0,\n",
       "  'generation': 'INVALID',\n",
       "  'internal_cv_score': -inf,\n",
       "  'mutation_count': 2,\n",
       "  'operator_count': 2,\n",
       "  'predecessor': ('ExtraTreesClassifier(input_matrix, ExtraTreesClassifier__bootstrap=False, ExtraTreesClassifier__criterion=entropy, ExtraTreesClassifier__max_features=0.4, ExtraTreesClassifier__min_samples_leaf=9, ExtraTreesClassifier__min_samples_split=12, ExtraTreesClassifier__n_estimators=100)',)},\n",
       " 'ExtraTreesClassifier(FastICA(input_matrix, FastICA__tol=0.5), ExtraTreesClassifier__bootstrap=False, ExtraTreesClassifier__criterion=gini, ExtraTreesClassifier__max_features=0.15000000000000002, ExtraTreesClassifier__min_samples_leaf=2, ExtraTreesClassifier__min_samples_split=11, ExtraTreesClassifier__n_estimators=100)': {'crossover_count': 0,\n",
       "  'generation': 0,\n",
       "  'internal_cv_score': 0.9526569993729628,\n",
       "  'mutation_count': 0,\n",
       "  'operator_count': 2,\n",
       "  'predecessor': ('ROOT',)},\n",
       " 'ExtraTreesClassifier(FastICA(input_matrix, FastICA__tol=0.5), ExtraTreesClassifier__bootstrap=True, ExtraTreesClassifier__criterion=gini, ExtraTreesClassifier__max_features=0.15000000000000002, ExtraTreesClassifier__min_samples_leaf=2, ExtraTreesClassifier__min_samples_split=11, ExtraTreesClassifier__n_estimators=100)': {'crossover_count': 0,\n",
       "  'generation': 'INVALID',\n",
       "  'internal_cv_score': 0.885778119227445,\n",
       "  'mutation_count': 1,\n",
       "  'operator_count': 2,\n",
       "  'predecessor': ('ExtraTreesClassifier(FastICA(input_matrix, FastICA__tol=0.5), ExtraTreesClassifier__bootstrap=False, ExtraTreesClassifier__criterion=gini, ExtraTreesClassifier__max_features=0.15000000000000002, ExtraTreesClassifier__min_samples_leaf=2, ExtraTreesClassifier__min_samples_split=11, ExtraTreesClassifier__n_estimators=100)',)},\n",
       " 'ExtraTreesClassifier(GradientBoostingClassifier(input_matrix, GradientBoostingClassifier__learning_rate=1.0, GradientBoostingClassifier__max_depth=9, GradientBoostingClassifier__max_features=0.3, GradientBoostingClassifier__min_samples_leaf=6, GradientBoostingClassifier__min_samples_split=9, GradientBoostingClassifier__n_estimators=100, GradientBoostingClassifier__subsample=0.8500000000000001), ExtraTreesClassifier__bootstrap=False, ExtraTreesClassifier__criterion=gini, ExtraTreesClassifier__max_features=0.3, ExtraTreesClassifier__min_samples_leaf=14, ExtraTreesClassifier__min_samples_split=19, ExtraTreesClassifier__n_estimators=100)': {'crossover_count': 0,\n",
       "  'generation': 'INVALID',\n",
       "  'internal_cv_score': 0.9819647729391097,\n",
       "  'mutation_count': 1,\n",
       "  'operator_count': 2,\n",
       "  'predecessor': ('ExtraTreesClassifier(input_matrix, ExtraTreesClassifier__bootstrap=False, ExtraTreesClassifier__criterion=gini, ExtraTreesClassifier__max_features=0.3, ExtraTreesClassifier__min_samples_leaf=14, ExtraTreesClassifier__min_samples_split=19, ExtraTreesClassifier__n_estimators=100)',)},\n",
       " 'ExtraTreesClassifier(Nystroem(input_matrix, Nystroem__gamma=1.0, Nystroem__kernel=poly, Nystroem__n_components=10), ExtraTreesClassifier__bootstrap=False, ExtraTreesClassifier__criterion=gini, ExtraTreesClassifier__max_features=0.3, ExtraTreesClassifier__min_samples_leaf=14, ExtraTreesClassifier__min_samples_split=6, ExtraTreesClassifier__n_estimators=100)': {'crossover_count': 0,\n",
       "  'generation': 'INVALID',\n",
       "  'internal_cv_score': 0.976324827847229,\n",
       "  'mutation_count': 2,\n",
       "  'operator_count': 2,\n",
       "  'predecessor': ('ExtraTreesClassifier(input_matrix, ExtraTreesClassifier__bootstrap=False, ExtraTreesClassifier__criterion=gini, ExtraTreesClassifier__max_features=0.3, ExtraTreesClassifier__min_samples_leaf=14, ExtraTreesClassifier__min_samples_split=6, ExtraTreesClassifier__n_estimators=100)',)},\n",
       " 'ExtraTreesClassifier(PCA(input_matrix, PCA__iterated_power=9, PCA__svd_solver=randomized), ExtraTreesClassifier__bootstrap=False, ExtraTreesClassifier__criterion=entropy, ExtraTreesClassifier__max_features=0.4, ExtraTreesClassifier__min_samples_leaf=9, ExtraTreesClassifier__min_samples_split=12, ExtraTreesClassifier__n_estimators=100)': {'crossover_count': 0,\n",
       "  'generation': 0,\n",
       "  'internal_cv_score': 0.9853439948481271,\n",
       "  'mutation_count': 0,\n",
       "  'operator_count': 2,\n",
       "  'predecessor': ('ROOT',)},\n",
       " 'ExtraTreesClassifier(RFE(input_matrix, RFE__ExtraTreesClassifier__criterion=gini, RFE__ExtraTreesClassifier__max_features=0.4, RFE__ExtraTreesClassifier__n_estimators=100, RFE__step=0.1), ExtraTreesClassifier__bootstrap=False, ExtraTreesClassifier__criterion=gini, ExtraTreesClassifier__max_features=0.1, ExtraTreesClassifier__min_samples_leaf=1, ExtraTreesClassifier__min_samples_split=16, ExtraTreesClassifier__n_estimators=100)': {'crossover_count': 0,\n",
       "  'generation': 'INVALID',\n",
       "  'internal_cv_score': 0.9917318653508301,\n",
       "  'mutation_count': 2,\n",
       "  'operator_count': 2,\n",
       "  'predecessor': ('ExtraTreesClassifier(input_matrix, ExtraTreesClassifier__bootstrap=False, ExtraTreesClassifier__criterion=gini, ExtraTreesClassifier__max_features=0.1, ExtraTreesClassifier__min_samples_leaf=1, ExtraTreesClassifier__min_samples_split=16, ExtraTreesClassifier__n_estimators=100)',)},\n",
       " 'ExtraTreesClassifier(RobustScaler(input_matrix), ExtraTreesClassifier__bootstrap=False, ExtraTreesClassifier__criterion=entropy, ExtraTreesClassifier__max_features=0.15000000000000002, ExtraTreesClassifier__min_samples_leaf=9, ExtraTreesClassifier__min_samples_split=12, ExtraTreesClassifier__n_estimators=100)': {'crossover_count': 0,\n",
       "  'generation': 'INVALID',\n",
       "  'internal_cv_score': 0.9909808329991018,\n",
       "  'mutation_count': 3,\n",
       "  'operator_count': 2,\n",
       "  'predecessor': ('ExtraTreesClassifier(input_matrix, ExtraTreesClassifier__bootstrap=False, ExtraTreesClassifier__criterion=entropy, ExtraTreesClassifier__max_features=0.15000000000000002, ExtraTreesClassifier__min_samples_leaf=9, ExtraTreesClassifier__min_samples_split=12, ExtraTreesClassifier__n_estimators=100)',)},\n",
       " 'ExtraTreesClassifier(SelectPercentile(input_matrix, SelectPercentile__percentile=18), ExtraTreesClassifier__bootstrap=True, ExtraTreesClassifier__criterion=entropy, ExtraTreesClassifier__max_features=0.15000000000000002, ExtraTreesClassifier__min_samples_leaf=2, ExtraTreesClassifier__min_samples_split=12, ExtraTreesClassifier__n_estimators=100)': {'crossover_count': 0,\n",
       "  'generation': 0,\n",
       "  'internal_cv_score': 0.9909805505499285,\n",
       "  'mutation_count': 0,\n",
       "  'operator_count': 2,\n",
       "  'predecessor': ('ROOT',)},\n",
       " 'ExtraTreesClassifier(ZeroCount(RFE(input_matrix, RFE__ExtraTreesClassifier__criterion=gini, RFE__ExtraTreesClassifier__max_features=0.4, RFE__ExtraTreesClassifier__n_estimators=100, RFE__step=0.1)), ExtraTreesClassifier__bootstrap=False, ExtraTreesClassifier__criterion=gini, ExtraTreesClassifier__max_features=0.1, ExtraTreesClassifier__min_samples_leaf=1, ExtraTreesClassifier__min_samples_split=16, ExtraTreesClassifier__n_estimators=100)': {'crossover_count': 0,\n",
       "  'generation': 'INVALID',\n",
       "  'internal_cv_score': 0.9894773560497789,\n",
       "  'mutation_count': 3,\n",
       "  'operator_count': 3,\n",
       "  'predecessor': ('ExtraTreesClassifier(RFE(input_matrix, RFE__ExtraTreesClassifier__criterion=gini, RFE__ExtraTreesClassifier__max_features=0.4, RFE__ExtraTreesClassifier__n_estimators=100, RFE__step=0.1), ExtraTreesClassifier__bootstrap=False, ExtraTreesClassifier__criterion=gini, ExtraTreesClassifier__max_features=0.1, ExtraTreesClassifier__min_samples_leaf=1, ExtraTreesClassifier__min_samples_split=16, ExtraTreesClassifier__n_estimators=100)',)},\n",
       " 'ExtraTreesClassifier(input_matrix, ExtraTreesClassifier__bootstrap=False, ExtraTreesClassifier__criterion=entropy, ExtraTreesClassifier__max_features=0.15000000000000002, ExtraTreesClassifier__min_samples_leaf=9, ExtraTreesClassifier__min_samples_split=12, ExtraTreesClassifier__n_estimators=100)': {'crossover_count': 0,\n",
       "  'generation': 'INVALID',\n",
       "  'internal_cv_score': 0.9909808329991018,\n",
       "  'mutation_count': 2,\n",
       "  'operator_count': 1,\n",
       "  'predecessor': ('ExtraTreesClassifier(input_matrix, ExtraTreesClassifier__bootstrap=False, ExtraTreesClassifier__criterion=entropy, ExtraTreesClassifier__max_features=0.4, ExtraTreesClassifier__min_samples_leaf=9, ExtraTreesClassifier__min_samples_split=12, ExtraTreesClassifier__n_estimators=100)',)},\n",
       " 'ExtraTreesClassifier(input_matrix, ExtraTreesClassifier__bootstrap=False, ExtraTreesClassifier__criterion=entropy, ExtraTreesClassifier__max_features=0.4, ExtraTreesClassifier__min_samples_leaf=9, ExtraTreesClassifier__min_samples_split=12, ExtraTreesClassifier__n_estimators=100)': {'crossover_count': 0,\n",
       "  'generation': 'INVALID',\n",
       "  'internal_cv_score': 0.9917324302491767,\n",
       "  'mutation_count': 1,\n",
       "  'operator_count': 1,\n",
       "  'predecessor': ('ExtraTreesClassifier(PCA(input_matrix, PCA__iterated_power=9, PCA__svd_solver=randomized), ExtraTreesClassifier__bootstrap=False, ExtraTreesClassifier__criterion=entropy, ExtraTreesClassifier__max_features=0.4, ExtraTreesClassifier__min_samples_leaf=9, ExtraTreesClassifier__min_samples_split=12, ExtraTreesClassifier__n_estimators=100)',)},\n",
       " 'ExtraTreesClassifier(input_matrix, ExtraTreesClassifier__bootstrap=False, ExtraTreesClassifier__criterion=entropy, ExtraTreesClassifier__max_features=0.45, ExtraTreesClassifier__min_samples_leaf=9, ExtraTreesClassifier__min_samples_split=12, ExtraTreesClassifier__n_estimators=100)': {'crossover_count': 0,\n",
       "  'generation': 'INVALID',\n",
       "  'internal_cv_score': 0.9928596848997022,\n",
       "  'mutation_count': 2,\n",
       "  'operator_count': 1,\n",
       "  'predecessor': ('ExtraTreesClassifier(input_matrix, ExtraTreesClassifier__bootstrap=False, ExtraTreesClassifier__criterion=entropy, ExtraTreesClassifier__max_features=0.4, ExtraTreesClassifier__min_samples_leaf=9, ExtraTreesClassifier__min_samples_split=12, ExtraTreesClassifier__n_estimators=100)',)},\n",
       " 'ExtraTreesClassifier(input_matrix, ExtraTreesClassifier__bootstrap=False, ExtraTreesClassifier__criterion=gini, ExtraTreesClassifier__max_features=0.1, ExtraTreesClassifier__min_samples_leaf=1, ExtraTreesClassifier__min_samples_split=16, ExtraTreesClassifier__n_estimators=100)': {'crossover_count': 0,\n",
       "  'generation': 'INVALID',\n",
       "  'internal_cv_score': 0.9898532958994029,\n",
       "  'mutation_count': 1,\n",
       "  'operator_count': 1,\n",
       "  'predecessor': ('RandomForestClassifier(input_matrix, RandomForestClassifier__bootstrap=False, RandomForestClassifier__criterion=gini, RandomForestClassifier__max_features=0.9500000000000001, RandomForestClassifier__min_samples_leaf=13, RandomForestClassifier__min_samples_split=4, RandomForestClassifier__n_estimators=100)',)},\n",
       " 'ExtraTreesClassifier(input_matrix, ExtraTreesClassifier__bootstrap=False, ExtraTreesClassifier__criterion=gini, ExtraTreesClassifier__max_features=0.3, ExtraTreesClassifier__min_samples_leaf=14, ExtraTreesClassifier__min_samples_split=19, ExtraTreesClassifier__n_estimators=100)': {'crossover_count': 0,\n",
       "  'generation': 0,\n",
       "  'internal_cv_score': 0.990605175598651,\n",
       "  'mutation_count': 0,\n",
       "  'operator_count': 1,\n",
       "  'predecessor': ('ROOT',)},\n",
       " 'ExtraTreesClassifier(input_matrix, ExtraTreesClassifier__bootstrap=False, ExtraTreesClassifier__criterion=gini, ExtraTreesClassifier__max_features=0.3, ExtraTreesClassifier__min_samples_leaf=14, ExtraTreesClassifier__min_samples_split=6, ExtraTreesClassifier__n_estimators=100)': {'crossover_count': 0,\n",
       "  'generation': 'INVALID',\n",
       "  'internal_cv_score': 0.990605175598651,\n",
       "  'mutation_count': 1,\n",
       "  'operator_count': 1,\n",
       "  'predecessor': ('ExtraTreesClassifier(input_matrix, ExtraTreesClassifier__bootstrap=False, ExtraTreesClassifier__criterion=gini, ExtraTreesClassifier__max_features=0.3, ExtraTreesClassifier__min_samples_leaf=14, ExtraTreesClassifier__min_samples_split=19, ExtraTreesClassifier__n_estimators=100)',)},\n",
       " 'ExtraTreesClassifier(input_matrix, ExtraTreesClassifier__bootstrap=True, ExtraTreesClassifier__criterion=entropy, ExtraTreesClassifier__max_features=0.15000000000000002, ExtraTreesClassifier__min_samples_leaf=18, ExtraTreesClassifier__min_samples_split=7, ExtraTreesClassifier__n_estimators=100)': {'crossover_count': 0,\n",
       "  'generation': 0,\n",
       "  'internal_cv_score': 0.9800833789959498,\n",
       "  'mutation_count': 0,\n",
       "  'operator_count': 1,\n",
       "  'predecessor': ('ROOT',)},\n",
       " 'ExtraTreesClassifier(input_matrix, ExtraTreesClassifier__bootstrap=True, ExtraTreesClassifier__criterion=entropy, ExtraTreesClassifier__max_features=0.15000000000000002, ExtraTreesClassifier__min_samples_leaf=2, ExtraTreesClassifier__min_samples_split=12, ExtraTreesClassifier__n_estimators=100)': {'crossover_count': 0,\n",
       "  'generation': 'INVALID',\n",
       "  'internal_cv_score': 0.9906046107003045,\n",
       "  'mutation_count': 1,\n",
       "  'operator_count': 1,\n",
       "  'predecessor': ('ExtraTreesClassifier(SelectPercentile(input_matrix, SelectPercentile__percentile=18), ExtraTreesClassifier__bootstrap=True, ExtraTreesClassifier__criterion=entropy, ExtraTreesClassifier__max_features=0.15000000000000002, ExtraTreesClassifier__min_samples_leaf=2, ExtraTreesClassifier__min_samples_split=12, ExtraTreesClassifier__n_estimators=100)',)},\n",
       " 'GaussianNB(input_matrix)': {'crossover_count': 0,\n",
       "  'generation': 0,\n",
       "  'internal_cv_score': 0.9327324697920609,\n",
       "  'mutation_count': 0,\n",
       "  'operator_count': 1,\n",
       "  'predecessor': ('ROOT',)},\n",
       " 'GradientBoostingClassifier(BernoulliNB(ZeroCount(ExtraTreesClassifier(input_matrix, ExtraTreesClassifier__bootstrap=False, ExtraTreesClassifier__criterion=gini, ExtraTreesClassifier__max_features=0.1, ExtraTreesClassifier__min_samples_leaf=19, ExtraTreesClassifier__min_samples_split=19, ExtraTreesClassifier__n_estimators=100)), BernoulliNB__alpha=0.01, BernoulliNB__fit_prior=False), GradientBoostingClassifier__learning_rate=0.1, GradientBoostingClassifier__max_depth=10, GradientBoostingClassifier__max_features=0.2, GradientBoostingClassifier__min_samples_leaf=2, GradientBoostingClassifier__min_samples_split=3, GradientBoostingClassifier__n_estimators=100, GradientBoostingClassifier__subsample=0.1)': {'crossover_count': 0,\n",
       "  'generation': 'INVALID',\n",
       "  'internal_cv_score': 0.9887274534947437,\n",
       "  'mutation_count': 2,\n",
       "  'operator_count': 4,\n",
       "  'predecessor': ('GradientBoostingClassifier(ZeroCount(ExtraTreesClassifier(input_matrix, ExtraTreesClassifier__bootstrap=False, ExtraTreesClassifier__criterion=gini, ExtraTreesClassifier__max_features=0.1, ExtraTreesClassifier__min_samples_leaf=19, ExtraTreesClassifier__min_samples_split=19, ExtraTreesClassifier__n_estimators=100)), GradientBoostingClassifier__learning_rate=0.1, GradientBoostingClassifier__max_depth=10, GradientBoostingClassifier__max_features=0.2, GradientBoostingClassifier__min_samples_leaf=2, GradientBoostingClassifier__min_samples_split=3, GradientBoostingClassifier__n_estimators=100, GradientBoostingClassifier__subsample=0.1)',)},\n",
       " 'GradientBoostingClassifier(CombineDFs(input_matrix, input_matrix), GradientBoostingClassifier__learning_rate=0.1, GradientBoostingClassifier__max_depth=5, GradientBoostingClassifier__max_features=0.45, GradientBoostingClassifier__min_samples_leaf=2, GradientBoostingClassifier__min_samples_split=16, GradientBoostingClassifier__n_estimators=100, GradientBoostingClassifier__subsample=0.05)': {'crossover_count': 0,\n",
       "  'generation': 'INVALID',\n",
       "  'internal_cv_score': 0.9789600786338498,\n",
       "  'mutation_count': 1,\n",
       "  'operator_count': 1,\n",
       "  'predecessor': ('GradientBoostingClassifier(input_matrix, GradientBoostingClassifier__learning_rate=0.1, GradientBoostingClassifier__max_depth=5, GradientBoostingClassifier__max_features=0.45, GradientBoostingClassifier__min_samples_leaf=2, GradientBoostingClassifier__min_samples_split=16, GradientBoostingClassifier__n_estimators=100, GradientBoostingClassifier__subsample=0.05)',)},\n",
       " 'GradientBoostingClassifier(ExtraTreesClassifier(input_matrix, ExtraTreesClassifier__bootstrap=False, ExtraTreesClassifier__criterion=gini, ExtraTreesClassifier__max_features=0.1, ExtraTreesClassifier__min_samples_leaf=19, ExtraTreesClassifier__min_samples_split=19, ExtraTreesClassifier__n_estimators=100), GradientBoostingClassifier__learning_rate=0.1, GradientBoostingClassifier__max_depth=10, GradientBoostingClassifier__max_features=0.2, GradientBoostingClassifier__min_samples_leaf=2, GradientBoostingClassifier__min_samples_split=13, GradientBoostingClassifier__n_estimators=100, GradientBoostingClassifier__subsample=0.1)': {'crossover_count': 0,\n",
       "  'generation': 'INVALID',\n",
       "  'internal_cv_score': 0.989103675793541,\n",
       "  'mutation_count': 1,\n",
       "  'operator_count': 2,\n",
       "  'predecessor': ('GradientBoostingClassifier(ExtraTreesClassifier(input_matrix, ExtraTreesClassifier__bootstrap=False, ExtraTreesClassifier__criterion=gini, ExtraTreesClassifier__max_features=0.1, ExtraTreesClassifier__min_samples_leaf=19, ExtraTreesClassifier__min_samples_split=19, ExtraTreesClassifier__n_estimators=100), GradientBoostingClassifier__learning_rate=0.1, GradientBoostingClassifier__max_depth=10, GradientBoostingClassifier__max_features=0.2, GradientBoostingClassifier__min_samples_leaf=2, GradientBoostingClassifier__min_samples_split=3, GradientBoostingClassifier__n_estimators=100, GradientBoostingClassifier__subsample=0.1)',)},\n",
       " 'GradientBoostingClassifier(ExtraTreesClassifier(input_matrix, ExtraTreesClassifier__bootstrap=False, ExtraTreesClassifier__criterion=gini, ExtraTreesClassifier__max_features=0.1, ExtraTreesClassifier__min_samples_leaf=19, ExtraTreesClassifier__min_samples_split=19, ExtraTreesClassifier__n_estimators=100), GradientBoostingClassifier__learning_rate=0.1, GradientBoostingClassifier__max_depth=10, GradientBoostingClassifier__max_features=0.2, GradientBoostingClassifier__min_samples_leaf=2, GradientBoostingClassifier__min_samples_split=3, GradientBoostingClassifier__n_estimators=100, GradientBoostingClassifier__subsample=0.1)': {'crossover_count': 0,\n",
       "  'generation': 0,\n",
       "  'internal_cv_score': 0.9936118470481237,\n",
       "  'mutation_count': 0,\n",
       "  'operator_count': 2,\n",
       "  'predecessor': ('ROOT',)},\n",
       " 'GradientBoostingClassifier(ExtraTreesClassifier(input_matrix, ExtraTreesClassifier__bootstrap=False, ExtraTreesClassifier__criterion=gini, ExtraTreesClassifier__max_features=0.1, ExtraTreesClassifier__min_samples_leaf=19, ExtraTreesClassifier__min_samples_split=19, ExtraTreesClassifier__n_estimators=100), GradientBoostingClassifier__learning_rate=0.1, GradientBoostingClassifier__max_depth=10, GradientBoostingClassifier__max_features=0.2, GradientBoostingClassifier__min_samples_leaf=2, GradientBoostingClassifier__min_samples_split=3, GradientBoostingClassifier__n_estimators=100, GradientBoostingClassifier__subsample=0.45)': {'crossover_count': 0,\n",
       "  'generation': 'INVALID',\n",
       "  'internal_cv_score': 0.9917329951475232,\n",
       "  'mutation_count': 1,\n",
       "  'operator_count': 2,\n",
       "  'predecessor': ('GradientBoostingClassifier(ExtraTreesClassifier(input_matrix, ExtraTreesClassifier__bootstrap=False, ExtraTreesClassifier__criterion=gini, ExtraTreesClassifier__max_features=0.1, ExtraTreesClassifier__min_samples_leaf=19, ExtraTreesClassifier__min_samples_split=19, ExtraTreesClassifier__n_estimators=100), GradientBoostingClassifier__learning_rate=0.1, GradientBoostingClassifier__max_depth=10, GradientBoostingClassifier__max_features=0.2, GradientBoostingClassifier__min_samples_leaf=2, GradientBoostingClassifier__min_samples_split=3, GradientBoostingClassifier__n_estimators=100, GradientBoostingClassifier__subsample=0.1)',)},\n",
       " 'GradientBoostingClassifier(GradientBoostingClassifier(input_matrix, GradientBoostingClassifier__learning_rate=0.01, GradientBoostingClassifier__max_depth=9, GradientBoostingClassifier__max_features=0.7000000000000001, GradientBoostingClassifier__min_samples_leaf=7, GradientBoostingClassifier__min_samples_split=18, GradientBoostingClassifier__n_estimators=100, GradientBoostingClassifier__subsample=0.4), GradientBoostingClassifier__learning_rate=0.1, GradientBoostingClassifier__max_depth=5, GradientBoostingClassifier__max_features=0.45, GradientBoostingClassifier__min_samples_leaf=5, GradientBoostingClassifier__min_samples_split=16, GradientBoostingClassifier__n_estimators=100, GradientBoostingClassifier__subsample=0.05)': {'crossover_count': 0,\n",
       "  'generation': 'INVALID',\n",
       "  'internal_cv_score': 0.9853434299497805,\n",
       "  'mutation_count': 2,\n",
       "  'operator_count': 2,\n",
       "  'predecessor': ('GradientBoostingClassifier(input_matrix, GradientBoostingClassifier__learning_rate=0.1, GradientBoostingClassifier__max_depth=5, GradientBoostingClassifier__max_features=0.45, GradientBoostingClassifier__min_samples_leaf=5, GradientBoostingClassifier__min_samples_split=16, GradientBoostingClassifier__n_estimators=100, GradientBoostingClassifier__subsample=0.05)',)},\n",
       " 'GradientBoostingClassifier(MaxAbsScaler(input_matrix), GradientBoostingClassifier__learning_rate=1.0, GradientBoostingClassifier__max_depth=4, GradientBoostingClassifier__max_features=0.15000000000000002, GradientBoostingClassifier__min_samples_leaf=2, GradientBoostingClassifier__min_samples_split=2, GradientBoostingClassifier__n_estimators=100, GradientBoostingClassifier__subsample=0.15000000000000002)': {'crossover_count': 0,\n",
       "  'generation': 'INVALID',\n",
       "  'internal_cv_score': 0.38381650971907605,\n",
       "  'mutation_count': 1,\n",
       "  'operator_count': 2,\n",
       "  'predecessor': ('GradientBoostingClassifier(input_matrix, GradientBoostingClassifier__learning_rate=1.0, GradientBoostingClassifier__max_depth=4, GradientBoostingClassifier__max_features=0.15000000000000002, GradientBoostingClassifier__min_samples_leaf=2, GradientBoostingClassifier__min_samples_split=2, GradientBoostingClassifier__n_estimators=100, GradientBoostingClassifier__subsample=0.15000000000000002)',)},\n",
       " 'GradientBoostingClassifier(PolynomialFeatures(input_matrix, PolynomialFeatures__degree=2, PolynomialFeatures__include_bias=False, PolynomialFeatures__interaction_only=False), GradientBoostingClassifier__learning_rate=0.1, GradientBoostingClassifier__max_depth=5, GradientBoostingClassifier__max_features=0.45, GradientBoostingClassifier__min_samples_leaf=2, GradientBoostingClassifier__min_samples_split=16, GradientBoostingClassifier__n_estimators=100, GradientBoostingClassifier__subsample=0.05)': {'crossover_count': 0,\n",
       "  'generation': 'INVALID',\n",
       "  'internal_cv_score': -inf,\n",
       "  'mutation_count': 1,\n",
       "  'operator_count': 2,\n",
       "  'predecessor': ('GradientBoostingClassifier(input_matrix, GradientBoostingClassifier__learning_rate=0.1, GradientBoostingClassifier__max_depth=5, GradientBoostingClassifier__max_features=0.45, GradientBoostingClassifier__min_samples_leaf=2, GradientBoostingClassifier__min_samples_split=16, GradientBoostingClassifier__n_estimators=100, GradientBoostingClassifier__subsample=0.05)',)},\n",
       " 'GradientBoostingClassifier(ZeroCount(ExtraTreesClassifier(input_matrix, ExtraTreesClassifier__bootstrap=False, ExtraTreesClassifier__criterion=gini, ExtraTreesClassifier__max_features=0.1, ExtraTreesClassifier__min_samples_leaf=19, ExtraTreesClassifier__min_samples_split=12, ExtraTreesClassifier__n_estimators=100)), GradientBoostingClassifier__learning_rate=0.1, GradientBoostingClassifier__max_depth=10, GradientBoostingClassifier__max_features=0.2, GradientBoostingClassifier__min_samples_leaf=2, GradientBoostingClassifier__min_samples_split=3, GradientBoostingClassifier__n_estimators=100, GradientBoostingClassifier__subsample=0.1)': {'crossover_count': 1,\n",
       "  'generation': 'INVALID',\n",
       "  'internal_cv_score': 0.9921083700988007,\n",
       "  'mutation_count': 2,\n",
       "  'operator_count': 3,\n",
       "  'predecessor': ('GradientBoostingClassifier(ZeroCount(ExtraTreesClassifier(input_matrix, ExtraTreesClassifier__bootstrap=False, ExtraTreesClassifier__criterion=gini, ExtraTreesClassifier__max_features=0.1, ExtraTreesClassifier__min_samples_leaf=19, ExtraTreesClassifier__min_samples_split=19, ExtraTreesClassifier__n_estimators=100)), GradientBoostingClassifier__learning_rate=0.1, GradientBoostingClassifier__max_depth=10, GradientBoostingClassifier__max_features=0.2, GradientBoostingClassifier__min_samples_leaf=2, GradientBoostingClassifier__min_samples_split=3, GradientBoostingClassifier__n_estimators=100, GradientBoostingClassifier__subsample=0.1)',\n",
       "   'ExtraTreesClassifier(input_matrix, ExtraTreesClassifier__bootstrap=False, ExtraTreesClassifier__criterion=entropy, ExtraTreesClassifier__max_features=0.4, ExtraTreesClassifier__min_samples_leaf=9, ExtraTreesClassifier__min_samples_split=12, ExtraTreesClassifier__n_estimators=100)')},\n",
       " 'GradientBoostingClassifier(ZeroCount(ExtraTreesClassifier(input_matrix, ExtraTreesClassifier__bootstrap=False, ExtraTreesClassifier__criterion=gini, ExtraTreesClassifier__max_features=0.1, ExtraTreesClassifier__min_samples_leaf=19, ExtraTreesClassifier__min_samples_split=19, ExtraTreesClassifier__n_estimators=100)), GradientBoostingClassifier__learning_rate=0.1, GradientBoostingClassifier__max_depth=10, GradientBoostingClassifier__max_features=0.2, GradientBoostingClassifier__min_samples_leaf=2, GradientBoostingClassifier__min_samples_split=3, GradientBoostingClassifier__n_estimators=100, GradientBoostingClassifier__subsample=0.1)': {'crossover_count': 0,\n",
       "  'generation': 'INVALID',\n",
       "  'internal_cv_score': 0.9921083700988007,\n",
       "  'mutation_count': 1,\n",
       "  'operator_count': 3,\n",
       "  'predecessor': ('GradientBoostingClassifier(ExtraTreesClassifier(input_matrix, ExtraTreesClassifier__bootstrap=False, ExtraTreesClassifier__criterion=gini, ExtraTreesClassifier__max_features=0.1, ExtraTreesClassifier__min_samples_leaf=19, ExtraTreesClassifier__min_samples_split=19, ExtraTreesClassifier__n_estimators=100), GradientBoostingClassifier__learning_rate=0.1, GradientBoostingClassifier__max_depth=10, GradientBoostingClassifier__max_features=0.2, GradientBoostingClassifier__min_samples_leaf=2, GradientBoostingClassifier__min_samples_split=3, GradientBoostingClassifier__n_estimators=100, GradientBoostingClassifier__subsample=0.1)',)},\n",
       " 'GradientBoostingClassifier(ZeroCount(input_matrix), GradientBoostingClassifier__learning_rate=0.1, GradientBoostingClassifier__max_depth=10, GradientBoostingClassifier__max_features=0.2, GradientBoostingClassifier__min_samples_leaf=2, GradientBoostingClassifier__min_samples_split=3, GradientBoostingClassifier__n_estimators=100, GradientBoostingClassifier__subsample=0.1)': {'crossover_count': 0,\n",
       "  'generation': 'INVALID',\n",
       "  'internal_cv_score': 0.9699426063279912,\n",
       "  'mutation_count': 2,\n",
       "  'operator_count': 2,\n",
       "  'predecessor': ('GradientBoostingClassifier(ZeroCount(ExtraTreesClassifier(input_matrix, ExtraTreesClassifier__bootstrap=False, ExtraTreesClassifier__criterion=gini, ExtraTreesClassifier__max_features=0.1, ExtraTreesClassifier__min_samples_leaf=19, ExtraTreesClassifier__min_samples_split=19, ExtraTreesClassifier__n_estimators=100)), GradientBoostingClassifier__learning_rate=0.1, GradientBoostingClassifier__max_depth=10, GradientBoostingClassifier__max_features=0.2, GradientBoostingClassifier__min_samples_leaf=2, GradientBoostingClassifier__min_samples_split=3, GradientBoostingClassifier__n_estimators=100, GradientBoostingClassifier__subsample=0.1)',)},\n",
       " 'GradientBoostingClassifier(input_matrix, GradientBoostingClassifier__learning_rate=0.1, GradientBoostingClassifier__max_depth=10, GradientBoostingClassifier__max_features=0.2, GradientBoostingClassifier__min_samples_leaf=2, GradientBoostingClassifier__min_samples_split=3, GradientBoostingClassifier__n_estimators=100, GradientBoostingClassifier__subsample=0.1)': {'crossover_count': 0,\n",
       "  'generation': 'INVALID',\n",
       "  'internal_cv_score': 0.9819582766081243,\n",
       "  'mutation_count': 1,\n",
       "  'operator_count': 1,\n",
       "  'predecessor': ('GradientBoostingClassifier(ExtraTreesClassifier(input_matrix, ExtraTreesClassifier__bootstrap=False, ExtraTreesClassifier__criterion=gini, ExtraTreesClassifier__max_features=0.1, ExtraTreesClassifier__min_samples_leaf=19, ExtraTreesClassifier__min_samples_split=19, ExtraTreesClassifier__n_estimators=100), GradientBoostingClassifier__learning_rate=0.1, GradientBoostingClassifier__max_depth=10, GradientBoostingClassifier__max_features=0.2, GradientBoostingClassifier__min_samples_leaf=2, GradientBoostingClassifier__min_samples_split=3, GradientBoostingClassifier__n_estimators=100, GradientBoostingClassifier__subsample=0.1)',)},\n",
       " 'GradientBoostingClassifier(input_matrix, GradientBoostingClassifier__learning_rate=0.1, GradientBoostingClassifier__max_depth=5, GradientBoostingClassifier__max_features=0.45, GradientBoostingClassifier__min_samples_leaf=2, GradientBoostingClassifier__min_samples_split=16, GradientBoostingClassifier__n_estimators=100, GradientBoostingClassifier__subsample=0.05)': {'crossover_count': 0,\n",
       "  'generation': 0,\n",
       "  'internal_cv_score': 0.9883506662975997,\n",
       "  'mutation_count': 0,\n",
       "  'operator_count': 1,\n",
       "  'predecessor': ('ROOT',)},\n",
       " 'GradientBoostingClassifier(input_matrix, GradientBoostingClassifier__learning_rate=0.1, GradientBoostingClassifier__max_depth=5, GradientBoostingClassifier__max_features=0.45, GradientBoostingClassifier__min_samples_leaf=5, GradientBoostingClassifier__min_samples_split=16, GradientBoostingClassifier__n_estimators=100, GradientBoostingClassifier__subsample=0.05)': {'crossover_count': 0,\n",
       "  'generation': 'INVALID',\n",
       "  'internal_cv_score': 0.9860961569965485,\n",
       "  'mutation_count': 1,\n",
       "  'operator_count': 1,\n",
       "  'predecessor': ('GradientBoostingClassifier(input_matrix, GradientBoostingClassifier__learning_rate=0.1, GradientBoostingClassifier__max_depth=5, GradientBoostingClassifier__max_features=0.45, GradientBoostingClassifier__min_samples_leaf=2, GradientBoostingClassifier__min_samples_split=16, GradientBoostingClassifier__n_estimators=100, GradientBoostingClassifier__subsample=0.05)',)},\n",
       " 'GradientBoostingClassifier(input_matrix, GradientBoostingClassifier__learning_rate=0.5, GradientBoostingClassifier__max_depth=5, GradientBoostingClassifier__max_features=0.35000000000000003, GradientBoostingClassifier__min_samples_leaf=20, GradientBoostingClassifier__min_samples_split=19, GradientBoostingClassifier__n_estimators=100, GradientBoostingClassifier__subsample=0.8500000000000001)': {'crossover_count': 0,\n",
       "  'generation': 'INVALID',\n",
       "  'internal_cv_score': 0.9827160877400112,\n",
       "  'mutation_count': 1,\n",
       "  'operator_count': 1,\n",
       "  'predecessor': ('LogisticRegression(input_matrix, LogisticRegression__C=15.0, LogisticRegression__dual=False, LogisticRegression__penalty=l2)',)},\n",
       " 'GradientBoostingClassifier(input_matrix, GradientBoostingClassifier__learning_rate=1.0, GradientBoostingClassifier__max_depth=4, GradientBoostingClassifier__max_features=0.15000000000000002, GradientBoostingClassifier__min_samples_leaf=2, GradientBoostingClassifier__min_samples_split=2, GradientBoostingClassifier__n_estimators=100, GradientBoostingClassifier__subsample=0.15000000000000002)': {'crossover_count': 0,\n",
       "  'generation': 0,\n",
       "  'internal_cv_score': 0.38381650971907605,\n",
       "  'mutation_count': 0,\n",
       "  'operator_count': 1,\n",
       "  'predecessor': ('ROOT',)},\n",
       " 'GradientBoostingClassifier(input_matrix, GradientBoostingClassifier__learning_rate=1.0, GradientBoostingClassifier__max_depth=6, GradientBoostingClassifier__max_features=0.15000000000000002, GradientBoostingClassifier__min_samples_leaf=2, GradientBoostingClassifier__min_samples_split=2, GradientBoostingClassifier__n_estimators=100, GradientBoostingClassifier__subsample=0.15000000000000002)': {'crossover_count': 0,\n",
       "  'generation': 'INVALID',\n",
       "  'internal_cv_score': 0.5507047106873117,\n",
       "  'mutation_count': 1,\n",
       "  'operator_count': 1,\n",
       "  'predecessor': ('GradientBoostingClassifier(input_matrix, GradientBoostingClassifier__learning_rate=1.0, GradientBoostingClassifier__max_depth=4, GradientBoostingClassifier__max_features=0.15000000000000002, GradientBoostingClassifier__min_samples_leaf=2, GradientBoostingClassifier__min_samples_split=2, GradientBoostingClassifier__n_estimators=100, GradientBoostingClassifier__subsample=0.15000000000000002)',)},\n",
       " 'KNeighborsClassifier(Binarizer(PCA(input_matrix, PCA__iterated_power=5, PCA__svd_solver=randomized), Binarizer__threshold=0.5), KNeighborsClassifier__n_neighbors=89, KNeighborsClassifier__p=1, KNeighborsClassifier__weights=uniform)': {'crossover_count': 0,\n",
       "  'generation': 'INVALID',\n",
       "  'internal_cv_score': 0.976324827847229,\n",
       "  'mutation_count': 1,\n",
       "  'operator_count': 3,\n",
       "  'predecessor': ('KNeighborsClassifier(PCA(input_matrix, PCA__iterated_power=5, PCA__svd_solver=randomized), KNeighborsClassifier__n_neighbors=89, KNeighborsClassifier__p=1, KNeighborsClassifier__weights=uniform)',)},\n",
       " 'KNeighborsClassifier(PCA(input_matrix, PCA__iterated_power=5, PCA__svd_solver=randomized), KNeighborsClassifier__n_neighbors=89, KNeighborsClassifier__p=1, KNeighborsClassifier__weights=uniform)': {'crossover_count': 0,\n",
       "  'generation': 0,\n",
       "  'internal_cv_score': 0.976324827847229,\n",
       "  'mutation_count': 0,\n",
       "  'operator_count': 2,\n",
       "  'predecessor': ('ROOT',)},\n",
       " 'KNeighborsClassifier(input_matrix, KNeighborsClassifier__n_neighbors=29, KNeighborsClassifier__p=2, KNeighborsClassifier__weights=uniform)': {'crossover_count': 0,\n",
       "  'generation': 0,\n",
       "  'internal_cv_score': 0.976324827847229,\n",
       "  'mutation_count': 0,\n",
       "  'operator_count': 1,\n",
       "  'predecessor': ('ROOT',)},\n",
       " 'KNeighborsClassifier(input_matrix, KNeighborsClassifier__n_neighbors=58, KNeighborsClassifier__p=2, KNeighborsClassifier__weights=distance)': {'crossover_count': 0,\n",
       "  'generation': 'INVALID',\n",
       "  'internal_cv_score': 0.976324827847229,\n",
       "  'mutation_count': 2,\n",
       "  'operator_count': 1,\n",
       "  'predecessor': ('RandomForestClassifier(input_matrix, RandomForestClassifier__bootstrap=True, RandomForestClassifier__criterion=entropy, RandomForestClassifier__max_features=0.55, RandomForestClassifier__min_samples_leaf=17, RandomForestClassifier__min_samples_split=12, RandomForestClassifier__n_estimators=100)',)},\n",
       " 'KNeighborsClassifier(input_matrix, KNeighborsClassifier__n_neighbors=72, KNeighborsClassifier__p=1, KNeighborsClassifier__weights=distance)': {'crossover_count': 0,\n",
       "  'generation': 'INVALID',\n",
       "  'internal_cv_score': 0.976324827847229,\n",
       "  'mutation_count': 3,\n",
       "  'operator_count': 1,\n",
       "  'predecessor': ('ExtraTreesClassifier(input_matrix, ExtraTreesClassifier__bootstrap=False, ExtraTreesClassifier__criterion=entropy, ExtraTreesClassifier__max_features=0.45, ExtraTreesClassifier__min_samples_leaf=9, ExtraTreesClassifier__min_samples_split=12, ExtraTreesClassifier__n_estimators=100)',)},\n",
       " 'KNeighborsClassifier(input_matrix, KNeighborsClassifier__n_neighbors=89, KNeighborsClassifier__p=1, KNeighborsClassifier__weights=uniform)': {'crossover_count': 1,\n",
       "  'generation': 'INVALID',\n",
       "  'internal_cv_score': 0.976324827847229,\n",
       "  'mutation_count': 0,\n",
       "  'operator_count': 1,\n",
       "  'predecessor': ('KNeighborsClassifier(PCA(input_matrix, PCA__iterated_power=5, PCA__svd_solver=randomized), KNeighborsClassifier__n_neighbors=89, KNeighborsClassifier__p=1, KNeighborsClassifier__weights=uniform)',\n",
       "   'ExtraTreesClassifier(PCA(input_matrix, PCA__iterated_power=9, PCA__svd_solver=randomized), ExtraTreesClassifier__bootstrap=False, ExtraTreesClassifier__criterion=entropy, ExtraTreesClassifier__max_features=0.4, ExtraTreesClassifier__min_samples_leaf=9, ExtraTreesClassifier__min_samples_split=12, ExtraTreesClassifier__n_estimators=100)')},\n",
       " 'LinearSVC(RobustScaler(input_matrix), LinearSVC__C=1.0, LinearSVC__dual=False, LinearSVC__loss=squared_hinge, LinearSVC__penalty=l2, LinearSVC__tol=0.1)': {'crossover_count': 0,\n",
       "  'generation': 'INVALID',\n",
       "  'internal_cv_score': 0.9875993514966981,\n",
       "  'mutation_count': 1,\n",
       "  'operator_count': 2,\n",
       "  'predecessor': ('LinearSVC(RobustScaler(input_matrix), LinearSVC__C=1.0, LinearSVC__dual=True, LinearSVC__loss=squared_hinge, LinearSVC__penalty=l2, LinearSVC__tol=0.1)',)},\n",
       " 'LinearSVC(RobustScaler(input_matrix), LinearSVC__C=1.0, LinearSVC__dual=True, LinearSVC__loss=squared_hinge, LinearSVC__penalty=l2, LinearSVC__tol=0.1)': {'crossover_count': 0,\n",
       "  'generation': 0,\n",
       "  'internal_cv_score': 0.9872234116470742,\n",
       "  'mutation_count': 0,\n",
       "  'operator_count': 2,\n",
       "  'predecessor': ('ROOT',)},\n",
       " 'LinearSVC(input_matrix, LinearSVC__C=1.0, LinearSVC__dual=True, LinearSVC__loss=squared_hinge, LinearSVC__penalty=l2, LinearSVC__tol=0.1)': {'crossover_count': 0,\n",
       "  'generation': 'INVALID',\n",
       "  'internal_cv_score': 0.9834631658033137,\n",
       "  'mutation_count': 1,\n",
       "  'operator_count': 1,\n",
       "  'predecessor': ('LinearSVC(RobustScaler(input_matrix), LinearSVC__C=1.0, LinearSVC__dual=True, LinearSVC__loss=squared_hinge, LinearSVC__penalty=l2, LinearSVC__tol=0.1)',)},\n",
       " 'LogisticRegression(DecisionTreeClassifier(CombineDFs(input_matrix, input_matrix), DecisionTreeClassifier__criterion=gini, DecisionTreeClassifier__max_depth=9, DecisionTreeClassifier__min_samples_leaf=13, DecisionTreeClassifier__min_samples_split=19), LogisticRegression__C=15.0, LogisticRegression__dual=False, LogisticRegression__penalty=l1)': {'crossover_count': 1,\n",
       "  'generation': 'INVALID',\n",
       "  'internal_cv_score': 0.9913562079503793,\n",
       "  'mutation_count': 3,\n",
       "  'operator_count': 2,\n",
       "  'predecessor': ('LogisticRegression(DecisionTreeClassifier(input_matrix, DecisionTreeClassifier__criterion=gini, DecisionTreeClassifier__max_depth=9, DecisionTreeClassifier__min_samples_leaf=13, DecisionTreeClassifier__min_samples_split=19), LogisticRegression__C=15.0, LogisticRegression__dual=False, LogisticRegression__penalty=l1)',)},\n",
       " 'LogisticRegression(DecisionTreeClassifier(input_matrix, DecisionTreeClassifier__criterion=gini, DecisionTreeClassifier__max_depth=10, DecisionTreeClassifier__min_samples_leaf=13, DecisionTreeClassifier__min_samples_split=19), LogisticRegression__C=15.0, LogisticRegression__dual=False, LogisticRegression__penalty=l1)': {'crossover_count': 0,\n",
       "  'generation': 0,\n",
       "  'internal_cv_score': 0.9917321478000034,\n",
       "  'mutation_count': 0,\n",
       "  'operator_count': 2,\n",
       "  'predecessor': ('ROOT',)},\n",
       " 'LogisticRegression(DecisionTreeClassifier(input_matrix, DecisionTreeClassifier__criterion=gini, DecisionTreeClassifier__max_depth=7, DecisionTreeClassifier__min_samples_leaf=13, DecisionTreeClassifier__min_samples_split=19), LogisticRegression__C=15.0, LogisticRegression__dual=False, LogisticRegression__penalty=l1)': {'crossover_count': 1,\n",
       "  'generation': 'INVALID',\n",
       "  'internal_cv_score': 0.9917321478000034,\n",
       "  'mutation_count': 1,\n",
       "  'operator_count': 2,\n",
       "  'predecessor': ('LogisticRegression(DecisionTreeClassifier(input_matrix, DecisionTreeClassifier__criterion=gini, DecisionTreeClassifier__max_depth=10, DecisionTreeClassifier__min_samples_leaf=13, DecisionTreeClassifier__min_samples_split=19), LogisticRegression__C=15.0, LogisticRegression__dual=False, LogisticRegression__penalty=l1)',\n",
       "   'DecisionTreeClassifier(input_matrix, DecisionTreeClassifier__criterion=gini, DecisionTreeClassifier__max_depth=7, DecisionTreeClassifier__min_samples_leaf=16, DecisionTreeClassifier__min_samples_split=20)')},\n",
       " 'LogisticRegression(DecisionTreeClassifier(input_matrix, DecisionTreeClassifier__criterion=gini, DecisionTreeClassifier__max_depth=9, DecisionTreeClassifier__min_samples_leaf=13, DecisionTreeClassifier__min_samples_split=19), LogisticRegression__C=15.0, LogisticRegression__dual=False, LogisticRegression__penalty=l1)': {'crossover_count': 1,\n",
       "  'generation': 'INVALID',\n",
       "  'internal_cv_score': 0.9917321478000034,\n",
       "  'mutation_count': 2,\n",
       "  'operator_count': 2,\n",
       "  'predecessor': ('LogisticRegression(DecisionTreeClassifier(input_matrix, DecisionTreeClassifier__criterion=gini, DecisionTreeClassifier__max_depth=7, DecisionTreeClassifier__min_samples_leaf=13, DecisionTreeClassifier__min_samples_split=19), LogisticRegression__C=15.0, LogisticRegression__dual=False, LogisticRegression__penalty=l1)',)},\n",
       " 'LogisticRegression(GaussianNB(DecisionTreeClassifier(input_matrix, DecisionTreeClassifier__criterion=gini, DecisionTreeClassifier__max_depth=9, DecisionTreeClassifier__min_samples_leaf=13, DecisionTreeClassifier__min_samples_split=19)), LogisticRegression__C=15.0, LogisticRegression__dual=False, LogisticRegression__penalty=l1)': {'crossover_count': 1,\n",
       "  'generation': 'INVALID',\n",
       "  'internal_cv_score': 0.9921080876496274,\n",
       "  'mutation_count': 3,\n",
       "  'operator_count': 3,\n",
       "  'predecessor': ('LogisticRegression(DecisionTreeClassifier(input_matrix, DecisionTreeClassifier__criterion=gini, DecisionTreeClassifier__max_depth=9, DecisionTreeClassifier__min_samples_leaf=13, DecisionTreeClassifier__min_samples_split=19), LogisticRegression__C=15.0, LogisticRegression__dual=False, LogisticRegression__penalty=l1)',)},\n",
       " 'LogisticRegression(GaussianNB(SelectPercentile(DecisionTreeClassifier(input_matrix, DecisionTreeClassifier__criterion=gini, DecisionTreeClassifier__max_depth=9, DecisionTreeClassifier__min_samples_leaf=13, DecisionTreeClassifier__min_samples_split=19), SelectPercentile__percentile=57)), LogisticRegression__C=15.0, LogisticRegression__dual=False, LogisticRegression__penalty=l1)': {'crossover_count': 1,\n",
       "  'generation': 'INVALID',\n",
       "  'internal_cv_score': 0.993235342300153,\n",
       "  'mutation_count': 4,\n",
       "  'operator_count': 4,\n",
       "  'predecessor': ('LogisticRegression(GaussianNB(DecisionTreeClassifier(input_matrix, DecisionTreeClassifier__criterion=gini, DecisionTreeClassifier__max_depth=9, DecisionTreeClassifier__min_samples_leaf=13, DecisionTreeClassifier__min_samples_split=19)), LogisticRegression__C=15.0, LogisticRegression__dual=False, LogisticRegression__penalty=l1)',)},\n",
       " 'LogisticRegression(GradientBoostingClassifier(input_matrix, GradientBoostingClassifier__learning_rate=0.01, GradientBoostingClassifier__max_depth=10, GradientBoostingClassifier__max_features=0.9000000000000001, GradientBoostingClassifier__min_samples_leaf=11, GradientBoostingClassifier__min_samples_split=4, GradientBoostingClassifier__n_estimators=100, GradientBoostingClassifier__subsample=0.1), LogisticRegression__C=15.0, LogisticRegression__dual=False, LogisticRegression__penalty=l2)': {'crossover_count': 1,\n",
       "  'generation': 'INVALID',\n",
       "  'internal_cv_score': 0.9921075227512809,\n",
       "  'mutation_count': 2,\n",
       "  'operator_count': 2,\n",
       "  'predecessor': ('LogisticRegression(GradientBoostingClassifier(input_matrix, GradientBoostingClassifier__learning_rate=0.01, GradientBoostingClassifier__max_depth=5, GradientBoostingClassifier__max_features=0.9000000000000001, GradientBoostingClassifier__min_samples_leaf=11, GradientBoostingClassifier__min_samples_split=4, GradientBoostingClassifier__n_estimators=100, GradientBoostingClassifier__subsample=0.1), LogisticRegression__C=15.0, LogisticRegression__dual=False, LogisticRegression__penalty=l2)',\n",
       "   'GradientBoostingClassifier(ZeroCount(ExtraTreesClassifier(input_matrix, ExtraTreesClassifier__bootstrap=False, ExtraTreesClassifier__criterion=gini, ExtraTreesClassifier__max_features=0.1, ExtraTreesClassifier__min_samples_leaf=19, ExtraTreesClassifier__min_samples_split=19, ExtraTreesClassifier__n_estimators=100)), GradientBoostingClassifier__learning_rate=0.1, GradientBoostingClassifier__max_depth=10, GradientBoostingClassifier__max_features=0.2, GradientBoostingClassifier__min_samples_leaf=2, GradientBoostingClassifier__min_samples_split=3, GradientBoostingClassifier__n_estimators=100, GradientBoostingClassifier__subsample=0.1)')},\n",
       " 'LogisticRegression(GradientBoostingClassifier(input_matrix, GradientBoostingClassifier__learning_rate=0.01, GradientBoostingClassifier__max_depth=5, GradientBoostingClassifier__max_features=0.9000000000000001, GradientBoostingClassifier__min_samples_leaf=11, GradientBoostingClassifier__min_samples_split=4, GradientBoostingClassifier__n_estimators=100, GradientBoostingClassifier__subsample=0.1), LogisticRegression__C=15.0, LogisticRegression__dual=False, LogisticRegression__penalty=l1)': {'crossover_count': 1,\n",
       "  'generation': 'INVALID',\n",
       "  'internal_cv_score': 0.9928599673488756,\n",
       "  'mutation_count': 2,\n",
       "  'operator_count': 2,\n",
       "  'predecessor': ('LogisticRegression(input_matrix, LogisticRegression__C=15.0, LogisticRegression__dual=False, LogisticRegression__penalty=l1)',\n",
       "   'LogisticRegression(GradientBoostingClassifier(input_matrix, GradientBoostingClassifier__learning_rate=0.01, GradientBoostingClassifier__max_depth=5, GradientBoostingClassifier__max_features=0.9000000000000001, GradientBoostingClassifier__min_samples_leaf=11, GradientBoostingClassifier__min_samples_split=4, GradientBoostingClassifier__n_estimators=100, GradientBoostingClassifier__subsample=0.1), LogisticRegression__C=15.0, LogisticRegression__dual=False, LogisticRegression__penalty=l2)')},\n",
       " 'LogisticRegression(GradientBoostingClassifier(input_matrix, GradientBoostingClassifier__learning_rate=0.01, GradientBoostingClassifier__max_depth=5, GradientBoostingClassifier__max_features=0.9000000000000001, GradientBoostingClassifier__min_samples_leaf=11, GradientBoostingClassifier__min_samples_split=4, GradientBoostingClassifier__n_estimators=100, GradientBoostingClassifier__subsample=0.1), LogisticRegression__C=15.0, LogisticRegression__dual=False, LogisticRegression__penalty=l2)': {'crossover_count': 0,\n",
       "  'generation': 'INVALID',\n",
       "  'internal_cv_score': 0.9924831801517318,\n",
       "  'mutation_count': 1,\n",
       "  'operator_count': 2,\n",
       "  'predecessor': ('LogisticRegression(input_matrix, LogisticRegression__C=15.0, LogisticRegression__dual=False, LogisticRegression__penalty=l2)',)},\n",
       " 'LogisticRegression(Nystroem(input_matrix, Nystroem__gamma=0.75, Nystroem__kernel=sigmoid, Nystroem__n_components=8), LogisticRegression__C=15.0, LogisticRegression__dual=False, LogisticRegression__penalty=l2)': {'crossover_count': 0,\n",
       "  'generation': 'INVALID',\n",
       "  'internal_cv_score': 0.976324827847229,\n",
       "  'mutation_count': 1,\n",
       "  'operator_count': 2,\n",
       "  'predecessor': ('LogisticRegression(input_matrix, LogisticRegression__C=15.0, LogisticRegression__dual=False, LogisticRegression__penalty=l2)',)},\n",
       " 'LogisticRegression(PCA(input_matrix, PCA__iterated_power=6, PCA__svd_solver=randomized), LogisticRegression__C=15.0, LogisticRegression__dual=False, LogisticRegression__penalty=l1)': {'crossover_count': 0,\n",
       "  'generation': 'INVALID',\n",
       "  'internal_cv_score': 0.9906054580478243,\n",
       "  'mutation_count': 2,\n",
       "  'operator_count': 2,\n",
       "  'predecessor': ('LogisticRegression(input_matrix, LogisticRegression__C=15.0, LogisticRegression__dual=False, LogisticRegression__penalty=l1)',)},\n",
       " 'LogisticRegression(PCA(input_matrix, PCA__iterated_power=9, PCA__svd_solver=randomized), LogisticRegression__C=15.0, LogisticRegression__dual=False, LogisticRegression__penalty=l1)': {'crossover_count': 1,\n",
       "  'generation': 'INVALID',\n",
       "  'internal_cv_score': 0.9906054580478243,\n",
       "  'mutation_count': 2,\n",
       "  'operator_count': 2,\n",
       "  'predecessor': ('LogisticRegression(DecisionTreeClassifier(input_matrix, DecisionTreeClassifier__criterion=gini, DecisionTreeClassifier__max_depth=7, DecisionTreeClassifier__min_samples_leaf=13, DecisionTreeClassifier__min_samples_split=19), LogisticRegression__C=15.0, LogisticRegression__dual=False, LogisticRegression__penalty=l1)',)},\n",
       " 'LogisticRegression(ZeroCount(input_matrix), LogisticRegression__C=20.0, LogisticRegression__dual=False, LogisticRegression__penalty=l2)': {'crossover_count': 0,\n",
       "  'generation': 'INVALID',\n",
       "  'internal_cv_score': 0.9928591200013557,\n",
       "  'mutation_count': 2,\n",
       "  'operator_count': 2,\n",
       "  'predecessor': ('LogisticRegression(input_matrix, LogisticRegression__C=20.0, LogisticRegression__dual=False, LogisticRegression__penalty=l2)',)},\n",
       " 'LogisticRegression(input_matrix, LogisticRegression__C=0.0001, LogisticRegression__dual=False, LogisticRegression__penalty=l2)': {'crossover_count': 0,\n",
       "  'generation': 'INVALID',\n",
       "  'internal_cv_score': 0.9845923975980522,\n",
       "  'mutation_count': 1,\n",
       "  'operator_count': 1,\n",
       "  'predecessor': ('LogisticRegression(input_matrix, LogisticRegression__C=15.0, LogisticRegression__dual=False, LogisticRegression__penalty=l2)',)},\n",
       " 'LogisticRegression(input_matrix, LogisticRegression__C=0.01, LogisticRegression__dual=False, LogisticRegression__penalty=l1)': {'crossover_count': 0,\n",
       "  'generation': 'INVALID',\n",
       "  'internal_cv_score': 0.9902295181982002,\n",
       "  'mutation_count': 2,\n",
       "  'operator_count': 1,\n",
       "  'predecessor': ('LogisticRegression(input_matrix, LogisticRegression__C=15.0, LogisticRegression__dual=False, LogisticRegression__penalty=l1)',)},\n",
       " 'LogisticRegression(input_matrix, LogisticRegression__C=15.0, LogisticRegression__dual=False, LogisticRegression__penalty=l1)': {'crossover_count': 0,\n",
       "  'generation': 'INVALID',\n",
       "  'internal_cv_score': 0.9928599673488756,\n",
       "  'mutation_count': 1,\n",
       "  'operator_count': 1,\n",
       "  'predecessor': ('LogisticRegression(DecisionTreeClassifier(input_matrix, DecisionTreeClassifier__criterion=gini, DecisionTreeClassifier__max_depth=10, DecisionTreeClassifier__min_samples_leaf=13, DecisionTreeClassifier__min_samples_split=19), LogisticRegression__C=15.0, LogisticRegression__dual=False, LogisticRegression__penalty=l1)',)},\n",
       " 'LogisticRegression(input_matrix, LogisticRegression__C=15.0, LogisticRegression__dual=False, LogisticRegression__penalty=l2)': {'crossover_count': 0,\n",
       "  'generation': 0,\n",
       "  'internal_cv_score': 0.9924831801517318,\n",
       "  'mutation_count': 0,\n",
       "  'operator_count': 1,\n",
       "  'predecessor': ('ROOT',)},\n",
       " 'LogisticRegression(input_matrix, LogisticRegression__C=15.0, LogisticRegression__dual=True, LogisticRegression__penalty=l2)': {'crossover_count': 0,\n",
       "  'generation': 'INVALID',\n",
       "  'internal_cv_score': 0.9815857261485795,\n",
       "  'mutation_count': 1,\n",
       "  'operator_count': 1,\n",
       "  'predecessor': ('LogisticRegression(input_matrix, LogisticRegression__C=15.0, LogisticRegression__dual=False, LogisticRegression__penalty=l2)',)},\n",
       " 'LogisticRegression(input_matrix, LogisticRegression__C=20.0, LogisticRegression__dual=False, LogisticRegression__penalty=l2)': {'crossover_count': 0,\n",
       "  'generation': 'INVALID',\n",
       "  'internal_cv_score': 0.9921075227512809,\n",
       "  'mutation_count': 1,\n",
       "  'operator_count': 1,\n",
       "  'predecessor': ('LogisticRegression(input_matrix, LogisticRegression__C=15.0, LogisticRegression__dual=False, LogisticRegression__penalty=l2)',)},\n",
       " 'RandomForestClassifier(BernoulliNB(input_matrix, BernoulliNB__alpha=0.01, BernoulliNB__fit_prior=False), RandomForestClassifier__bootstrap=True, RandomForestClassifier__criterion=entropy, RandomForestClassifier__max_features=0.55, RandomForestClassifier__min_samples_leaf=17, RandomForestClassifier__min_samples_split=20, RandomForestClassifier__n_estimators=100)': {'crossover_count': 0,\n",
       "  'generation': 'INVALID',\n",
       "  'internal_cv_score': 0.9913570552978992,\n",
       "  'mutation_count': 3,\n",
       "  'operator_count': 2,\n",
       "  'predecessor': ('RandomForestClassifier(input_matrix, RandomForestClassifier__bootstrap=True, RandomForestClassifier__criterion=entropy, RandomForestClassifier__max_features=0.55, RandomForestClassifier__min_samples_leaf=17, RandomForestClassifier__min_samples_split=20, RandomForestClassifier__n_estimators=100)',)},\n",
       " 'RandomForestClassifier(Binarizer(input_matrix, Binarizer__threshold=0.65), RandomForestClassifier__bootstrap=True, RandomForestClassifier__criterion=entropy, RandomForestClassifier__max_features=0.55, RandomForestClassifier__min_samples_leaf=17, RandomForestClassifier__min_samples_split=20, RandomForestClassifier__n_estimators=100)': {'crossover_count': 1,\n",
       "  'generation': 'INVALID',\n",
       "  'internal_cv_score': 0.9759491704467781,\n",
       "  'mutation_count': 4,\n",
       "  'operator_count': 2,\n",
       "  'predecessor': ('RandomForestClassifier(OneHotEncoder(input_matrix, OneHotEncoder__minimum_fraction=0.25, OneHotEncoder__sparse=False), RandomForestClassifier__bootstrap=True, RandomForestClassifier__criterion=entropy, RandomForestClassifier__max_features=0.55, RandomForestClassifier__min_samples_leaf=17, RandomForestClassifier__min_samples_split=20, RandomForestClassifier__n_estimators=100)',)},\n",
       " 'RandomForestClassifier(CombineDFs(input_matrix, input_matrix), RandomForestClassifier__bootstrap=True, RandomForestClassifier__criterion=gini, RandomForestClassifier__max_features=0.8500000000000001, RandomForestClassifier__min_samples_leaf=20, RandomForestClassifier__min_samples_split=19, RandomForestClassifier__n_estimators=100)': {'crossover_count': 0,\n",
       "  'generation': 'INVALID',\n",
       "  'internal_cv_score': 0.9891028284460212,\n",
       "  'mutation_count': 1,\n",
       "  'operator_count': 1,\n",
       "  'predecessor': ('RandomForestClassifier(Nystroem(input_matrix, Nystroem__gamma=0.65, Nystroem__kernel=linear, Nystroem__n_components=4), RandomForestClassifier__bootstrap=True, RandomForestClassifier__criterion=gini, RandomForestClassifier__max_features=0.8500000000000001, RandomForestClassifier__min_samples_leaf=20, RandomForestClassifier__min_samples_split=19, RandomForestClassifier__n_estimators=100)',)},\n",
       " 'RandomForestClassifier(FastICA(input_matrix, FastICA__tol=0.5), RandomForestClassifier__bootstrap=True, RandomForestClassifier__criterion=entropy, RandomForestClassifier__max_features=0.55, RandomForestClassifier__min_samples_leaf=17, RandomForestClassifier__min_samples_split=5, RandomForestClassifier__n_estimators=100)': {'crossover_count': 0,\n",
       "  'generation': 'INVALID',\n",
       "  'internal_cv_score': 0.976324827847229,\n",
       "  'mutation_count': 3,\n",
       "  'operator_count': 2,\n",
       "  'predecessor': ('RandomForestClassifier(input_matrix, RandomForestClassifier__bootstrap=True, RandomForestClassifier__criterion=entropy, RandomForestClassifier__max_features=0.55, RandomForestClassifier__min_samples_leaf=17, RandomForestClassifier__min_samples_split=5, RandomForestClassifier__n_estimators=100)',)},\n",
       " 'RandomForestClassifier(FeatureAgglomeration(input_matrix, FeatureAgglomeration__affinity=l1, FeatureAgglomeration__linkage=average), RandomForestClassifier__bootstrap=True, RandomForestClassifier__criterion=entropy, RandomForestClassifier__max_features=0.55, RandomForestClassifier__min_samples_leaf=17, RandomForestClassifier__min_samples_split=12, RandomForestClassifier__n_estimators=100)': {'crossover_count': 0,\n",
       "  'generation': 'INVALID',\n",
       "  'internal_cv_score': 0.976324827847229,\n",
       "  'mutation_count': 2,\n",
       "  'operator_count': 2,\n",
       "  'predecessor': ('RandomForestClassifier(input_matrix, RandomForestClassifier__bootstrap=True, RandomForestClassifier__criterion=entropy, RandomForestClassifier__max_features=0.55, RandomForestClassifier__min_samples_leaf=17, RandomForestClassifier__min_samples_split=12, RandomForestClassifier__n_estimators=100)',)},\n",
       " 'RandomForestClassifier(Nystroem(input_matrix, Nystroem__gamma=0.55, Nystroem__kernel=poly, Nystroem__n_components=2), RandomForestClassifier__bootstrap=False, RandomForestClassifier__criterion=entropy, RandomForestClassifier__max_features=0.3, RandomForestClassifier__min_samples_leaf=1, RandomForestClassifier__min_samples_split=8, RandomForestClassifier__n_estimators=100)': {'crossover_count': 0,\n",
       "  'generation': 'INVALID',\n",
       "  'internal_cv_score': 0.9631697576021194,\n",
       "  'mutation_count': 3,\n",
       "  'operator_count': 2,\n",
       "  'predecessor': ('RandomForestClassifier(input_matrix, RandomForestClassifier__bootstrap=False, RandomForestClassifier__criterion=entropy, RandomForestClassifier__max_features=0.3, RandomForestClassifier__min_samples_leaf=1, RandomForestClassifier__min_samples_split=8, RandomForestClassifier__n_estimators=100)',)},\n",
       " 'RandomForestClassifier(Nystroem(input_matrix, Nystroem__gamma=0.65, Nystroem__kernel=linear, Nystroem__n_components=4), RandomForestClassifier__bootstrap=True, RandomForestClassifier__criterion=gini, RandomForestClassifier__max_features=0.8500000000000001, RandomForestClassifier__min_samples_leaf=20, RandomForestClassifier__min_samples_split=19, RandomForestClassifier__n_estimators=100)': {'crossover_count': 0,\n",
       "  'generation': 0,\n",
       "  'internal_cv_score': 0.976324827847229,\n",
       "  'mutation_count': 0,\n",
       "  'operator_count': 2,\n",
       "  'predecessor': ('ROOT',)},\n",
       " 'RandomForestClassifier(OneHotEncoder(RobustScaler(input_matrix), OneHotEncoder__minimum_fraction=0.25, OneHotEncoder__sparse=False), RandomForestClassifier__bootstrap=True, RandomForestClassifier__criterion=entropy, RandomForestClassifier__max_features=0.55, RandomForestClassifier__min_samples_leaf=17, RandomForestClassifier__min_samples_split=12, RandomForestClassifier__n_estimators=100)': {'crossover_count': 0,\n",
       "  'generation': 'INVALID',\n",
       "  'internal_cv_score': 0.9917329951475232,\n",
       "  'mutation_count': 2,\n",
       "  'operator_count': 3,\n",
       "  'predecessor': ('RandomForestClassifier(OneHotEncoder(input_matrix, OneHotEncoder__minimum_fraction=0.25, OneHotEncoder__sparse=False), RandomForestClassifier__bootstrap=True, RandomForestClassifier__criterion=entropy, RandomForestClassifier__max_features=0.55, RandomForestClassifier__min_samples_leaf=17, RandomForestClassifier__min_samples_split=12, RandomForestClassifier__n_estimators=100)',)},\n",
       " 'RandomForestClassifier(OneHotEncoder(input_matrix, OneHotEncoder__minimum_fraction=0.2, OneHotEncoder__sparse=False), RandomForestClassifier__bootstrap=True, RandomForestClassifier__criterion=entropy, RandomForestClassifier__max_features=0.55, RandomForestClassifier__min_samples_leaf=17, RandomForestClassifier__min_samples_split=12, RandomForestClassifier__n_estimators=100)': {'crossover_count': 0,\n",
       "  'generation': 0,\n",
       "  'internal_cv_score': 0.9898538607977494,\n",
       "  'mutation_count': 0,\n",
       "  'operator_count': 2,\n",
       "  'predecessor': ('ROOT',)},\n",
       " 'RandomForestClassifier(OneHotEncoder(input_matrix, OneHotEncoder__minimum_fraction=0.2, OneHotEncoder__sparse=False), RandomForestClassifier__bootstrap=True, RandomForestClassifier__criterion=entropy, RandomForestClassifier__max_features=0.55, RandomForestClassifier__min_samples_leaf=17, RandomForestClassifier__min_samples_split=5, RandomForestClassifier__n_estimators=100)': {'crossover_count': 0,\n",
       "  'generation': 'INVALID',\n",
       "  'internal_cv_score': 0.9898538607977494,\n",
       "  'mutation_count': 1,\n",
       "  'operator_count': 2,\n",
       "  'predecessor': ('RandomForestClassifier(OneHotEncoder(input_matrix, OneHotEncoder__minimum_fraction=0.2, OneHotEncoder__sparse=False), RandomForestClassifier__bootstrap=True, RandomForestClassifier__criterion=entropy, RandomForestClassifier__max_features=0.55, RandomForestClassifier__min_samples_leaf=17, RandomForestClassifier__min_samples_split=12, RandomForestClassifier__n_estimators=100)',)},\n",
       " 'RandomForestClassifier(OneHotEncoder(input_matrix, OneHotEncoder__minimum_fraction=0.25, OneHotEncoder__sparse=False), RandomForestClassifier__bootstrap=True, RandomForestClassifier__criterion=entropy, RandomForestClassifier__max_features=0.15000000000000002, RandomForestClassifier__min_samples_leaf=17, RandomForestClassifier__min_samples_split=12, RandomForestClassifier__n_estimators=100)': {'crossover_count': 1,\n",
       "  'generation': 'INVALID',\n",
       "  'internal_cv_score': 0.9906054580478243,\n",
       "  'mutation_count': 3,\n",
       "  'operator_count': 2,\n",
       "  'predecessor': ('RandomForestClassifier(OneHotEncoder(input_matrix, OneHotEncoder__minimum_fraction=0.25, OneHotEncoder__sparse=False), RandomForestClassifier__bootstrap=True, RandomForestClassifier__criterion=entropy, RandomForestClassifier__max_features=0.55, RandomForestClassifier__min_samples_leaf=17, RandomForestClassifier__min_samples_split=12, RandomForestClassifier__n_estimators=100)',\n",
       "   'RandomForestClassifier(input_matrix, RandomForestClassifier__bootstrap=True, RandomForestClassifier__criterion=entropy, RandomForestClassifier__max_features=0.15000000000000002, RandomForestClassifier__min_samples_leaf=17, RandomForestClassifier__min_samples_split=12, RandomForestClassifier__n_estimators=100)')},\n",
       " 'RandomForestClassifier(OneHotEncoder(input_matrix, OneHotEncoder__minimum_fraction=0.25, OneHotEncoder__sparse=False), RandomForestClassifier__bootstrap=True, RandomForestClassifier__criterion=entropy, RandomForestClassifier__max_features=0.15000000000000002, RandomForestClassifier__min_samples_leaf=17, RandomForestClassifier__min_samples_split=16, RandomForestClassifier__n_estimators=100)': {'crossover_count': 0,\n",
       "  'generation': 'INVALID',\n",
       "  'internal_cv_score': 0.9906054580478243,\n",
       "  'mutation_count': 3,\n",
       "  'operator_count': 2,\n",
       "  'predecessor': ('RandomForestClassifier(OneHotEncoder(input_matrix, OneHotEncoder__minimum_fraction=0.25, OneHotEncoder__sparse=False), RandomForestClassifier__bootstrap=True, RandomForestClassifier__criterion=entropy, RandomForestClassifier__max_features=0.55, RandomForestClassifier__min_samples_leaf=17, RandomForestClassifier__min_samples_split=16, RandomForestClassifier__n_estimators=100)',)},\n",
       " 'RandomForestClassifier(OneHotEncoder(input_matrix, OneHotEncoder__minimum_fraction=0.25, OneHotEncoder__sparse=False), RandomForestClassifier__bootstrap=True, RandomForestClassifier__criterion=entropy, RandomForestClassifier__max_features=0.55, RandomForestClassifier__min_samples_leaf=10, RandomForestClassifier__min_samples_split=12, RandomForestClassifier__n_estimators=100)': {'crossover_count': 0,\n",
       "  'generation': 'INVALID',\n",
       "  'internal_cv_score': 0.9928596848997022,\n",
       "  'mutation_count': 2,\n",
       "  'operator_count': 2,\n",
       "  'predecessor': ('RandomForestClassifier(OneHotEncoder(input_matrix, OneHotEncoder__minimum_fraction=0.25, OneHotEncoder__sparse=False), RandomForestClassifier__bootstrap=True, RandomForestClassifier__criterion=entropy, RandomForestClassifier__max_features=0.55, RandomForestClassifier__min_samples_leaf=17, RandomForestClassifier__min_samples_split=12, RandomForestClassifier__n_estimators=100)',)},\n",
       " 'RandomForestClassifier(OneHotEncoder(input_matrix, OneHotEncoder__minimum_fraction=0.25, OneHotEncoder__sparse=False), RandomForestClassifier__bootstrap=True, RandomForestClassifier__criterion=entropy, RandomForestClassifier__max_features=0.55, RandomForestClassifier__min_samples_leaf=12, RandomForestClassifier__min_samples_split=20, RandomForestClassifier__n_estimators=100)': {'crossover_count': 1,\n",
       "  'generation': 'INVALID',\n",
       "  'internal_cv_score': 0.992484592397598,\n",
       "  'mutation_count': 4,\n",
       "  'operator_count': 2,\n",
       "  'predecessor': ('RandomForestClassifier(OneHotEncoder(input_matrix, OneHotEncoder__minimum_fraction=0.25, OneHotEncoder__sparse=False), RandomForestClassifier__bootstrap=True, RandomForestClassifier__criterion=entropy, RandomForestClassifier__max_features=0.55, RandomForestClassifier__min_samples_leaf=17, RandomForestClassifier__min_samples_split=20, RandomForestClassifier__n_estimators=100)',)},\n",
       " 'RandomForestClassifier(OneHotEncoder(input_matrix, OneHotEncoder__minimum_fraction=0.25, OneHotEncoder__sparse=False), RandomForestClassifier__bootstrap=True, RandomForestClassifier__criterion=entropy, RandomForestClassifier__max_features=0.55, RandomForestClassifier__min_samples_leaf=17, RandomForestClassifier__min_samples_split=12, RandomForestClassifier__n_estimators=100)': {'crossover_count': 0,\n",
       "  'generation': 'INVALID',\n",
       "  'internal_cv_score': 0.9917329951475232,\n",
       "  'mutation_count': 1,\n",
       "  'operator_count': 2,\n",
       "  'predecessor': ('RandomForestClassifier(OneHotEncoder(input_matrix, OneHotEncoder__minimum_fraction=0.2, OneHotEncoder__sparse=False), RandomForestClassifier__bootstrap=True, RandomForestClassifier__criterion=entropy, RandomForestClassifier__max_features=0.55, RandomForestClassifier__min_samples_leaf=17, RandomForestClassifier__min_samples_split=12, RandomForestClassifier__n_estimators=100)',)},\n",
       " 'RandomForestClassifier(OneHotEncoder(input_matrix, OneHotEncoder__minimum_fraction=0.25, OneHotEncoder__sparse=False), RandomForestClassifier__bootstrap=True, RandomForestClassifier__criterion=entropy, RandomForestClassifier__max_features=0.55, RandomForestClassifier__min_samples_leaf=17, RandomForestClassifier__min_samples_split=16, RandomForestClassifier__n_estimators=100)': {'crossover_count': 0,\n",
       "  'generation': 'INVALID',\n",
       "  'internal_cv_score': 0.9917329951475232,\n",
       "  'mutation_count': 2,\n",
       "  'operator_count': 2,\n",
       "  'predecessor': ('RandomForestClassifier(OneHotEncoder(input_matrix, OneHotEncoder__minimum_fraction=0.25, OneHotEncoder__sparse=False), RandomForestClassifier__bootstrap=True, RandomForestClassifier__criterion=entropy, RandomForestClassifier__max_features=0.55, RandomForestClassifier__min_samples_leaf=17, RandomForestClassifier__min_samples_split=12, RandomForestClassifier__n_estimators=100)',)},\n",
       " 'RandomForestClassifier(OneHotEncoder(input_matrix, OneHotEncoder__minimum_fraction=0.25, OneHotEncoder__sparse=False), RandomForestClassifier__bootstrap=True, RandomForestClassifier__criterion=entropy, RandomForestClassifier__max_features=0.55, RandomForestClassifier__min_samples_leaf=17, RandomForestClassifier__min_samples_split=20, RandomForestClassifier__n_estimators=100)': {'crossover_count': 1,\n",
       "  'generation': 'INVALID',\n",
       "  'internal_cv_score': 0.9917329951475232,\n",
       "  'mutation_count': 3,\n",
       "  'operator_count': 2,\n",
       "  'predecessor': ('RandomForestClassifier(OneHotEncoder(input_matrix, OneHotEncoder__minimum_fraction=0.25, OneHotEncoder__sparse=False), RandomForestClassifier__bootstrap=True, RandomForestClassifier__criterion=entropy, RandomForestClassifier__max_features=0.55, RandomForestClassifier__min_samples_leaf=17, RandomForestClassifier__min_samples_split=12, RandomForestClassifier__n_estimators=100)',\n",
       "   'RandomForestClassifier(input_matrix, RandomForestClassifier__bootstrap=True, RandomForestClassifier__criterion=entropy, RandomForestClassifier__max_features=0.55, RandomForestClassifier__min_samples_leaf=17, RandomForestClassifier__min_samples_split=20, RandomForestClassifier__n_estimators=100)')},\n",
       " 'RandomForestClassifier(OneHotEncoder(input_matrix, OneHotEncoder__minimum_fraction=0.25, OneHotEncoder__sparse=False), RandomForestClassifier__bootstrap=True, RandomForestClassifier__criterion=entropy, RandomForestClassifier__max_features=0.55, RandomForestClassifier__min_samples_leaf=4, RandomForestClassifier__min_samples_split=12, RandomForestClassifier__n_estimators=100)': {'crossover_count': 0,\n",
       "  'generation': 'INVALID',\n",
       "  'internal_cv_score': 0.993235342300153,\n",
       "  'mutation_count': 2,\n",
       "  'operator_count': 2,\n",
       "  'predecessor': ('RandomForestClassifier(OneHotEncoder(input_matrix, OneHotEncoder__minimum_fraction=0.25, OneHotEncoder__sparse=False), RandomForestClassifier__bootstrap=True, RandomForestClassifier__criterion=entropy, RandomForestClassifier__max_features=0.55, RandomForestClassifier__min_samples_leaf=17, RandomForestClassifier__min_samples_split=12, RandomForestClassifier__n_estimators=100)',)},\n",
       " 'RandomForestClassifier(OneHotEncoder(input_matrix, OneHotEncoder__minimum_fraction=0.25, OneHotEncoder__sparse=False), RandomForestClassifier__bootstrap=True, RandomForestClassifier__criterion=entropy, RandomForestClassifier__max_features=0.55, RandomForestClassifier__min_samples_leaf=9, RandomForestClassifier__min_samples_split=12, RandomForestClassifier__n_estimators=100)': {'crossover_count': 0,\n",
       "  'generation': 'INVALID',\n",
       "  'internal_cv_score': 0.9924843099484248,\n",
       "  'mutation_count': 2,\n",
       "  'operator_count': 2,\n",
       "  'predecessor': ('RandomForestClassifier(OneHotEncoder(input_matrix, OneHotEncoder__minimum_fraction=0.25, OneHotEncoder__sparse=False), RandomForestClassifier__bootstrap=True, RandomForestClassifier__criterion=entropy, RandomForestClassifier__max_features=0.55, RandomForestClassifier__min_samples_leaf=17, RandomForestClassifier__min_samples_split=12, RandomForestClassifier__n_estimators=100)',)},\n",
       " 'RandomForestClassifier(OneHotEncoder(input_matrix, OneHotEncoder__minimum_fraction=0.25, OneHotEncoder__sparse=False), RandomForestClassifier__bootstrap=True, RandomForestClassifier__criterion=gini, RandomForestClassifier__max_features=0.55, RandomForestClassifier__min_samples_leaf=17, RandomForestClassifier__min_samples_split=12, RandomForestClassifier__n_estimators=100)': {'crossover_count': 0,\n",
       "  'generation': 'INVALID',\n",
       "  'internal_cv_score': 0.9891028284460212,\n",
       "  'mutation_count': 2,\n",
       "  'operator_count': 2,\n",
       "  'predecessor': ('RandomForestClassifier(OneHotEncoder(input_matrix, OneHotEncoder__minimum_fraction=0.25, OneHotEncoder__sparse=False), RandomForestClassifier__bootstrap=True, RandomForestClassifier__criterion=entropy, RandomForestClassifier__max_features=0.55, RandomForestClassifier__min_samples_leaf=17, RandomForestClassifier__min_samples_split=12, RandomForestClassifier__n_estimators=100)',)},\n",
       " 'RandomForestClassifier(PCA(OneHotEncoder(input_matrix, OneHotEncoder__minimum_fraction=0.2, OneHotEncoder__sparse=False), PCA__iterated_power=8, PCA__svd_solver=randomized), RandomForestClassifier__bootstrap=True, RandomForestClassifier__criterion=entropy, RandomForestClassifier__max_features=0.55, RandomForestClassifier__min_samples_leaf=17, RandomForestClassifier__min_samples_split=12, RandomForestClassifier__n_estimators=100)': {'crossover_count': 0,\n",
       "  'generation': 'INVALID',\n",
       "  'internal_cv_score': 0.9883498189500799,\n",
       "  'mutation_count': 1,\n",
       "  'operator_count': 3,\n",
       "  'predecessor': ('RandomForestClassifier(OneHotEncoder(input_matrix, OneHotEncoder__minimum_fraction=0.2, OneHotEncoder__sparse=False), RandomForestClassifier__bootstrap=True, RandomForestClassifier__criterion=entropy, RandomForestClassifier__max_features=0.55, RandomForestClassifier__min_samples_leaf=17, RandomForestClassifier__min_samples_split=12, RandomForestClassifier__n_estimators=100)',)},\n",
       " 'RandomForestClassifier(RandomForestClassifier(OneHotEncoder(input_matrix, OneHotEncoder__minimum_fraction=0.25, OneHotEncoder__sparse=False), RandomForestClassifier__bootstrap=False, RandomForestClassifier__criterion=entropy, RandomForestClassifier__max_features=0.3, RandomForestClassifier__min_samples_leaf=19, RandomForestClassifier__min_samples_split=7, RandomForestClassifier__n_estimators=100), RandomForestClassifier__bootstrap=True, RandomForestClassifier__criterion=entropy, RandomForestClassifier__max_features=0.55, RandomForestClassifier__min_samples_leaf=17, RandomForestClassifier__min_samples_split=16, RandomForestClassifier__n_estimators=100)': {'crossover_count': 0,\n",
       "  'generation': 'INVALID',\n",
       "  'internal_cv_score': 0.9928602497980489,\n",
       "  'mutation_count': 3,\n",
       "  'operator_count': 3,\n",
       "  'predecessor': ('RandomForestClassifier(OneHotEncoder(input_matrix, OneHotEncoder__minimum_fraction=0.25, OneHotEncoder__sparse=False), RandomForestClassifier__bootstrap=True, RandomForestClassifier__criterion=entropy, RandomForestClassifier__max_features=0.55, RandomForestClassifier__min_samples_leaf=17, RandomForestClassifier__min_samples_split=16, RandomForestClassifier__n_estimators=100)',)},\n",
       " 'RandomForestClassifier(SelectFwe(OneHotEncoder(input_matrix, OneHotEncoder__minimum_fraction=0.25, OneHotEncoder__sparse=False), SelectFwe__alpha=0.03), RandomForestClassifier__bootstrap=True, RandomForestClassifier__criterion=entropy, RandomForestClassifier__max_features=0.55, RandomForestClassifier__min_samples_leaf=17, RandomForestClassifier__min_samples_split=12, RandomForestClassifier__n_estimators=100)': {'crossover_count': 0,\n",
       "  'generation': 'INVALID',\n",
       "  'internal_cv_score': 0.9894782033972986,\n",
       "  'mutation_count': 2,\n",
       "  'operator_count': 3,\n",
       "  'predecessor': ('RandomForestClassifier(OneHotEncoder(input_matrix, OneHotEncoder__minimum_fraction=0.25, OneHotEncoder__sparse=False), RandomForestClassifier__bootstrap=True, RandomForestClassifier__criterion=entropy, RandomForestClassifier__max_features=0.55, RandomForestClassifier__min_samples_leaf=17, RandomForestClassifier__min_samples_split=12, RandomForestClassifier__n_estimators=100)',)},\n",
       " 'RandomForestClassifier(input_matrix, RandomForestClassifier__bootstrap=False, RandomForestClassifier__criterion=entropy, RandomForestClassifier__max_features=0.3, RandomForestClassifier__min_samples_leaf=1, RandomForestClassifier__min_samples_split=8, RandomForestClassifier__n_estimators=100)': {'crossover_count': 0,\n",
       "  'generation': 'INVALID',\n",
       "  'internal_cv_score': 0.9936109997006038,\n",
       "  'mutation_count': 2,\n",
       "  'operator_count': 1,\n",
       "  'predecessor': ('ExtraTreesClassifier(input_matrix, ExtraTreesClassifier__bootstrap=False, ExtraTreesClassifier__criterion=gini, ExtraTreesClassifier__max_features=0.1, ExtraTreesClassifier__min_samples_leaf=1, ExtraTreesClassifier__min_samples_split=16, ExtraTreesClassifier__n_estimators=100)',)},\n",
       " 'RandomForestClassifier(input_matrix, RandomForestClassifier__bootstrap=False, RandomForestClassifier__criterion=entropy, RandomForestClassifier__max_features=0.55, RandomForestClassifier__min_samples_leaf=17, RandomForestClassifier__min_samples_split=12, RandomForestClassifier__n_estimators=100)': {'crossover_count': 0,\n",
       "  'generation': 'INVALID',\n",
       "  'internal_cv_score': 0.9906048931494777,\n",
       "  'mutation_count': 3,\n",
       "  'operator_count': 1,\n",
       "  'predecessor': ('RandomForestClassifier(input_matrix, RandomForestClassifier__bootstrap=True, RandomForestClassifier__criterion=entropy, RandomForestClassifier__max_features=0.55, RandomForestClassifier__min_samples_leaf=17, RandomForestClassifier__min_samples_split=12, RandomForestClassifier__n_estimators=100)',)},\n",
       " 'RandomForestClassifier(input_matrix, RandomForestClassifier__bootstrap=False, RandomForestClassifier__criterion=entropy, RandomForestClassifier__max_features=0.6500000000000001, RandomForestClassifier__min_samples_leaf=1, RandomForestClassifier__min_samples_split=8, RandomForestClassifier__n_estimators=100)': {'crossover_count': 0,\n",
       "  'generation': 'INVALID',\n",
       "  'internal_cv_score': 0.9909808329991018,\n",
       "  'mutation_count': 3,\n",
       "  'operator_count': 1,\n",
       "  'predecessor': ('RandomForestClassifier(input_matrix, RandomForestClassifier__bootstrap=False, RandomForestClassifier__criterion=entropy, RandomForestClassifier__max_features=0.3, RandomForestClassifier__min_samples_leaf=1, RandomForestClassifier__min_samples_split=8, RandomForestClassifier__n_estimators=100)',)},\n",
       " 'RandomForestClassifier(input_matrix, RandomForestClassifier__bootstrap=False, RandomForestClassifier__criterion=gini, RandomForestClassifier__max_features=0.9500000000000001, RandomForestClassifier__min_samples_leaf=13, RandomForestClassifier__min_samples_split=4, RandomForestClassifier__n_estimators=100)': {'crossover_count': 0,\n",
       "  'generation': 0,\n",
       "  'internal_cv_score': 0.9887263236980506,\n",
       "  'mutation_count': 0,\n",
       "  'operator_count': 1,\n",
       "  'predecessor': ('ROOT',)},\n",
       " 'RandomForestClassifier(input_matrix, RandomForestClassifier__bootstrap=True, RandomForestClassifier__criterion=entropy, RandomForestClassifier__max_features=0.15000000000000002, RandomForestClassifier__min_samples_leaf=17, RandomForestClassifier__min_samples_split=12, RandomForestClassifier__n_estimators=100)': {'crossover_count': 0,\n",
       "  'generation': 'INVALID',\n",
       "  'internal_cv_score': 0.9917332775966965,\n",
       "  'mutation_count': 2,\n",
       "  'operator_count': 1,\n",
       "  'predecessor': ('RandomForestClassifier(input_matrix, RandomForestClassifier__bootstrap=True, RandomForestClassifier__criterion=entropy, RandomForestClassifier__max_features=0.55, RandomForestClassifier__min_samples_leaf=17, RandomForestClassifier__min_samples_split=12, RandomForestClassifier__n_estimators=100)',)},\n",
       " 'RandomForestClassifier(input_matrix, RandomForestClassifier__bootstrap=True, RandomForestClassifier__criterion=entropy, RandomForestClassifier__max_features=0.15000000000000002, RandomForestClassifier__min_samples_leaf=17, RandomForestClassifier__min_samples_split=20, RandomForestClassifier__n_estimators=100)': {'crossover_count': 2,\n",
       "  'generation': 'INVALID',\n",
       "  'internal_cv_score': 0.9917332775966965,\n",
       "  'mutation_count': 5,\n",
       "  'operator_count': 1,\n",
       "  'predecessor': ('RandomForestClassifier(input_matrix, RandomForestClassifier__bootstrap=True, RandomForestClassifier__criterion=entropy, RandomForestClassifier__max_features=0.15000000000000002, RandomForestClassifier__min_samples_leaf=17, RandomForestClassifier__min_samples_split=12, RandomForestClassifier__n_estimators=100)',\n",
       "   'RandomForestClassifier(OneHotEncoder(input_matrix, OneHotEncoder__minimum_fraction=0.25, OneHotEncoder__sparse=False), RandomForestClassifier__bootstrap=True, RandomForestClassifier__criterion=entropy, RandomForestClassifier__max_features=0.55, RandomForestClassifier__min_samples_leaf=17, RandomForestClassifier__min_samples_split=20, RandomForestClassifier__n_estimators=100)')},\n",
       " 'RandomForestClassifier(input_matrix, RandomForestClassifier__bootstrap=True, RandomForestClassifier__criterion=entropy, RandomForestClassifier__max_features=0.55, RandomForestClassifier__min_samples_leaf=17, RandomForestClassifier__min_samples_split=12, RandomForestClassifier__n_estimators=100)': {'crossover_count': 0,\n",
       "  'generation': 'INVALID',\n",
       "  'internal_cv_score': 0.9913570552978992,\n",
       "  'mutation_count': 1,\n",
       "  'operator_count': 1,\n",
       "  'predecessor': ('RandomForestClassifier(OneHotEncoder(input_matrix, OneHotEncoder__minimum_fraction=0.2, OneHotEncoder__sparse=False), RandomForestClassifier__bootstrap=True, RandomForestClassifier__criterion=entropy, RandomForestClassifier__max_features=0.55, RandomForestClassifier__min_samples_leaf=17, RandomForestClassifier__min_samples_split=12, RandomForestClassifier__n_estimators=100)',)},\n",
       " 'RandomForestClassifier(input_matrix, RandomForestClassifier__bootstrap=True, RandomForestClassifier__criterion=entropy, RandomForestClassifier__max_features=0.55, RandomForestClassifier__min_samples_leaf=17, RandomForestClassifier__min_samples_split=16, RandomForestClassifier__n_estimators=100)': {'crossover_count': 0,\n",
       "  'generation': 'INVALID',\n",
       "  'internal_cv_score': 0.9913570552978992,\n",
       "  'mutation_count': 3,\n",
       "  'operator_count': 1,\n",
       "  'predecessor': ('RandomForestClassifier(OneHotEncoder(input_matrix, OneHotEncoder__minimum_fraction=0.25, OneHotEncoder__sparse=False), RandomForestClassifier__bootstrap=True, RandomForestClassifier__criterion=entropy, RandomForestClassifier__max_features=0.55, RandomForestClassifier__min_samples_leaf=17, RandomForestClassifier__min_samples_split=16, RandomForestClassifier__n_estimators=100)',)},\n",
       " 'RandomForestClassifier(input_matrix, RandomForestClassifier__bootstrap=True, RandomForestClassifier__criterion=entropy, RandomForestClassifier__max_features=0.55, RandomForestClassifier__min_samples_leaf=17, RandomForestClassifier__min_samples_split=20, RandomForestClassifier__n_estimators=100)': {'crossover_count': 0,\n",
       "  'generation': 'INVALID',\n",
       "  'internal_cv_score': 0.9913570552978992,\n",
       "  'mutation_count': 2,\n",
       "  'operator_count': 1,\n",
       "  'predecessor': ('RandomForestClassifier(input_matrix, RandomForestClassifier__bootstrap=True, RandomForestClassifier__criterion=entropy, RandomForestClassifier__max_features=0.55, RandomForestClassifier__min_samples_leaf=17, RandomForestClassifier__min_samples_split=12, RandomForestClassifier__n_estimators=100)',)},\n",
       " 'RandomForestClassifier(input_matrix, RandomForestClassifier__bootstrap=True, RandomForestClassifier__criterion=entropy, RandomForestClassifier__max_features=0.55, RandomForestClassifier__min_samples_leaf=17, RandomForestClassifier__min_samples_split=5, RandomForestClassifier__n_estimators=100)': {'crossover_count': 0,\n",
       "  'generation': 'INVALID',\n",
       "  'internal_cv_score': 0.9913570552978992,\n",
       "  'mutation_count': 2,\n",
       "  'operator_count': 1,\n",
       "  'predecessor': ('RandomForestClassifier(OneHotEncoder(input_matrix, OneHotEncoder__minimum_fraction=0.2, OneHotEncoder__sparse=False), RandomForestClassifier__bootstrap=True, RandomForestClassifier__criterion=entropy, RandomForestClassifier__max_features=0.55, RandomForestClassifier__min_samples_leaf=17, RandomForestClassifier__min_samples_split=5, RandomForestClassifier__n_estimators=100)',)},\n",
       " 'RandomForestClassifier(input_matrix, RandomForestClassifier__bootstrap=True, RandomForestClassifier__criterion=gini, RandomForestClassifier__max_features=0.55, RandomForestClassifier__min_samples_leaf=17, RandomForestClassifier__min_samples_split=12, RandomForestClassifier__n_estimators=100)': {'crossover_count': 0,\n",
       "  'generation': 'INVALID',\n",
       "  'internal_cv_score': 0.9898544256960959,\n",
       "  'mutation_count': 2,\n",
       "  'operator_count': 1,\n",
       "  'predecessor': ('RandomForestClassifier(input_matrix, RandomForestClassifier__bootstrap=True, RandomForestClassifier__criterion=entropy, RandomForestClassifier__max_features=0.55, RandomForestClassifier__min_samples_leaf=17, RandomForestClassifier__min_samples_split=12, RandomForestClassifier__n_estimators=100)',)},\n",
       " 'XGBClassifier(KNeighborsClassifier(input_matrix, KNeighborsClassifier__n_neighbors=4, KNeighborsClassifier__p=2, KNeighborsClassifier__weights=uniform), XGBClassifier__learning_rate=0.5, XGBClassifier__max_depth=7, XGBClassifier__min_child_weight=7, XGBClassifier__n_estimators=100, XGBClassifier__nthread=1, XGBClassifier__subsample=0.3)': {'crossover_count': 0,\n",
       "  'generation': 'INVALID',\n",
       "  'internal_cv_score': 0.976324827847229,\n",
       "  'mutation_count': 1,\n",
       "  'operator_count': 2,\n",
       "  'predecessor': ('XGBClassifier(input_matrix, XGBClassifier__learning_rate=0.5, XGBClassifier__max_depth=7, XGBClassifier__min_child_weight=7, XGBClassifier__n_estimators=100, XGBClassifier__nthread=1, XGBClassifier__subsample=0.3)',)},\n",
       " 'XGBClassifier(input_matrix, XGBClassifier__learning_rate=0.5, XGBClassifier__max_depth=2, XGBClassifier__min_child_weight=7, XGBClassifier__n_estimators=100, XGBClassifier__nthread=1, XGBClassifier__subsample=0.45)': {'crossover_count': 0,\n",
       "  'generation': 'INVALID',\n",
       "  'internal_cv_score': 0.9812120458923417,\n",
       "  'mutation_count': 1,\n",
       "  'operator_count': 1,\n",
       "  'predecessor': ('RandomForestClassifier(input_matrix, RandomForestClassifier__bootstrap=False, RandomForestClassifier__criterion=gini, RandomForestClassifier__max_features=0.9500000000000001, RandomForestClassifier__min_samples_leaf=13, RandomForestClassifier__min_samples_split=4, RandomForestClassifier__n_estimators=100)',)},\n",
       " 'XGBClassifier(input_matrix, XGBClassifier__learning_rate=0.5, XGBClassifier__max_depth=7, XGBClassifier__min_child_weight=7, XGBClassifier__n_estimators=100, XGBClassifier__nthread=1, XGBClassifier__subsample=0.3)': {'crossover_count': 0,\n",
       "  'generation': 0,\n",
       "  'internal_cv_score': 0.976324827847229,\n",
       "  'mutation_count': 0,\n",
       "  'operator_count': 1,\n",
       "  'predecessor': ('ROOT',)},\n",
       " 'XGBClassifier(input_matrix, XGBClassifier__learning_rate=1.0, XGBClassifier__max_depth=7, XGBClassifier__min_child_weight=15, XGBClassifier__n_estimators=100, XGBClassifier__nthread=1, XGBClassifier__subsample=0.9000000000000001)': {'crossover_count': 0,\n",
       "  'generation': 'INVALID',\n",
       "  'internal_cv_score': 0.976324827847229,\n",
       "  'mutation_count': 1,\n",
       "  'operator_count': 1,\n",
       "  'predecessor': ('GaussianNB(input_matrix)',)}}"
      ]
     },
     "execution_count": 9,
     "metadata": {},
     "output_type": "execute_result"
    }
   ],
   "source": [
    "tpot.evaluated_individuals_"
   ]
  },
  {
   "cell_type": "markdown",
   "metadata": {},
   "source": [
    "\n",
    "## Classical Features\n",
    "### ann_SOC\n",
    "```\n",
    "exported_pipeline = make_pipeline(\n",
    "    MaxAbsScaler(),\n",
    "    LogisticRegression(C=20.0, dual=False, penalty=\"l2\")\n",
    ")\n",
    "```\n",
    "\n",
    "99% on  CV, 98% on held-out test\n",
    "\n",
    "### ann_ASOIAF\n",
    "```\n",
    "exported_pipeline = GradientBoostingClassifier(\n",
    "    learning_rate=0.1,\n",
    "    max_depth=5,\n",
    "    max_features=0.25,\n",
    "    min_samples_leaf=19,\n",
    "    min_samples_split=13,\n",
    "    n_estimators=100,\n",
    "    subsample=0.55\n",
    "    )\n",
    "```\n",
    "99.58% on CV, 99.6% on held-out test\n",
    "\n",
    "## Word Emb Features\n",
    "\n",
    "### ann_soc\n",
    "\n",
    "```\n",
    "exported_pipeline = make_pipeline(\n",
    "    StackingEstimator(estimator=ExtraTreesClassifier(bootstrap=False, criterion=\"gini\", max_features=0.8, min_samples_leaf=11, min_samples_split=8, n_estimators=100)),\n",
    "    RandomForestClassifier(bootstrap=True, criterion=\"entropy\", max_features=0.55, min_samples_leaf=6, min_samples_split=9, n_estimators=100)\n",
    ")\n",
    "```\n",
    "99.2% on CV, 98.9% on helf-out test"
   ]
  },
  {
   "cell_type": "code",
   "execution_count": 10,
   "metadata": {},
   "outputs": [
    {
     "data": {
      "text/plain": [
       "0.9921171171171171"
      ]
     },
     "execution_count": 10,
     "metadata": {},
     "output_type": "execute_result"
    }
   ],
   "source": [
    "from sklearn.pipeline import make_pipeline\n",
    "from sklearn.preprocessing import MaxAbsScaler\n",
    "from sklearn.linear_model import LogisticRegression\n",
    "\n",
    "exported_pipeline = make_pipeline(\n",
    "    MaxAbsScaler(),\n",
    "    LogisticRegression(C=20.0, dual=False, penalty=\"l2\")\n",
    ")\n",
    "\n",
    "exported_pipeline.fit(X_train, y_train)\n",
    "accuracy_score(exported_pipeline.predict(X_test), y_test)"
   ]
  },
  {
   "cell_type": "code",
   "execution_count": null,
   "metadata": {},
   "outputs": [],
   "source": []
  }
 ],
 "metadata": {
  "kernelspec": {
   "display_name": "Python 3",
   "language": "python",
   "name": "python3"
  },
  "language_info": {
   "codemirror_mode": {
    "name": "ipython",
    "version": 3
   },
   "file_extension": ".py",
   "mimetype": "text/x-python",
   "name": "python",
   "nbconvert_exporter": "python",
   "pygments_lexer": "ipython3",
   "version": "3.5.3"
  }
 },
 "nbformat": 4,
 "nbformat_minor": 2
}
