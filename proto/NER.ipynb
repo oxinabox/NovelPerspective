{
 "cells": [
  {
   "cell_type": "code",
   "execution_count": 34,
   "metadata": {},
   "outputs": [
    {
     "name": "stdout",
     "output_type": "stream",
     "text": [
      "The autoreload extension is already loaded. To reload it, use:\n",
      "  %reload_ext autoreload\n"
     ]
    }
   ],
   "source": [
    "%load_ext autoreload\n",
    "%autoreload 2"
   ]
  },
  {
   "cell_type": "code",
   "execution_count": 35,
   "metadata": {},
   "outputs": [],
   "source": [
    "import numpy as np\n",
    "from pprint import pprint"
   ]
  },
  {
   "cell_type": "code",
   "execution_count": 36,
   "metadata": {},
   "outputs": [],
   "source": [
    "from collections import Counter, defaultdict\n",
    "\n",
    "import json\n",
    "from xgboost import XGBClassifier\n",
    "import sklearn.tree\n",
    "import sklearn.metrics\n",
    "from sklearn.model_selection import cross_val_score\n",
    "from sklearn.externals import joblib"
   ]
  },
  {
   "cell_type": "code",
   "execution_count": 37,
   "metadata": {},
   "outputs": [],
   "source": [
    "from sample_chapters import *\n",
    "from feature_extraction import *\n",
    "from classify import *"
   ]
  },
  {
   "cell_type": "code",
   "execution_count": 38,
   "metadata": {},
   "outputs": [],
   "source": [
    "def extract_texts_and_characters(annotated_data):\n",
    "    full_characters = np.asarray([datum['character'] for datum in annotated_data])\n",
    "    full_texts = np.asarray([datum['text'] for datum in annotated_data])\n",
    "    return full_texts, full_characters"
   ]
  },
  {
   "cell_type": "code",
   "execution_count": 39,
   "metadata": {},
   "outputs": [],
   "source": [
    "from sklearn.model_selection import KFold\n",
    "\n",
    "def evaluate(annotated_data, classifier=XGBClassifier(), nicknames2name=dict(), n_splits=10):\n",
    "    \n",
    "    full_texts, full_characters = extract_texts_and_characters(annotated_data)\n",
    "    \n",
    "    scores = []\n",
    "    for train_inds, test_inds in KFold(n_splits=n_splits).split(annotated_data):\n",
    "        train_texts = full_texts[train_inds]\n",
    "        train_characters = full_characters[train_inds]\n",
    "        \n",
    "        test_characters = full_characters[test_inds]\n",
    "        test_texts = full_texts[test_inds]\n",
    "        \n",
    "\n",
    "        train_classifier(train_texts, train_characters, classifier, nicknames2name)\n",
    "        score = test_classifier(test_texts, test_characters, classifier, nicknames2name)\n",
    "        \n",
    "        print(score)\n",
    "        scores.append(score)\n",
    "    return scores"
   ]
  },
  {
   "cell_type": "code",
   "execution_count": 40,
   "metadata": {},
   "outputs": [],
   "source": [
    "nicknames2name_GoT = {\n",
    "    \"Dany\":\"Daenerys\",\n",
    "    \"Ned\" : \"Eddard\",\n",
    "    \"Robert\" : \"Eddard\",\n",
    "    \"Sam\" : \"Samwell\",\n",
    "}\n",
    "  \n",
    "with open(\"../flat_data/asoif01-04.json\",\"r\") as fh:\n",
    "    ann_GoT = np.asarray(json.load(fh))"
   ]
  },
  {
   "cell_type": "code",
   "execution_count": 18,
   "metadata": {},
   "outputs": [
    {
     "name": "stdout",
     "output_type": "stream",
     "text": [
      "0.7421875\n",
      "0.828125\n"
     ]
    },
    {
     "data": {
      "text/plain": [
       "0.78515625"
      ]
     },
     "execution_count": 18,
     "metadata": {},
     "output_type": "execute_result"
    }
   ],
   "source": [
    "scores = evaluate(ann_GoT, XGBClassifier(), nicknames2name_GoT, n_splits=2)\n",
    "np.mean(scores)"
   ]
  },
  {
   "cell_type": "code",
   "execution_count": 41,
   "metadata": {},
   "outputs": [
    {
     "name": "stdout",
     "output_type": "stream",
     "text": [
      "acc:  1.0\n"
     ]
    },
    {
     "data": {
      "text/plain": [
       "['trained_models/GoT-no-headings.pkl']"
      ]
     },
     "execution_count": 41,
     "metadata": {},
     "output_type": "execute_result"
    }
   ],
   "source": [
    "cls = train_classifier(*extract_texts_and_characters(ann_GoT), \n",
    "                       classifier=XGBClassifier(),\n",
    "                       nicknames2name=nicknames2name_GoT)\n",
    "\n",
    "output_characters = run_classifier(extract_texts_and_characters(ann_GoT)[0], \n",
    "                       classifier=cls,\n",
    "                       nicknames2name=nicknames2name_GoT)\n",
    "reference_characters = [datum['character'] for datum in ann_GoT]\n",
    "\n",
    "print(\"acc: \", sklearn.metrics.accuracy_score(output_characters, reference_characters))\n",
    "\n",
    "joblib.dump(cls, \"trained_models/GoT-no-headings.pkl\")\n"
   ]
  },
  {
   "cell_type": "markdown",
   "metadata": {},
   "source": [
    "## Feature importance stuff"
   ]
  },
  {
   "cell_type": "code",
   "execution_count": 24,
   "metadata": {
    "scrolled": true
   },
   "outputs": [
    {
     "data": {
      "text/plain": [
       "[(0.122, 'before_POS_was_percent_,'),\n",
       " (0.097999997, 'rank_percent'),\n",
       " (0.092, 'occur_percent'),\n",
       " (0.082000002, 'after_POS_was_percent_.'),\n",
       " (0.074000001, 'after_POS_was_VBD'),\n",
       " (0.071999997, 'after_POS_was_percent_VBD'),\n",
       " (0.068000004, 'before_POS_was_.'),\n",
       " (0.064000003, 'rank'),\n",
       " (0.048, 'occur_count'),\n",
       " (0.039999999, 'before_POS_was_,'),\n",
       " (0.035999998, 'last_occur_percent'),\n",
       " (0.029999999, 'before_POS_was_percent_JJ'),\n",
       " (0.026000001, 'after_POS_was_percent_VBZ'),\n",
       " (0.02, 'before_POS_was_NN'),\n",
       " (0.016000001, 'after_POS_was_MD'),\n",
       " (0.014, 'after_POS_was_percent_NN'),\n",
       " (0.012, 'after_POS_was_percent_,'),\n",
       " (0.0099999998, 'last_occur_position'),\n",
       " (0.0099999998, \"before_POS_was_percent_''\"),\n",
       " (0.0080000004, 'before_POS_was_percent_.'),\n",
       " (0.0080000004, 'after_POS_was_percent_CC'),\n",
       " (0.0060000001, 'before_POS_was_percent_WRB'),\n",
       " (0.0060000001, 'before_POS_was_percent_VBN'),\n",
       " (0.0060000001, 'before_POS_was_percent_VBD'),\n",
       " (0.0060000001, 'before_POS_was_percent_NNP'),\n",
       " (0.0040000002, 'before_POS_was_percent_NN'),\n",
       " (0.0040000002, 'after_POS_was_percent_MD'),\n",
       " (0.0040000002, 'after_POS_was_percent_IN'),\n",
       " (0.0020000001, 'before_POS_was_percent_VB'),\n",
       " (0.0020000001, 'before_POS_was_percent_CC'),\n",
       " (0.0020000001, 'before_POS_was_JJ'),\n",
       " (0.0020000001, 'after_POS_was_percent_TO'),\n",
       " (0.0020000001, 'after_POS_was_percent_RB'),\n",
       " (0.0020000001, 'after_POS_was_NN'),\n",
       " (0.0020000001, 'after_POS_was_.'),\n",
       " (0.0, 'first_occur_position'),\n",
       " (0.0, 'first_occur_percent'),\n",
       " (0.0, 'before_POS_was_percent_``'),\n",
       " (0.0, 'before_POS_was_percent_WP$'),\n",
       " (0.0, 'before_POS_was_percent_WP'),\n",
       " (0.0, 'before_POS_was_percent_WDT'),\n",
       " (0.0, 'before_POS_was_percent_VBZ'),\n",
       " (0.0, 'before_POS_was_percent_VBP'),\n",
       " (0.0, 'before_POS_was_percent_VBG'),\n",
       " (0.0, 'before_POS_was_percent_UH'),\n",
       " (0.0, 'before_POS_was_percent_TO'),\n",
       " (0.0, 'before_POS_was_percent_SYM'),\n",
       " (0.0, 'before_POS_was_percent_RP'),\n",
       " (0.0, 'before_POS_was_percent_RBS'),\n",
       " (0.0, 'before_POS_was_percent_RBR'),\n",
       " (0.0, 'before_POS_was_percent_RB'),\n",
       " (0.0, 'before_POS_was_percent_PRP$'),\n",
       " (0.0, 'before_POS_was_percent_PRP'),\n",
       " (0.0, 'before_POS_was_percent_POS'),\n",
       " (0.0, 'before_POS_was_percent_PDT'),\n",
       " (0.0, 'before_POS_was_percent_PAD'),\n",
       " (0.0, 'before_POS_was_percent_NNS'),\n",
       " (0.0, 'before_POS_was_percent_NNPS'),\n",
       " (0.0, 'before_POS_was_percent_NE'),\n",
       " (0.0, 'before_POS_was_percent_MD'),\n",
       " (0.0, 'before_POS_was_percent_LS'),\n",
       " (0.0, 'before_POS_was_percent_JJS'),\n",
       " (0.0, 'before_POS_was_percent_JJR'),\n",
       " (0.0, 'before_POS_was_percent_IN'),\n",
       " (0.0, 'before_POS_was_percent_FW'),\n",
       " (0.0, 'before_POS_was_percent_EX'),\n",
       " (0.0, 'before_POS_was_percent_DT'),\n",
       " (0.0, 'before_POS_was_percent_CD'),\n",
       " (0.0, 'before_POS_was_percent_:'),\n",
       " (0.0, 'before_POS_was_percent_--'),\n",
       " (0.0, 'before_POS_was_percent_)'),\n",
       " (0.0, 'before_POS_was_percent_('),\n",
       " (0.0, 'before_POS_was_percent_$'),\n",
       " (0.0, 'before_POS_was_percent_#'),\n",
       " (0.0, 'before_POS_was_``'),\n",
       " (0.0, 'before_POS_was_WRB'),\n",
       " (0.0, 'before_POS_was_WP$'),\n",
       " (0.0, 'before_POS_was_WP'),\n",
       " (0.0, 'before_POS_was_WDT'),\n",
       " (0.0, 'before_POS_was_VBZ'),\n",
       " (0.0, 'before_POS_was_VBP'),\n",
       " (0.0, 'before_POS_was_VBN'),\n",
       " (0.0, 'before_POS_was_VBG'),\n",
       " (0.0, 'before_POS_was_VBD'),\n",
       " (0.0, 'before_POS_was_VB'),\n",
       " (0.0, 'before_POS_was_UH'),\n",
       " (0.0, 'before_POS_was_TO'),\n",
       " (0.0, 'before_POS_was_SYM'),\n",
       " (0.0, 'before_POS_was_RP'),\n",
       " (0.0, 'before_POS_was_RBS'),\n",
       " (0.0, 'before_POS_was_RBR'),\n",
       " (0.0, 'before_POS_was_RB'),\n",
       " (0.0, 'before_POS_was_PRP$'),\n",
       " (0.0, 'before_POS_was_PRP'),\n",
       " (0.0, 'before_POS_was_POS'),\n",
       " (0.0, 'before_POS_was_PDT'),\n",
       " (0.0, 'before_POS_was_PAD'),\n",
       " (0.0, 'before_POS_was_NNS'),\n",
       " (0.0, 'before_POS_was_NNPS'),\n",
       " (0.0, 'before_POS_was_NNP'),\n",
       " (0.0, 'before_POS_was_NE'),\n",
       " (0.0, 'before_POS_was_MD'),\n",
       " (0.0, 'before_POS_was_LS'),\n",
       " (0.0, 'before_POS_was_JJS'),\n",
       " (0.0, 'before_POS_was_JJR'),\n",
       " (0.0, 'before_POS_was_IN'),\n",
       " (0.0, 'before_POS_was_FW'),\n",
       " (0.0, 'before_POS_was_EX'),\n",
       " (0.0, 'before_POS_was_DT'),\n",
       " (0.0, 'before_POS_was_CD'),\n",
       " (0.0, 'before_POS_was_CC'),\n",
       " (0.0, 'before_POS_was_:'),\n",
       " (0.0, 'before_POS_was_--'),\n",
       " (0.0, 'before_POS_was_)'),\n",
       " (0.0, 'before_POS_was_('),\n",
       " (0.0, \"before_POS_was_''\"),\n",
       " (0.0, 'before_POS_was_$'),\n",
       " (0.0, 'before_POS_was_#'),\n",
       " (0.0, 'after_POS_was_percent_``'),\n",
       " (0.0, 'after_POS_was_percent_WRB'),\n",
       " (0.0, 'after_POS_was_percent_WP$'),\n",
       " (0.0, 'after_POS_was_percent_WP'),\n",
       " (0.0, 'after_POS_was_percent_WDT'),\n",
       " (0.0, 'after_POS_was_percent_VBP'),\n",
       " (0.0, 'after_POS_was_percent_VBN'),\n",
       " (0.0, 'after_POS_was_percent_VBG'),\n",
       " (0.0, 'after_POS_was_percent_VB'),\n",
       " (0.0, 'after_POS_was_percent_UH'),\n",
       " (0.0, 'after_POS_was_percent_SYM'),\n",
       " (0.0, 'after_POS_was_percent_RP'),\n",
       " (0.0, 'after_POS_was_percent_RBS'),\n",
       " (0.0, 'after_POS_was_percent_RBR'),\n",
       " (0.0, 'after_POS_was_percent_PRP$'),\n",
       " (0.0, 'after_POS_was_percent_PRP'),\n",
       " (0.0, 'after_POS_was_percent_POS'),\n",
       " (0.0, 'after_POS_was_percent_PDT'),\n",
       " (0.0, 'after_POS_was_percent_PAD'),\n",
       " (0.0, 'after_POS_was_percent_NNS'),\n",
       " (0.0, 'after_POS_was_percent_NNPS'),\n",
       " (0.0, 'after_POS_was_percent_NNP'),\n",
       " (0.0, 'after_POS_was_percent_NE'),\n",
       " (0.0, 'after_POS_was_percent_LS'),\n",
       " (0.0, 'after_POS_was_percent_JJS'),\n",
       " (0.0, 'after_POS_was_percent_JJR'),\n",
       " (0.0, 'after_POS_was_percent_JJ'),\n",
       " (0.0, 'after_POS_was_percent_FW'),\n",
       " (0.0, 'after_POS_was_percent_EX'),\n",
       " (0.0, 'after_POS_was_percent_DT'),\n",
       " (0.0, 'after_POS_was_percent_CD'),\n",
       " (0.0, 'after_POS_was_percent_:'),\n",
       " (0.0, 'after_POS_was_percent_--'),\n",
       " (0.0, 'after_POS_was_percent_)'),\n",
       " (0.0, 'after_POS_was_percent_('),\n",
       " (0.0, \"after_POS_was_percent_''\"),\n",
       " (0.0, 'after_POS_was_percent_$'),\n",
       " (0.0, 'after_POS_was_percent_#'),\n",
       " (0.0, 'after_POS_was_``'),\n",
       " (0.0, 'after_POS_was_WRB'),\n",
       " (0.0, 'after_POS_was_WP$'),\n",
       " (0.0, 'after_POS_was_WP'),\n",
       " (0.0, 'after_POS_was_WDT'),\n",
       " (0.0, 'after_POS_was_VBZ'),\n",
       " (0.0, 'after_POS_was_VBP'),\n",
       " (0.0, 'after_POS_was_VBN'),\n",
       " (0.0, 'after_POS_was_VBG'),\n",
       " (0.0, 'after_POS_was_VB'),\n",
       " (0.0, 'after_POS_was_UH'),\n",
       " (0.0, 'after_POS_was_TO'),\n",
       " (0.0, 'after_POS_was_SYM'),\n",
       " (0.0, 'after_POS_was_RP'),\n",
       " (0.0, 'after_POS_was_RBS'),\n",
       " (0.0, 'after_POS_was_RBR'),\n",
       " (0.0, 'after_POS_was_RB'),\n",
       " (0.0, 'after_POS_was_PRP$'),\n",
       " (0.0, 'after_POS_was_PRP'),\n",
       " (0.0, 'after_POS_was_POS'),\n",
       " (0.0, 'after_POS_was_PDT'),\n",
       " (0.0, 'after_POS_was_PAD'),\n",
       " (0.0, 'after_POS_was_NNS'),\n",
       " (0.0, 'after_POS_was_NNPS'),\n",
       " (0.0, 'after_POS_was_NNP'),\n",
       " (0.0, 'after_POS_was_NE'),\n",
       " (0.0, 'after_POS_was_LS'),\n",
       " (0.0, 'after_POS_was_JJS'),\n",
       " (0.0, 'after_POS_was_JJR'),\n",
       " (0.0, 'after_POS_was_JJ'),\n",
       " (0.0, 'after_POS_was_IN'),\n",
       " (0.0, 'after_POS_was_FW'),\n",
       " (0.0, 'after_POS_was_EX'),\n",
       " (0.0, 'after_POS_was_DT'),\n",
       " (0.0, 'after_POS_was_CD'),\n",
       " (0.0, 'after_POS_was_CC'),\n",
       " (0.0, 'after_POS_was_:'),\n",
       " (0.0, 'after_POS_was_--'),\n",
       " (0.0, 'after_POS_was_,'),\n",
       " (0.0, 'after_POS_was_)'),\n",
       " (0.0, 'after_POS_was_('),\n",
       " (0.0, \"after_POS_was_''\"),\n",
       " (0.0, 'after_POS_was_$'),\n",
       " (0.0, 'after_POS_was_#')]"
      ]
     },
     "execution_count": 24,
     "metadata": {},
     "output_type": "execute_result"
    }
   ],
   "source": [
    "_, _,vector_keys = get_feature_vectors(ann_GoT[1]['text'])\n",
    "feature_weights = list(zip(cls.feature_importances_,vector_keys))\n",
    "feature_weights.sort(reverse=True)\n",
    "feature_weights"
   ]
  },
  {
   "cell_type": "code",
   "execution_count": 16,
   "metadata": {},
   "outputs": [
    {
     "data": {
      "text/plain": [
       "array([ 0.   ,  0.   ,  0.   ,  0.   ,  0.   ,  0.   ,  0.006,  0.   ,\n",
       "        0.   ,  0.   ,  0.   ,  0.064,  0.   ,  0.   ,  0.   ,  0.03 ,\n",
       "        0.006,  0.   ,  0.   ,  0.   ,  0.008,  0.   ,  0.002,  0.   ,\n",
       "        0.   ,  0.098,  0.004,  0.   ,  0.01 ,  0.   ,  0.   ,  0.   ,\n",
       "        0.   ,  0.   ,  0.   ,  0.   ,  0.004,  0.   ,  0.   ,  0.   ,\n",
       "        0.04 ,  0.   ,  0.   ,  0.   ,  0.   ,  0.   ,  0.   ,  0.   ,\n",
       "        0.   ,  0.   ,  0.   ,  0.014,  0.   ,  0.   ,  0.   ,  0.072,\n",
       "        0.074,  0.   ,  0.   ,  0.   ,  0.   ,  0.   ,  0.   ,  0.004,\n",
       "        0.   ,  0.006,  0.   ,  0.   ,  0.   ,  0.   ,  0.   ,  0.   ,\n",
       "        0.   ,  0.   ,  0.   ,  0.   ,  0.   ,  0.   ,  0.   ,  0.   ,\n",
       "        0.016,  0.002,  0.   ,  0.   ,  0.   ,  0.   ,  0.   ,  0.   ,\n",
       "        0.   ,  0.   ,  0.   ,  0.   ,  0.   ,  0.   ,  0.   ,  0.026,\n",
       "        0.   ,  0.   ,  0.01 ,  0.   ,  0.   ,  0.   ,  0.   ,  0.   ,\n",
       "        0.   ,  0.   ,  0.   ,  0.   ,  0.002,  0.   ,  0.   ,  0.   ,\n",
       "        0.   ,  0.   ,  0.002,  0.092,  0.   ,  0.   ,  0.   ,  0.   ,\n",
       "        0.   ,  0.   ,  0.   ,  0.048,  0.   ,  0.   ,  0.002,  0.   ,\n",
       "        0.   ,  0.   ,  0.   ,  0.   ,  0.   ,  0.   ,  0.   ,  0.   ,\n",
       "        0.   ,  0.   ,  0.   ,  0.   ,  0.   ,  0.   ,  0.   ,  0.   ,\n",
       "        0.   ,  0.   ,  0.006,  0.   ,  0.   ,  0.   ,  0.   ,  0.   ,\n",
       "        0.   ,  0.   ,  0.   ,  0.   ,  0.   ,  0.   ,  0.   ,  0.   ,\n",
       "        0.068,  0.002,  0.   ,  0.036,  0.082,  0.012,  0.   ,  0.   ,\n",
       "        0.   ,  0.   ,  0.   ,  0.   ,  0.   ,  0.122,  0.   ,  0.   ,\n",
       "        0.   ,  0.008,  0.   ,  0.   ,  0.   ,  0.   ,  0.   ,  0.   ,\n",
       "        0.   ,  0.   ,  0.   ,  0.02 ,  0.   ,  0.   ,  0.   ,  0.   ,\n",
       "        0.   ,  0.002,  0.   ,  0.   ,  0.   ,  0.   ,  0.   ,  0.   ], dtype=float32)"
      ]
     },
     "execution_count": 16,
     "metadata": {},
     "output_type": "execute_result"
    }
   ],
   "source": []
  },
  {
   "cell_type": "code",
   "execution_count": null,
   "metadata": {
    "collapsed": true
   },
   "outputs": [],
   "source": [
    "\n",
    "scores = evaluate(ann_GoT, nicknames2name_GoT, XGBClassifier(n_estimators=100))\n",
    "np.mean(scores)"
   ]
  },
  {
   "cell_type": "code",
   "execution_count": null,
   "metadata": {},
   "outputs": [],
   "source": []
  },
  {
   "cell_type": "code",
   "execution_count": 30,
   "metadata": {},
   "outputs": [],
   "source": [
    "with open(\"../flat_data/Warbreaker.json\",\"r\") as fh:\n",
    "    warbreaker = json.load(fh)"
   ]
  },
  {
   "cell_type": "code",
   "execution_count": 31,
   "metadata": {},
   "outputs": [
    {
     "data": {
      "text/plain": [
       "[('Brandon Sanderson',\n",
       "  '\\nIntroduction to WARBREAKER\\nWelcome!  My name is Brandon Sanderson.  Before anything else, I’d like to thank you for your in'),\n",
       " ('Breath',\n",
       "  '\\nPrologue\\nIt’s funny,  Vasher thought,  how many things begin with me getting thrown into prison. \\nThe guards laughed to one'),\n",
       " ('Austre',\n",
       "  '\\nChapter One\\nThere were great advantages to being unimportant.\\nTrue, by many people’s standards, Siri wasn’t ‘unimportant.’ '),\n",
       " ('Dedelin',\n",
       "  '\\nChapter Two\\nSiri sat, stunned, in a rattling carriage, her homeland growing more and more distant with each bump and shake.'),\n",
       " ('Hallandren',\n",
       "  '\\nChapter Three\\nLightsong didn’t remember dying.\\nHis priests, however, assured him that his death had been extremely inspirin'),\n",
       " ('Father',\n",
       "  '\\nChapter Four\\nSiri’s carriage rolled to a stop outside of T’Telir, capital of Hallandren.  She stared out the window and rea'),\n",
       " ('Gods',\n",
       "  '\\nChapter Five\\nThis will complicate things,  Vasher thought, standing in the shadows atop the wall that enclosed the Court of'),\n",
       " ('Vessel',\n",
       "  '\\nChapter Six\\nSiri stepped from the carriage.  Immediately, dozens of servants in blue and silver swarmed around her, pulling'),\n",
       " ('Kalad',\n",
       "  '\\nChapter Seven\\nThe door shut behind her.\\nA large fire growled in a hearth to her left, bringing a shifting orange light to t'),\n",
       " ('Vessel',\n",
       "  '\\nChapter Eight\\nSiri groaned, rolling over.  Her back hurt, her arms hurt, and her head hurt.  In fact, she was so uncomforta'),\n",
       " ('Denth',\n",
       "  '\\nChapter Nine\\nVivenna--firstborn child of Dedelin, King of Idris--gazed upon the grand city of T’Telir.\\nIt was the ugliest p'),\n",
       " ('Lemex',\n",
       "  '\\nChapter Ten\\nVivenna’s hair instantly bleached to a stark white.\\nThink!  she told herself.  You’ve been trained in politics!'),\n",
       " ('Vivenna',\n",
       "  '\\nChapter Eleven\\n“But surely we can bend the rules a little bit,” Siri said, walking quickly beside Treledees.\\nTreledees eyed'),\n",
       " ('Hallandren',\n",
       "  '\\nChapter Twelve\\nEventually, Lightsong had to hear Petitions.\\nIt was annoying, since the Wedding Jubilation wouldn’t even be '),\n",
       " ('Denth',\n",
       "  '\\nChapter Thirteen“I’ll give it away,” Vivenna said firmly.\\nShe sat with the mercenaries in Lemex’s home.  It was the day aft'),\n",
       " ('Lemex',\n",
       "  '\\nChapter Fourteen\\n“It’s raining,” Lightsong noted.\\n“Very astute, your grace,” Llarimar said, walking beside his god.\\n“I’m no'),\n",
       " ('Lightsong',\n",
       "  '\\nChapter Fifteen\\nBreath catching in her chest, Siri turned.  She found  him standing behind her, though she had no idea how '),\n",
       " ('Treledees',\n",
       "  '\\nChapter Sixteen\\n“. . .still say that we cannot  possibly justify military action against Idris!” a priest shouted.  The man'),\n",
       " ('Siri',\n",
       "  '\\nChapter Seventeen\\nVivenna walked back toward Lemk’s house, dissecting the argument she’d heard at the Court of Gods.  Her t'),\n",
       " ('Blushweaver',\n",
       "  '\\nChapter Eighteen\\nSiri stood before the door to her husband’s bed chambers, shuffling nervously.  As usual, Bluefingers stoo'),\n",
       " ('Vahr',\n",
       "  '\\nChapter Nineteen\\n“This is nice,” Denth said, looking over the house.  “Strong wood paneling.  Will break very cleanly.”\\n“Ye'),\n",
       " ('Breath',\n",
       "  '\\nChapter Twenty\\nFor the first time in her several weeks at the palace, Siri stood before the God King’s door and felt neithe'),\n",
       " ('Lifeless',\n",
       "  '\\nChapter Twenty-one\\nVasher stood atop the palace of the God King, watching the sun drop above the western rainforest.  The s'),\n",
       " ('Lemex',\n",
       "  '\\nChapter Twenty-Two\\nWeatherlove, god of storms, selected one of the wooden spheres from the rack, then hefted it in his hand'),\n",
       " ('Mercystar',\n",
       "  '\\nChapter Twenty-Three\\nLightsong found Blushweaver in the grassy portion of the courtyard behind her palace.\\nShe was enjoying'),\n",
       " ('Treledees',\n",
       "  '\\nChapter Twenty-Four\\nSiri’s servants clustered around her uncertainly as she walked into the chaotic room.  She wore a blue '),\n",
       " ('Jewels',\n",
       "  '\\nChapter Twenty-Five\\nVivenna went among the people of T’Telir and couldn’t help feeling that every one of them recognized he'),\n",
       " ('Beblin',\n",
       "  '\\nChapter Twenty-Six\\nLightsong awoke and immediately climbed from bed.  He stood up, stretched, and smiled.  “Beautiful day,”'),\n",
       " ('Vivenna',\n",
       "  '\\nChapter Twenty-Seven\\nSomething happened to those previous God Kings,  Siri thought, striding through the endless rooms of t'),\n",
       " ('Fifth Vision',\n",
       "  '\\nChapter Twenty-Eight“The meeting is set, my lady,” Thame said.  “The men are eager.  Your work in T’Telir is gaining more a'),\n",
       " ('Denth',\n",
       "  '\\nChapter Twenty-Nine\\nTell me about the mountains,  Susebron wrote.\\nSiri smiled.  “Mountains?”\\nPlease,  he wrote, sitting in '),\n",
       " ('Stability',\n",
       "  '\\nChapter Thirty\\n“Lightsong!” Blushweaver said, hands on hips.  “What in the name of the Iridescent Tones are you doing?”\\nLig'),\n",
       " ('Vahr',\n",
       "  '\\nChapter Thirty-One\\n“I feel I have to ask one more time,” Denth said.  “Do we  have to go through with this?”\\nDenth walked w'),\n",
       " ('Hallandren',\n",
       "  '\\nChapter Thirty-Two\\nHe was always gone when Siri awoke.\\nShe lay in the deep, well-stuffed bed, morning light streaming throu'),\n",
       " ('Siri',\n",
       "  '\\nChapter Thirty-Three\\nJewels worked quietly, ignoring Vivenna and pulling another stitch tight.  Clod’s guts--\\nintestines, s'),\n",
       " ('Siri',\n",
       "  '\\nChapter Thirty-Four\\nLightsong watched the young queen dart away from his pavilion and felt an odd sense of guilt.  How very'),\n",
       " ('Denth',\n",
       "  '\\nChapter Thirty-Five\\nVivenna awoke sore, tired, and terrified.  She tried struggling, but her hands and legs were tied.  She'),\n",
       " ('Breath',\n",
       "  '\\nChapter Thirty-Six\\nI will not leave you,  Susebron wrote, sitting on the floor beside the bed, his back propped up by pillo'),\n",
       " ('Denth',\n",
       "  '\\nChapter Thirty-Seven\\nIn the slums it could seem like night, even during the full light of day.\\nVivenna wandered, aimless, s'),\n",
       " ('Lightsong',\n",
       "  '\\nChapter Thirty-Eight\\nLightsong sat on the edge of his bed, sweat thick on his brow as he stared down at the floor in front '),\n",
       " ('Denth',\n",
       "  '\\nChapter Thirty-Nine\\nA week living in the gutters served to drastically change Vivenna’s perspective on life.\\nShe sold her h'),\n",
       " ('Hallandren',\n",
       "  '\\nChapter Forty\\nSiri was enjoying a meal on the Court green when Treledees found her.  She ignored him, content to pick at th'),\n",
       " ('Denth',\n",
       "  '\\nChapter Forty-One\\nVivenna presented her coin.\\n“One bit?” Cads asked.  “That’s all?  One  single bit?”  He was among the dir'),\n",
       " ('Nobody',\n",
       "  '\\nChapter Forty-Two\\n“Her Grace is not interested in seeing you,” the priestess said, maintaining a reverent posture.\\n“Well I’'),\n",
       " ('Austre',\n",
       "  '\\nChapter Forty-Three\\nVivenna awoke, sick, tired, thirsty, starving.\\nBut alive.\\nShe opened her eyes, feeling a strange sensat'),\n",
       " ('Susebron',\n",
       "  '\\nChapter Forty-Four\\nSiri watched Susebron with affection as he ate a third dessert.  Their night’s meal lay spread out on th'),\n",
       " ('Awakened',\n",
       "  '\\nChapter Forty-Six\\nVivenna choked down her meal.  The dried meat tasted strongly of fish, but she had learned that by breath'),\n",
       " ('Lifeless',\n",
       "  '\\nChapter Forty-Seven\\nLightsong tried not to think about his dreams.  He tried not to think about T’Telir in flames.  Of peop'),\n",
       " ('Breaths',\n",
       "  '\\nChapter Forty-Eight\\nSusebron didn’t leave in the mornings anymore.\\nSiri lay in the bed beside him, curled slightly, her ski'),\n",
       " ('Tonk Fah',\n",
       "  '\\nChapter Forty-Nine\\nVasher found her practicing again.\\nHe hovered outside the window, lowered down from the roof via an Awak'),\n",
       " ('Siri',\n",
       "  '\\nChapter Fifty\\n“And so we each have twenty-thousand,” Blushweaver said, walking beside Lightsong on the stone pathway that l'),\n",
       " ('Denth',\n",
       "  '\\nChapter Fifty-One\\nI’m glad you came back for me,  Nightblood said.  It was very lonely in that closet. \\nVasher didn’t reply'),\n",
       " ('Blushweaver',\n",
       "  '\\nChapter Fifty-Two\\nLightsong sat in one of the rooms of his palace, surrounded by finery, a cup of wine in his hand.  Despit'),\n",
       " ('Denth',\n",
       "  '\\nChapter Fifty-Three\\nVivenna waited up for Vasher.  He did not return.\\nShe paced in the small, one-room hideout--the sixth i'),\n",
       " ('Denth',\n",
       "  '\\nChapter Fifty-Four\\n“What’s the word on the street, Tuft?” Vivenna asked, sidling up to a beggar.\\nHe snorted, holding out hi'),\n",
       " ('Yesteel',\n",
       "  '\\nChapter Fifty-Five\\n“There is fighting at the front gates, your grace,” the bloodied soldier said.  “The insurgents are figh'),\n",
       " ('Vivenna',\n",
       "  '\\nChapter Fifty-Six\\nVivenna hung outside the window, breathing deeply, sweating heavily.  She’d peeked inside.  Denth was in '),\n",
       " ('Pahn Kahl',\n",
       "  '\\nChapter Fifty-Seven\\nBluefingers led Siri--held by several Lifeless--up to the fourth floor of the palace.  The top floor.  '),\n",
       " ('Lightsong',\n",
       "  '\\nChapter Fifty-Eight\\nThe closet door opened, letting in lanternlight.  Vivenna looked up, gagged and bound, at Vasher’s silh'),\n",
       " ('Susebron',\n",
       "  '\\nEpilogue\\nThe next day, an army of a thousand stone soldiers charged from the gates of the city, running down the highway af'),\n",
       " ('Jaddeth',\n",
       "  '\\nPart One: The Shadow of Elantris\\nSanderson/Warbreaker/754\\nChapter One \\n\\xa0\\nPrince Raoden of Arelon awoke early that morning, '),\n",
       " ('Shum',\n",
       "  '\\nBook One: The Final Empire\\n(Originally published in 2006, this is the first of my epic fantasy trilogy.  The paperback was '),\n",
       " ('Mr. Bagsworth',\n",
       "  '\\nPart One:  The Survivor of Hathsin\\nSanderson/Warbreaker/818\\nI consider myself to be a man of principle.  But, what man does')]"
      ]
     },
     "execution_count": 31,
     "metadata": {},
     "output_type": "execute_result"
    }
   ],
   "source": [
    "cls = joblib.load(\"trained_models/GoT-no-headings.pkl\")\n",
    "warbreaker_characters = run_classifier(extract_texts_and_characters(warbreaker)[0], \n",
    "                       classifier=cls,)\n",
    "ann_warbreaker = [(char, datum['text'][1:125]) for char,datum in zip(warbreaker_characters, warbreaker)]\n",
    "ann_warbreaker"
   ]
  },
  {
   "cell_type": "code",
   "execution_count": 32,
   "metadata": {},
   "outputs": [
    {
     "ename": "NameError",
     "evalue": "name 'classifier' is not defined",
     "output_type": "error",
     "traceback": [
      "\u001b[0;31m---------------------------------------------------------------------------\u001b[0m",
      "\u001b[0;31mNameError\u001b[0m                                 Traceback (most recent call last)",
      "\u001b[0;32m<ipython-input-32-2ac22d2fe04e>\u001b[0m in \u001b[0;36m<module>\u001b[0;34m()\u001b[0m\n\u001b[0;32m----> 1\u001b[0;31m \u001b[0;32mfor\u001b[0m \u001b[0mimp\u001b[0m\u001b[0;34m,\u001b[0m \u001b[0mname\u001b[0m \u001b[0;32min\u001b[0m \u001b[0mzip\u001b[0m\u001b[0;34m(\u001b[0m\u001b[0mclassifier\u001b[0m\u001b[0;34m.\u001b[0m\u001b[0mfeature_importances_\u001b[0m\u001b[0;34m,\u001b[0m \u001b[0mFeatureVec\u001b[0m\u001b[0;34m(\u001b[0m\u001b[0;34m)\u001b[0m\u001b[0;34m.\u001b[0m\u001b[0mkeys\u001b[0m\u001b[0;34m(\u001b[0m\u001b[0;34m)\u001b[0m\u001b[0;34m)\u001b[0m\u001b[0;34m:\u001b[0m\u001b[0;34m\u001b[0m\u001b[0m\n\u001b[0m\u001b[1;32m      2\u001b[0m     \u001b[0mprint\u001b[0m\u001b[0;34m(\u001b[0m\u001b[0mname\u001b[0m\u001b[0;34m,\u001b[0m \u001b[0;34m\"\\t\"\u001b[0m\u001b[0;34m,\u001b[0m \u001b[0mimp\u001b[0m \u001b[0;34m)\u001b[0m\u001b[0;34m\u001b[0m\u001b[0m\n",
      "\u001b[0;31mNameError\u001b[0m: name 'classifier' is not defined"
     ]
    }
   ],
   "source": [
    "for imp, name in zip(classifier.feature_importances_, FeatureVec().keys()):\n",
    "    print(name, \"\\t\", imp )"
   ]
  },
  {
   "cell_type": "code",
   "execution_count": null,
   "metadata": {},
   "outputs": [],
   "source": []
  },
  {
   "cell_type": "code",
   "execution_count": null,
   "metadata": {
    "collapsed": true
   },
   "outputs": [],
   "source": []
  },
  {
   "cell_type": "code",
   "execution_count": null,
   "metadata": {
    "collapsed": true
   },
   "outputs": [],
   "source": []
  },
  {
   "cell_type": "code",
   "execution_count": null,
   "metadata": {
    "collapsed": true
   },
   "outputs": [],
   "source": []
  },
  {
   "cell_type": "code",
   "execution_count": null,
   "metadata": {
    "collapsed": true
   },
   "outputs": [],
   "source": []
  }
 ],
 "metadata": {
  "kernelspec": {
   "display_name": "Python 3",
   "language": "python",
   "name": "python3"
  },
  "language_info": {
   "codemirror_mode": {
    "name": "ipython",
    "version": 3
   },
   "file_extension": ".py",
   "mimetype": "text/x-python",
   "name": "python",
   "nbconvert_exporter": "python",
   "pygments_lexer": "ipython3",
   "version": "3.4.2"
  }
 },
 "nbformat": 4,
 "nbformat_minor": 1
}
